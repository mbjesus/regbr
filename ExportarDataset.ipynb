{
 "cells": [
  {
   "cell_type": "code",
   "execution_count": 1,
   "id": "019057b0",
   "metadata": {},
   "outputs": [],
   "source": [
    "from pymongo import MongoClient\n",
    "import os\n",
    "from pathlib import Path\n",
    "import pandas as pd"
   ]
  },
  {
   "cell_type": "code",
   "execution_count": 2,
   "id": "1fb38325",
   "metadata": {},
   "outputs": [],
   "source": [
    "BASE_DIR = Path(os.path.abspath('')).resolve()"
   ]
  },
  {
   "cell_type": "markdown",
   "id": "ad83cfa7",
   "metadata": {},
   "source": [
    "### Get Dataset\n"
   ]
  },
  {
   "cell_type": "code",
   "execution_count": 3,
   "id": "ce519348",
   "metadata": {},
   "outputs": [
    {
     "name": "stdout",
     "output_type": "stream",
     "text": [
      "<class 'pandas.core.frame.DataFrame'>\n",
      "Int64Index: 7182 entries, 0 to 7181\n",
      "Data columns (total 12 columns):\n",
      " #   Column               Non-Null Count  Dtype  \n",
      "---  ------               --------------  -----  \n",
      " 0   path                 7182 non-null   object \n",
      " 1   id_doc_base          7182 non-null   object \n",
      " 2   name                 7182 non-null   object \n",
      " 3   esfera               7182 non-null   object \n",
      " 4   cat                  7182 non-null   object \n",
      " 5   ementa               7182 non-null   object \n",
      " 6   id_sentenca          7181 non-null   object \n",
      " 7   ordem                7181 non-null   float64\n",
      " 8   tokens_total         7181 non-null   float64\n",
      " 9   tokens_no_stopwords  7181 non-null   float64\n",
      " 10  cat_sentenca         7181 non-null   object \n",
      " 11  text_sentenca        7181 non-null   object \n",
      "dtypes: float64(3), object(9)\n",
      "memory usage: 729.4+ KB\n"
     ]
    }
   ],
   "source": [
    "dfSentencas = pd.read_parquet(Path(os.path.join(BASE_DIR,'dataset', 'processed','legislacao_base_sentencas.parquet')), engine='fastparquet')\n",
    "dfSentencas.info()"
   ]
  },
  {
   "cell_type": "code",
   "execution_count": 4,
   "id": "1fe6ccdd",
   "metadata": {},
   "outputs": [
    {
     "name": "stdout",
     "output_type": "stream",
     "text": [
      "<class 'pandas.core.frame.DataFrame'>\n",
      "Int64Index: 1085 entries, 0 to 1084\n",
      "Data columns (total 12 columns):\n",
      " #   Column               Non-Null Count  Dtype  \n",
      "---  ------               --------------  -----  \n",
      " 0   path                 1085 non-null   object \n",
      " 1   id_doc_base          1085 non-null   object \n",
      " 2   name                 1085 non-null   object \n",
      " 3   esfera               1085 non-null   object \n",
      " 4   cat                  1085 non-null   object \n",
      " 5   ementa               1085 non-null   object \n",
      " 6   id_sentenca          1084 non-null   object \n",
      " 7   ordem                1084 non-null   float64\n",
      " 8   tokens_total         1084 non-null   float64\n",
      " 9   tokens_no_stopwords  1084 non-null   float64\n",
      " 10  cat_sentenca         1084 non-null   object \n",
      " 11  text_sentenca        1084 non-null   object \n",
      "dtypes: float64(3), object(9)\n",
      "memory usage: 110.2+ KB\n"
     ]
    }
   ],
   "source": [
    "dfTS = dfSentencas[dfSentencas['cat']=='terceiro_setor']\n",
    "dfTS.info()"
   ]
  },
  {
   "cell_type": "code",
   "execution_count": 5,
   "id": "a409e1ff",
   "metadata": {},
   "outputs": [],
   "source": [
    "listaDfDocs = []\n",
    "nrDocs = 2500\n",
    "\n",
    "##Gerar docs\n",
    "for i in range(0,nrDocs):\n",
    "    \n",
    "    maxIteration = 10\n",
    "    totalToken = 0\n",
    "    nrIteration = 0\n",
    "    dfText = pd.DataFrame()\n",
    "    \n",
    "    while totalToken < 512:\n",
    "        \n",
    "        dfSample = dfTS.sample(replace=False)\n",
    "        dfSample_tokens_total = dfSample[\"tokens_no_stopwords\"].iloc[0]\n",
    "        dfText = pd.concat([dfText,dfSample])\n",
    "        \n",
    "        totalToken = totalToken + dfSample_tokens_total\n",
    "\n",
    "        if(nrIteration > maxIteration):\n",
    "            break\n",
    "        \n",
    "        nrIteration = nrIteration + 1\n",
    "\n",
    "    listaDfDocs.append(dfText)\n"
   ]
  },
  {
   "cell_type": "code",
   "execution_count": 6,
   "id": "c77e1be6",
   "metadata": {},
   "outputs": [],
   "source": [
    "listaIdDocBase = []\n",
    "listaIdSentenca = []\n",
    "for dfTextProc in listaDfDocs:\n",
    "    for index,row in dfTextProc.iterrows():\n",
    "        listaIdDocBase.append(row[\"id_doc_base\"])\n",
    "        listaIdSentenca.append(row[\"id_sentenca\"])\n",
    "        "
   ]
  },
  {
   "cell_type": "code",
   "execution_count": 7,
   "id": "f268b97d",
   "metadata": {},
   "outputs": [],
   "source": [
    "countDocBase = [[x,listaIdDocBase.count(x)] for x in set(listaIdDocBase)]\n",
    "countSentenca = [[x,listaIdSentenca.count(x)] for x in set(listaIdSentenca)]"
   ]
  },
  {
   "cell_type": "code",
   "execution_count": 8,
   "id": "a5f63c25",
   "metadata": {},
   "outputs": [],
   "source": [
    "import matplotlib.pyplot as plt\n",
    "import seaborn as sns\n",
    "plt.style.use('ggplot')"
   ]
  },
  {
   "cell_type": "code",
   "execution_count": 17,
   "id": "9f50f6e4",
   "metadata": {},
   "outputs": [
    {
     "data": {
      "text/plain": [
       "<AxesSubplot:ylabel='Count'>"
      ]
     },
     "execution_count": 17,
     "metadata": {},
     "output_type": "execute_result"
    },
    {
     "data": {
      "image/png": "[encoded data removed]",
      "text/plain": [
       "<Figure size 2570.4x307.44 with 1 Axes>"
      ]
     },
     "metadata": {},
     "output_type": "display_data"
    }
   ],
   "source": [
    "sns.set(rc={'figure.figsize':(35.7,4.27)})\n",
    "sns.histplot(data=listaIdDocBase, discrete=True)"
   ]
  },
  {
   "cell_type": "code",
   "execution_count": 18,
   "id": "a45a3bee",
   "metadata": {},
   "outputs": [
    {
     "data": {
      "text/plain": [
       "<AxesSubplot:ylabel='Count'>"
      ]
     },
     "execution_count": 18,
     "metadata": {},
     "output_type": "execute_result"
    },
    {
     "data": {
      "image/png": "[encoded data removed]",
      "text/plain": [
       "<Figure size 2570.4x307.44 with 1 Axes>"
      ]
     },
     "metadata": {},
     "output_type": "display_data"
    }
   ],
   "source": [
    "sns.set(rc={'figure.figsize':(35.7,4.27)})\n",
    "sns.histplot(data=listaIdSentenca, discrete=True)"
   ]
  },
  {
   "cell_type": "code",
   "execution_count": 58,
   "id": "610032bc",
   "metadata": {},
   "outputs": [],
   "source": [
    "dfTreino = pd.DataFrame()\n",
    "\n",
    "for dfTextProc in listaDfDocs:\n",
    "    txtList = dfTextProc[\"text_sentenca\"].to_list()\n",
    "\n",
    "    ##Drop None\n",
    "    txtList = [x for x in txtList if x is not None]\n",
    "    \n",
    "    try:\n",
    "        txt = ' '.join(txtList)\n",
    "    except Exception as e:\n",
    "        print(e, txtList)\n",
    "\n",
    "    reg = {  \"cat\":\"terceiro_setor\"\n",
    "            ,\"text\":txt\n",
    "        }\n",
    "        \n",
    "    dfTreino = pd.concat([dfTreino,pd.DataFrame([reg])])\n",
    "    \n",
    "  "
   ]
  },
  {
   "cell_type": "code",
   "execution_count": 59,
   "id": "8816393d",
   "metadata": {},
   "outputs": [
    {
     "name": "stdout",
     "output_type": "stream",
     "text": [
      "<class 'pandas.core.frame.DataFrame'>\n",
      "Int64Index: 2500 entries, 0 to 0\n",
      "Data columns (total 2 columns):\n",
      " #   Column  Non-Null Count  Dtype \n",
      "---  ------  --------------  ----- \n",
      " 0   cat     2500 non-null   object\n",
      " 1   text    2500 non-null   object\n",
      "dtypes: object(2)\n",
      "memory usage: 58.6+ KB\n"
     ]
    }
   ],
   "source": [
    "dfTreino.info()"
   ]
  },
  {
   "cell_type": "code",
   "execution_count": 61,
   "id": "1c243536",
   "metadata": {},
   "outputs": [
    {
     "data": {
      "text/html": [
       "<div>\n",
       "<style scoped>\n",
       "    .dataframe tbody tr th:only-of-type {\n",
       "        vertical-align: middle;\n",
       "    }\n",
       "\n",
       "    .dataframe tbody tr th {\n",
       "        vertical-align: top;\n",
       "    }\n",
       "\n",
       "    .dataframe thead th {\n",
       "        text-align: right;\n",
       "    }\n",
       "</style>\n",
       "<table border=\"1\" class=\"dataframe\">\n",
       "  <thead>\n",
       "    <tr style=\"text-align: right;\">\n",
       "      <th></th>\n",
       "      <th>cat</th>\n",
       "      <th>text</th>\n",
       "    </tr>\n",
       "  </thead>\n",
       "  <tbody>\n",
       "    <tr>\n",
       "      <th>0</th>\n",
       "      <td>terceiro_setor</td>\n",
       "      <td>Para os efeitos desta Lei, considera-se sem fi...</td>\n",
       "    </tr>\n",
       "    <tr>\n",
       "      <th>0</th>\n",
       "      <td>terceiro_setor</td>\n",
       "      <td>III C) A ENTIDADE BENEFICIÁRIA DEVERÁ SER ORGA...</td>\n",
       "    </tr>\n",
       "  </tbody>\n",
       "</table>\n",
       "</div>"
      ],
      "text/plain": [
       "              cat                                               text\n",
       "0  terceiro_setor  Para os efeitos desta Lei, considera-se sem fi...\n",
       "0  terceiro_setor  III C) A ENTIDADE BENEFICIÁRIA DEVERÁ SER ORGA..."
      ]
     },
     "execution_count": 61,
     "metadata": {},
     "output_type": "execute_result"
    }
   ],
   "source": [
    "dfTreino.head(2)"
   ]
  },
  {
   "cell_type": "markdown",
   "id": "53dc33c7",
   "metadata": {},
   "source": [
    "### Gerar Outras Categorias"
   ]
  },
  {
   "cell_type": "code",
   "execution_count": 62,
   "id": "4a207b7e",
   "metadata": {},
   "outputs": [
    {
     "name": "stdout",
     "output_type": "stream",
     "text": [
      "<class 'pandas.core.frame.DataFrame'>\n",
      "Int64Index: 6097 entries, 1085 to 7181\n",
      "Data columns (total 12 columns):\n",
      " #   Column               Non-Null Count  Dtype  \n",
      "---  ------               --------------  -----  \n",
      " 0   path                 6097 non-null   object \n",
      " 1   id_doc_base          6097 non-null   object \n",
      " 2   name                 6097 non-null   object \n",
      " 3   esfera               6097 non-null   object \n",
      " 4   cat                  6097 non-null   object \n",
      " 5   ementa               6097 non-null   object \n",
      " 6   id_sentenca          6097 non-null   object \n",
      " 7   ordem                6097 non-null   float64\n",
      " 8   tokens_total         6097 non-null   float64\n",
      " 9   tokens_no_stopwords  6097 non-null   float64\n",
      " 10  cat_sentenca         6097 non-null   object \n",
      " 11  text_sentenca        6097 non-null   object \n",
      "dtypes: float64(3), object(9)\n",
      "memory usage: 619.2+ KB\n"
     ]
    }
   ],
   "source": [
    "dfOutros = dfSentencas[dfSentencas['cat']!='terceiro_setor']\n",
    "dfOutros.info()"
   ]
  },
  {
   "cell_type": "code",
   "execution_count": 63,
   "id": "f2e02838",
   "metadata": {},
   "outputs": [],
   "source": [
    "listaDfDocs = []\n",
    "nrDocs = 2500\n",
    "##Gerar docs\n",
    "for i in range(0,nrDocs):\n",
    "    \n",
    "    maxIteration = 10\n",
    "    totalToken = 0\n",
    "    nrIteration = 0\n",
    "    dfText = pd.DataFrame()\n",
    "    \n",
    "    while totalToken < 512:\n",
    "        \n",
    "        dfSample = dfOutros.sample(replace=False)\n",
    "        dfSample_tokens_total = dfSample[\"tokens_no_stopwords\"].iloc[0]\n",
    "        dfText = pd.concat([dfText,dfSample])\n",
    "        \n",
    "        totalToken = totalToken + dfSample_tokens_total\n",
    "\n",
    "        if(nrIteration > maxIteration):\n",
    "            break\n",
    "        \n",
    "        nrIteration = nrIteration + 1\n",
    "\n",
    "    listaDfDocs.append(dfText)\n"
   ]
  },
  {
   "cell_type": "code",
   "execution_count": 65,
   "id": "ec6911b7",
   "metadata": {},
   "outputs": [],
   "source": [
    "listaIdDocBase = []\n",
    "listaIdSentenca = []\n",
    "for dfTextProc in listaDfDocs:\n",
    "    for index,row in dfTextProc.iterrows():\n",
    "        listaIdDocBase.append(row[\"id_doc_base\"])\n",
    "        listaIdSentenca.append(row[\"id_sentenca\"])\n",
    "        "
   ]
  },
  {
   "cell_type": "code",
   "execution_count": 66,
   "id": "478c63e9",
   "metadata": {},
   "outputs": [],
   "source": [
    "countDocBase = [[x,listaIdDocBase.count(x)] for x in set(listaIdDocBase)]\n",
    "countSentenca = [[x,listaIdSentenca.count(x)] for x in set(listaIdSentenca)]"
   ]
  },
  {
   "cell_type": "code",
   "execution_count": 67,
   "id": "e750a20d",
   "metadata": {},
   "outputs": [],
   "source": [
    "import matplotlib.pyplot as plt\n",
    "import seaborn as sns\n",
    "plt.style.use('ggplot')"
   ]
  },
  {
   "cell_type": "code",
   "execution_count": 72,
   "id": "4bdbc848",
   "metadata": {},
   "outputs": [
    {
     "data": {
      "text/plain": [
       "<AxesSubplot:ylabel='Count'>"
      ]
     },
     "execution_count": 72,
     "metadata": {},
     "output_type": "execute_result"
    },
    {
     "data": {
      "image/png": "[encoded data removed]",
      "text/plain": [
       "<Figure size 1490.4x307.44 with 1 Axes>"
      ]
     },
     "metadata": {},
     "output_type": "display_data"
    }
   ],
   "source": [
    "sns.set(rc={'figure.figsize':(20.7,4.27)})\n",
    "sns.histplot(data=listaIdDocBase, discrete=True)"
   ]
  },
  {
   "cell_type": "code",
   "execution_count": 75,
   "id": "dcb8478e",
   "metadata": {},
   "outputs": [],
   "source": [
    "for dfTextProc in listaDfDocs:\n",
    "    txtList = dfTextProc[\"text_sentenca\"].to_list()\n",
    "    txt = ' '.join(txtList)\n",
    "    \n",
    "    ##Drop None\n",
    "    txtList = [x for x in txtList if x is not None]\n",
    "\n",
    "    reg = {  \"cat\":\"outros\"\n",
    "             ,\"text\":txt\n",
    "          }\n",
    "        \n",
    "    dfTreino = pd.concat([dfTreino,pd.DataFrame([reg])])\n",
    "  "
   ]
  },
  {
   "cell_type": "code",
   "execution_count": 76,
   "id": "b225195d",
   "metadata": {},
   "outputs": [
    {
     "name": "stdout",
     "output_type": "stream",
     "text": [
      "<class 'pandas.core.frame.DataFrame'>\n",
      "Int64Index: 5000 entries, 0 to 0\n",
      "Data columns (total 2 columns):\n",
      " #   Column  Non-Null Count  Dtype \n",
      "---  ------  --------------  ----- \n",
      " 0   cat     5000 non-null   object\n",
      " 1   text    5000 non-null   object\n",
      "dtypes: object(2)\n",
      "memory usage: 117.2+ KB\n"
     ]
    }
   ],
   "source": [
    "dfTreino.info()"
   ]
  },
  {
   "cell_type": "code",
   "execution_count": 77,
   "id": "0cd5209b",
   "metadata": {},
   "outputs": [],
   "source": [
    "\n",
    "## Saving dataset\n",
    "dfTreino.to_parquet(Path(os.path.join(BASE_DIR,'dataset', 'processed','dataset_treino.parquet')), engine='fastparquet')"
   ]
  }
 ],
 "metadata": {
  "kernelspec": {
   "display_name": "Python 3.8.13 ('regbrvenv')",
   "language": "python",
   "name": "python3"
  },
  "language_info": {
   "codemirror_mode": {
    "name": "ipython",
    "version": 3
   },
   "file_extension": ".py",
   "mimetype": "text/x-python",
   "name": "python",
   "nbconvert_exporter": "python",
   "pygments_lexer": "ipython3",
   "version": "3.8.13"
  },
  "vscode": {
   "interpreter": {
    "hash": "601ca906c358f79a24be79d158e974197a945b5107ea69cef8e74e43057d606c"
   }
  }
 },
 "nbformat": 4,
 "nbformat_minor": 5
}
