{
 "cells": [
  {
   "cell_type": "code",
   "execution_count": 4,
   "metadata": {},
   "outputs": [],
   "source": [
    "### https://pyfpdf.readthedocs.io/en/latest/Tutorial/index.html\n",
    "\n",
    "from fpdf import FPDF\n",
    "from src.mongodbclient import MongoDbClient\n",
    "from src.cfgparser import getMongoDbStrConn\n",
    "import os\n",
    "from pathlib import Path\n",
    "import pandas as pd"
   ]
  },
  {
   "cell_type": "code",
   "execution_count": 2,
   "metadata": {},
   "outputs": [],
   "source": [
    "BASE_DIR = Path(os.path.abspath('')).resolve()"
   ]
  },
  {
   "cell_type": "code",
   "execution_count": 3,
   "metadata": {},
   "outputs": [],
   "source": [
    "mongoClient = MongoDbClient(getMongoDbStrConn())\n",
    "\n",
    "mongoRegBrCollection = mongoClient.getCollection('regbr','regbr_full_db')\n",
    "mongoRegBrSentenceCollection = mongoClient.getCollection('regbr','regbr_sentences')"
   ]
  },
  {
   "cell_type": "code",
   "execution_count": 49,
   "metadata": {},
   "outputs": [],
   "source": [
    "dfpredict_15082022_v1 = pd.read_excel(Path(os.path.join(BASE_DIR,'dataset','predicted','predict_15082022_v1.xlsx')))\n",
    "dfpredict_15082022_v1 = dfpredict_15082022_v1[[\"FP\",\"id_sentenca\",\"id_doc_base\"]].copy()\n",
    "dfpredict_15082022_v1 = dfpredict_15082022_v1[dfpredict_15082022_v1[\"FP\"]==0]\n",
    "\n",
    "\n",
    "dfpredict_12082022_v1 = pd.read_excel(Path(os.path.join(BASE_DIR,'dataset','predicted','predict_12082022_v1.xlsx')))\n",
    "dfpredict_12082022_v1 = dfpredict_12082022_v1[[\"FP\",\"id_sentenca\",\"id_doc_base\"]].copy()\n",
    "dfpredict_12082022_v1 = dfpredict_12082022_v1[dfpredict_12082022_v1[\"FP\"]==0]\n",
    "\n",
    "\n",
    "dfSentencas = pd.concat([dfpredict_15082022_v1,dfpredict_12082022_v1])"
   ]
  },
  {
   "cell_type": "code",
   "execution_count": 50,
   "metadata": {},
   "outputs": [
    {
     "name": "stdout",
     "output_type": "stream",
     "text": [
      "<class 'pandas.core.frame.DataFrame'>\n",
      "Int64Index: 107 entries, 1 to 176\n",
      "Data columns (total 3 columns):\n",
      " #   Column       Non-Null Count  Dtype \n",
      "---  ------       --------------  ----- \n",
      " 0   FP           107 non-null    int64 \n",
      " 1   id_sentenca  107 non-null    object\n",
      " 2   id_doc_base  107 non-null    int64 \n",
      "dtypes: int64(2), object(1)\n",
      "memory usage: 3.3+ KB\n"
     ]
    }
   ],
   "source": [
    "dfSentencas.drop_duplicates(inplace=True)\n",
    "dfSentencas.info()"
   ]
  },
  {
   "cell_type": "code",
   "execution_count": 51,
   "metadata": {},
   "outputs": [],
   "source": [
    "listaDocs = dfSentencas[[\"id_doc_base\"]].drop_duplicates().id_doc_base.to_list()\n",
    "listaIdSentencas = dfSentencas[[\"id_sentenca\"]].drop_duplicates().id_sentenca.to_list()"
   ]
  },
  {
   "cell_type": "code",
   "execution_count": 52,
   "metadata": {},
   "outputs": [],
   "source": [
    "### Create PDF\n",
    "\n",
    "\n",
    "\n",
    "for idDocumento in listaDocs:\n",
    "    \n",
    "    pdf = FPDF('P', 'mm', 'A4')\n",
    "    pdf.add_page()\n",
    "    pdf.set_margins(5, 0, 5)\n",
    "    pdf.set_text_color(0,0,0)\n",
    "    pdf.set_font('Arial', '', 10)\n",
    "\n",
    "    cursor = mongoRegBrCollection.find( {\"id\":idDocumento},{\"id\":1,\"situacao\":1,\"tipo_lei\":1,\"agencia_reguladora\":1,\"ano\":1,\"situacao_infogov\":1}) \n",
    "\n",
    "    for document in cursor:\n",
    "        txt = f'id: {document[\"id\"]}; situacao: {document[\"situacao\"]}; tipo_lei: {document[\"tipo_lei\"]}; '\n",
    "        #pdf.multi_cell(0, 5, txt)\n",
    "        \n",
    "        pdf.cell(0, 5, f'id: {document[\"id\"]}')\n",
    "        pdf.ln()\n",
    "        pdf.cell(0, 5, f'situacao: {document[\"situacao\"]}')\n",
    "        pdf.ln()\n",
    "        pdf.cell(0, 5, f'tipo_lei: {document[\"tipo_lei\"]}')\n",
    "        pdf.ln()\n",
    "        pdf.cell(0, 5, f'agencia_reguladora: {document[\"agencia_reguladora\"]}')\n",
    "        pdf.ln()\n",
    "        pdf.cell(0, 5, f'ano: {document[\"ano\"]}')\n",
    "        pdf.ln()\n",
    "        pdf.cell(0, 5, f'situacao_infogov: {document[\"situacao_infogov\"]}')\n",
    "        pdf.ln(10)\n",
    "        # Adds a line beginning at point (10,30) and ending at point (110,30)\n",
    "        pdf.line(5, 45, 205, 45)\n",
    "\n",
    "    cursor = mongoRegBrSentenceCollection.find( {\"id_doc_base\":idDocumento},{\"id_sentenca\":1,\"text_sentenca\":1}) \n",
    "\n",
    "    for sentenca in cursor:\n",
    "        \n",
    "        if(sentenca['id_sentenca'] in  listaIdSentencas):\n",
    "            pdf.set_text_color(220, 50, 50)\n",
    "            pdf.set_font('Arial', 'B', 10)\n",
    "        else:\n",
    "            pdf.set_text_color(0,0,0)\n",
    "            pdf.set_font('Arial', '', 10)\n",
    "            \n",
    "        pdf.multi_cell(w = 0, h = 10, txt=sentenca['text_sentenca'])\n",
    "        pdf.ln()\n",
    "\n",
    "    pathDoc = Path(os.path.join(BASE_DIR,'dataset','regbr_normas',f'{str(idDocumento)}.pdf'))\n",
    "    pdf.output(pathDoc, 'F')"
   ]
  },
  {
   "cell_type": "markdown",
   "metadata": {},
   "source": []
  }
 ],
 "metadata": {
  "kernelspec": {
   "display_name": "Python 3.8.13 ('regbrvenv')",
   "language": "python",
   "name": "python3"
  },
  "language_info": {
   "codemirror_mode": {
    "name": "ipython",
    "version": 3
   },
   "file_extension": ".py",
   "mimetype": "text/x-python",
   "name": "python",
   "nbconvert_exporter": "python",
   "pygments_lexer": "ipython3",
   "version": "3.8.13"
  },
  "orig_nbformat": 4,
  "vscode": {
   "interpreter": {
    "hash": "b754f63aaf9e10d02f924e7b04aafdd9de90253e0b56e0739e6c25855cdf6262"
   }
  }
 },
 "nbformat": 4,
 "nbformat_minor": 2
}
