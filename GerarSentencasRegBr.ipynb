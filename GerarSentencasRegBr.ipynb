{
 "cells": [
  {
   "cell_type": "markdown",
   "metadata": {},
   "source": [
    "### Generating the dataset with sentences of text extracted from the REGBR database\n",
    "#### Author: Mauricio Barros \n",
    "#### 2022-08-11"
   ]
  },
  {
   "cell_type": "code",
   "execution_count": 7,
   "metadata": {},
   "outputs": [],
   "source": [
    "import pandas as pd\n",
    "import os\n",
    "from pathlib import Path\n",
    "from src.mongodbclient import MongoDbClient\n",
    "from src.cfgparser import getMongoDbStrConn\n",
    "from src.preprocessing import PreProcessing\n",
    "from src.sentenceregbr import SentenceRegBr"
   ]
  },
  {
   "cell_type": "code",
   "execution_count": 8,
   "metadata": {},
   "outputs": [],
   "source": [
    "BASE_DIR = Path(os.path.abspath('')).resolve()"
   ]
  },
  {
   "cell_type": "code",
   "execution_count": 3,
   "metadata": {},
   "outputs": [
    {
     "name": "stdout",
     "output_type": "stream",
     "text": [
      "  Abbreviation: [1.7426] art\n",
      "  Abbreviation: [1.9803] art\n"
     ]
    }
   ],
   "source": [
    "objSentecesRegBr = SentenceRegBr()"
   ]
  },
  {
   "cell_type": "code",
   "execution_count": 9,
   "metadata": {},
   "outputs": [],
   "source": [
    "mongoClient = MongoDbClient(getMongoDbStrConn())\n",
    "mongoRegBrCollection = mongoClient.getCollection('regbr','regbr_full_db')\n",
    "mongoRegBrSentenceCollection = mongoClient.getCollection('regbr','regbr_sentences')"
   ]
  },
  {
   "cell_type": "code",
   "execution_count": 5,
   "metadata": {},
   "outputs": [
    {
     "name": "stderr",
     "output_type": "stream",
     "text": [
      "[nltk_data] Downloading package stopwords to\n",
      "[nltk_data]     C:\\Users\\mbjesus\\AppData\\Roaming\\nltk_data...\n",
      "[nltk_data]   Package stopwords is already up-to-date!\n",
      "[nltk_data] Downloading package punkt to\n",
      "[nltk_data]     C:\\Users\\mbjesus\\AppData\\Roaming\\nltk_data...\n",
      "[nltk_data]   Package punkt is already up-to-date!\n"
     ]
    }
   ],
   "source": [
    "cursor = mongoRegBrCollection.find( {},{\"id\":1,\"texto_lei\":1})\n",
    "for document in cursor:\n",
    "    try:\n",
    "        idDoc = document[\"id\"]\n",
    "        sentenceList = objSentecesRegBr.getSentencesRegBrFormat(document[\"texto_lei\"],idDoc,-1)\n",
    "        for sentenca in sentenceList:\n",
    "            mongoRegBrSentenceCollection.insert_one(sentenca)\n",
    "    except Exception as e:\n",
    "        print(f'Erro ao inserir id: {idDoc}. Detalhe: {e}')"
   ]
  },
  {
   "cell_type": "code",
   "execution_count": 13,
   "metadata": {},
   "outputs": [],
   "source": [
    "cursor = mongoRegBrSentenceCollection.find( { },{\"id_sentenca\":1, \"id_doc_base\":1,\"tokens_total\":1,\"tokens_no_stopwords\":1,\"text_sentenca\":1})\n",
    "dfSentenca =  pd.DataFrame(list(cursor))"
   ]
  },
  {
   "cell_type": "code",
   "execution_count": 14,
   "metadata": {},
   "outputs": [
    {
     "name": "stdout",
     "output_type": "stream",
     "text": [
      "<class 'pandas.core.frame.DataFrame'>\n",
      "RangeIndex: 1693 entries, 0 to 1692\n",
      "Data columns (total 5 columns):\n",
      " #   Column               Non-Null Count  Dtype \n",
      "---  ------               --------------  ----- \n",
      " 0   id_sentenca          1693 non-null   object\n",
      " 1   id_doc_base          1693 non-null   int64 \n",
      " 2   tokens_total         1693 non-null   int64 \n",
      " 3   tokens_no_stopwords  1693 non-null   int64 \n",
      " 4   text_sentenca        1693 non-null   object\n",
      "dtypes: int64(3), object(2)\n",
      "memory usage: 66.3+ KB\n"
     ]
    }
   ],
   "source": [
    "dfSentenca.drop([\"_id\"],inplace=True, axis=1)\n",
    "dfSentenca.info()"
   ]
  },
  {
   "cell_type": "code",
   "execution_count": 11,
   "metadata": {},
   "outputs": [],
   "source": [
    "dfSentenca.to_parquet(Path(os.path.join(BASE_DIR,'dataset', 'regbr','dados_regbr_sentencas.parquet')), engine='fastparquet')"
   ]
  },
  {
   "cell_type": "code",
   "execution_count": 10,
   "metadata": {},
   "outputs": [],
   "source": [
    "cursor = mongoRegBrSentenceCollection.find( { },{\"id_sentenca\":1, \"ordem\":1,\"id_doc_base\":1,\"tokens_total\":1,\"tokens_no_stopwords\":1,\"cat_sentenca\":1,\"text_sentenca\":1 })\n",
    "dfSentenca =  pd.DataFrame(list(cursor))"
   ]
  },
  {
   "cell_type": "code",
   "execution_count": 11,
   "metadata": {},
   "outputs": [
    {
     "name": "stdout",
     "output_type": "stream",
     "text": [
      "<class 'pandas.core.frame.DataFrame'>\n",
      "RangeIndex: 883635 entries, 0 to 883634\n",
      "Data columns (total 8 columns):\n",
      " #   Column               Non-Null Count   Dtype \n",
      "---  ------               --------------   ----- \n",
      " 0   _id                  883635 non-null  object\n",
      " 1   id_sentenca          883635 non-null  object\n",
      " 2   ordem                883635 non-null  int64 \n",
      " 3   id_doc_base          883635 non-null  int64 \n",
      " 4   tokens_total         883635 non-null  int64 \n",
      " 5   tokens_no_stopwords  883635 non-null  int64 \n",
      " 6   cat_sentenca         883635 non-null  int64 \n",
      " 7   text_sentenca        883635 non-null  object\n",
      "dtypes: int64(5), object(3)\n",
      "memory usage: 53.9+ MB\n"
     ]
    }
   ],
   "source": [
    "dfSentenca.info()"
   ]
  },
  {
   "cell_type": "code",
   "execution_count": 12,
   "metadata": {},
   "outputs": [],
   "source": [
    "dfSentenca.drop([\"_id\"],inplace=True, axis=1)"
   ]
  },
  {
   "cell_type": "code",
   "execution_count": 13,
   "metadata": {},
   "outputs": [],
   "source": [
    "dfSentenca.to_parquet(Path(os.path.join(BASE_DIR,'dataset', 'regbr','dados_regbr_sentencas.parquet')), engine='fastparquet')"
   ]
  },
  {
   "cell_type": "code",
   "execution_count": null,
   "metadata": {},
   "outputs": [],
   "source": []
  }
 ],
 "metadata": {
  "kernelspec": {
   "display_name": "Python 3.8.13 ('regbrvenv')",
   "language": "python",
   "name": "python3"
  },
  "language_info": {
   "codemirror_mode": {
    "name": "ipython",
    "version": 3
   },
   "file_extension": ".py",
   "mimetype": "text/x-python",
   "name": "python",
   "nbconvert_exporter": "python",
   "pygments_lexer": "ipython3",
   "version": "3.8.13"
  },
  "orig_nbformat": 4,
  "vscode": {
   "interpreter": {
    "hash": "b754f63aaf9e10d02f924e7b04aafdd9de90253e0b56e0739e6c25855cdf6262"
   }
  }
 },
 "nbformat": 4,
 "nbformat_minor": 2
}
