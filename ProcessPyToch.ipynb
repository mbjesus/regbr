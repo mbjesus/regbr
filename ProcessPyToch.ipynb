{
 "cells": [
  {
   "cell_type": "markdown",
   "metadata": {
    "id": "NCR15uh2m4sj"
   },
   "source": [
    "#### Ref\n",
    "\n",
    "https://www.tensorflow.org/text/tutorials/classify_text_with_bert\n",
    "\n",
    "https://www.tensorflow.org/tutorials/load_data/pandas_dataframe?hl=pt-br\n",
    "\n",
    "Ref - https://colab.research.google.com/github/tensorflow/text/blob/master/docs/tutorials/classify_text_with_bert.ipynb#scrollTo=q-YbjCkzw0yU\n",
    "\n",
    "\n",
    "https://github.com/nlptown/nlp-notebooks/blob/master/Text%20classification%20with%20BERT%20in%20PyTorch.ipynb\n",
    "https://towardsdatascience.com/text-classification-with-bert-in-pytorch-887965e5820f\n",
    "https://curiousily.com/posts/multi-label-text-classification-with-bert-and-pytorch-lightning/\n",
    "https://www.kaggle.com/code/joydeb28/text-classification-with-bert-pytorch/notebook"
   ]
  },
  {
   "cell_type": "code",
   "execution_count": 1,
   "metadata": {
    "colab": {
     "base_uri": "https://localhost:8080/"
    },
    "id": "_C77cMxhnbv2",
    "outputId": "9b33c3a2-0987-4225-c288-031c2e9bc3f0"
   },
   "outputs": [
    {
     "name": "stdout",
     "output_type": "stream",
     "text": [
      "Requirement already satisfied: numpy in /Users/mauriciobarrosdejesus/opt/anaconda3/envs/regbrvenv/lib/python3.8/site-packages (1.23.0)\n",
      "Collecting transformers==4.20.0\n",
      "  Downloading transformers-4.20.0-py3-none-any.whl (4.4 MB)\n",
      "\u001b[K     |████████████████████████████████| 4.4 MB 1.3 MB/s eta 0:00:01\n",
      "\u001b[?25hCollecting tqdm==4.50.2\n",
      "  Downloading tqdm-4.50.2-py2.py3-none-any.whl (70 kB)\n",
      "\u001b[K     |████████████████████████████████| 70 kB 3.5 MB/s eta 0:00:011\n",
      "\u001b[?25hCollecting scikit-learn\n",
      "  Downloading scikit_learn-1.1.2-cp38-cp38-macosx_10_9_x86_64.whl (8.6 MB)\n",
      "\u001b[K     |████████████████████████████████| 8.6 MB 2.3 MB/s eta 0:00:01\n",
      "\u001b[?25hCollecting torch==1.11.0\n",
      "  Using cached torch-1.11.0-cp38-none-macosx_10_9_x86_64.whl (129.9 MB)\n",
      "Requirement already satisfied: openpyxl in /Users/mauriciobarrosdejesus/opt/anaconda3/envs/regbrvenv/lib/python3.8/site-packages (3.0.10)\n",
      "Requirement already satisfied: pandas in /Users/mauriciobarrosdejesus/opt/anaconda3/envs/regbrvenv/lib/python3.8/site-packages (1.4.3)\n",
      "Requirement already satisfied: matplotlib in /Users/mauriciobarrosdejesus/opt/anaconda3/envs/regbrvenv/lib/python3.8/site-packages (3.5.2)\n",
      "Collecting huggingface-hub<1.0,>=0.1.0\n",
      "  Downloading huggingface_hub-0.8.1-py3-none-any.whl (101 kB)\n",
      "\u001b[K     |████████████████████████████████| 101 kB 2.7 MB/s ta 0:00:011\n",
      "\u001b[?25hRequirement already satisfied: regex!=2019.12.17 in /Users/mauriciobarrosdejesus/opt/anaconda3/envs/regbrvenv/lib/python3.8/site-packages (from transformers==4.20.0) (2022.6.2)\n",
      "Requirement already satisfied: packaging>=20.0 in /Users/mauriciobarrosdejesus/opt/anaconda3/envs/regbrvenv/lib/python3.8/site-packages (from transformers==4.20.0) (21.3)\n",
      "Collecting pyyaml>=5.1\n",
      "  Using cached PyYAML-6.0-cp38-cp38-macosx_10_9_x86_64.whl (192 kB)\n",
      "Requirement already satisfied: requests in /Users/mauriciobarrosdejesus/opt/anaconda3/envs/regbrvenv/lib/python3.8/site-packages (from transformers==4.20.0) (2.28.1)\n",
      "Collecting tokenizers!=0.11.3,<0.13,>=0.11.1\n",
      "  Downloading tokenizers-0.12.1-cp38-cp38-macosx_10_11_x86_64.whl (3.6 MB)\n",
      "\u001b[K     |████████████████████████████████| 3.6 MB 930 kB/s eta 0:00:01\n",
      "\u001b[?25hCollecting filelock\n",
      "  Using cached filelock-3.7.1-py3-none-any.whl (10 kB)\n",
      "Requirement already satisfied: typing-extensions in /Users/mauriciobarrosdejesus/opt/anaconda3/envs/regbrvenv/lib/python3.8/site-packages (from torch==1.11.0) (4.1.1)\n",
      "Requirement already satisfied: scipy>=1.3.2 in /Users/mauriciobarrosdejesus/opt/anaconda3/envs/regbrvenv/lib/python3.8/site-packages (from scikit-learn) (1.8.1)\n",
      "Collecting threadpoolctl>=2.0.0\n",
      "  Using cached threadpoolctl-3.1.0-py3-none-any.whl (14 kB)\n",
      "Requirement already satisfied: joblib>=1.0.0 in /Users/mauriciobarrosdejesus/opt/anaconda3/envs/regbrvenv/lib/python3.8/site-packages (from scikit-learn) (1.1.0)\n",
      "Requirement already satisfied: et-xmlfile in /Users/mauriciobarrosdejesus/opt/anaconda3/envs/regbrvenv/lib/python3.8/site-packages (from openpyxl) (1.1.0)\n",
      "Requirement already satisfied: pytz>=2020.1 in /Users/mauriciobarrosdejesus/opt/anaconda3/envs/regbrvenv/lib/python3.8/site-packages (from pandas) (2022.1)\n",
      "Requirement already satisfied: python-dateutil>=2.8.1 in /Users/mauriciobarrosdejesus/.local/lib/python3.8/site-packages (from pandas) (2.8.2)\n",
      "Requirement already satisfied: kiwisolver>=1.0.1 in /Users/mauriciobarrosdejesus/opt/anaconda3/envs/regbrvenv/lib/python3.8/site-packages (from matplotlib) (1.4.3)\n",
      "Requirement already satisfied: pyparsing>=2.2.1 in /Users/mauriciobarrosdejesus/opt/anaconda3/envs/regbrvenv/lib/python3.8/site-packages (from matplotlib) (3.0.4)\n",
      "Requirement already satisfied: fonttools>=4.22.0 in /Users/mauriciobarrosdejesus/opt/anaconda3/envs/regbrvenv/lib/python3.8/site-packages (from matplotlib) (4.33.3)\n",
      "Requirement already satisfied: pillow>=6.2.0 in /Users/mauriciobarrosdejesus/opt/anaconda3/envs/regbrvenv/lib/python3.8/site-packages (from matplotlib) (9.2.0)\n",
      "Requirement already satisfied: cycler>=0.10 in /Users/mauriciobarrosdejesus/opt/anaconda3/envs/regbrvenv/lib/python3.8/site-packages (from matplotlib) (0.11.0)\n",
      "Requirement already satisfied: six>=1.5 in /Users/mauriciobarrosdejesus/.local/lib/python3.8/site-packages (from python-dateutil>=2.8.1->pandas) (1.16.0)\n",
      "Requirement already satisfied: charset-normalizer<3,>=2 in /Users/mauriciobarrosdejesus/opt/anaconda3/envs/regbrvenv/lib/python3.8/site-packages (from requests->transformers==4.20.0) (2.1.0)\n",
      "Requirement already satisfied: urllib3<1.27,>=1.21.1 in /Users/mauriciobarrosdejesus/opt/anaconda3/envs/regbrvenv/lib/python3.8/site-packages (from requests->transformers==4.20.0) (1.26.9)\n",
      "Requirement already satisfied: certifi>=2017.4.17 in /Users/mauriciobarrosdejesus/opt/anaconda3/envs/regbrvenv/lib/python3.8/site-packages (from requests->transformers==4.20.0) (2022.6.15)\n",
      "Requirement already satisfied: idna<4,>=2.5 in /Users/mauriciobarrosdejesus/opt/anaconda3/envs/regbrvenv/lib/python3.8/site-packages (from requests->transformers==4.20.0) (3.3)\n",
      "Installing collected packages: tqdm, pyyaml, filelock, tokenizers, threadpoolctl, huggingface-hub, transformers, torch, scikit-learn\n",
      "  Attempting uninstall: tqdm\n",
      "    Found existing installation: tqdm 4.64.0\n",
      "    Uninstalling tqdm-4.64.0:\n",
      "      Successfully uninstalled tqdm-4.64.0\n",
      "Successfully installed filelock-3.7.1 huggingface-hub-0.8.1 pyyaml-6.0 scikit-learn-1.1.2 threadpoolctl-3.1.0 tokenizers-0.12.1 torch-1.11.0 tqdm-4.50.2 transformers-4.20.0\n"
     ]
    }
   ],
   "source": [
    "import sys\n",
    "!{sys.executable} -m pip install numpy  transformers==4.20.0 tqdm==4.50.2 scikit-learn torch==1.11.0  openpyxl pandas matplotlib"
   ]
  },
  {
   "cell_type": "code",
   "execution_count": 2,
   "metadata": {
    "colab": {
     "base_uri": "https://localhost:8080/",
     "height": 266,
     "referenced_widgets": [
      "c7eedab288eb47d19292bd388e934574",
      "22629ed33a5f42319c779a6a7cb5f928",
      "95dad82fad7e423d8c2b54139eb1ebcf",
      "a4d7249eb4c1480a96fbb7e77575321b",
      "b1c4418c16084bc09305598ea22dfe84",
      "f5db8af3b1fe44d6af5b8800bbfe35cc",
      "d237ae48fd1541c599461dc0cb1e103b",
      "e0ba79c64f2a4e1ab1cdf68297a79279",
      "c33032039b3d42e4bf81a857f7060af6",
      "32e57475a9b940c5bfc7d8b04f4fafbd",
      "b9b54b7f61ce4e638aa9d14afe590b2a",
      "a4ce9a37c413492385ef931238bffcb5",
      "c89ab036030f438bb08aff231547ad09",
      "1ad2a78f916e4253886d7175f6f9cc2a",
      "72c161b0bf134a81859c51c574d792f7",
      "27b4a00a947d4997a20cd6ea608123c9",
      "1b1def3f2af44097a48a3c4f0abf240c",
      "4856a1604dbf4e9780c70d0734b186dc",
      "758e7d3f995346c7af807bb2c284b91c",
      "5a850fa4dc984ca0a2756dd6396b8064",
      "f8bcc16fbef343bb8e5a687d75665152",
      "19461a5997824222a81a6b9a6ce0b8b5",
      "fcec34aa78aa4f9bbe7495f14094cffc",
      "c6466b6d1e5644cbb642b1ba059de1d8",
      "cbe4a6d932bd48ee8247788710a60a88",
      "b5317768eebd4599a15afd4e4fe43ba4",
      "ee145ed4d2114674b9c92383f97d7a3c",
      "0fc5eee41f1c417d8bd49204fc53cc6b",
      "0a255766fb40481b824f0210f01c4f9d",
      "e2eb52f675464ecab6b3eb5d248b61bd",
      "0db862f3bd9d4067b1bdf6cc8019c59e",
      "a1156f4451e8442f812223d78e3d1152",
      "741b1ca02b7f4f6094082bd2ae3dcd62",
      "f460e444d1674323a2f0f30a7100f2c7",
      "d44799cc895546a8837f7aa6a5d5758b",
      "b1ca28b1997042199c78c28cce4af33c",
      "cddfa86462cc46dfa3becce992b60abc",
      "ad7535bdfb0c47cba608e276b5f63c74",
      "80225005b9f94f3b87a0f58e6a2d972f",
      "ba8be52f0b9c455b9f1269cc5b03a314",
      "59218d473af24cb8b469546824e17f6e",
      "7a97cd5b6be34df0aaee1b766077e14c",
      "c9bd10baad4d4064921427846a675fb6",
      "fb1ef1eb58aa49d79c321554fa9bdbdb",
      "7a4d8c3ab2f741e9a610d535a060ba8b",
      "48aa1c27369f457a8e4a3db9f7768594",
      "4fb02069447544f094e83c9002fafbae",
      "c3469f12c79b47fd82efc2a7bbcbfe97",
      "16535875166c44b8969bcea1899a5c58",
      "4c3126cc5aa74980a90da9d9fe802897",
      "9c67601b857e449193befbaeca4d81a5",
      "59bb725a82d04a67a11f21ec2e0b9b3f",
      "b8909a7c7330487590660c85d81dcec4",
      "a18b000d0d6a431fac485e47e02eb811",
      "3bef3669bee445818b445021b47dd1da"
     ]
    },
    "id": "ix6XhXEpm4sp",
    "outputId": "6577f8ad-be7f-4486-d4f6-36b06a0febf5"
   },
   "outputs": [
    {
     "data": {
      "application/vnd.jupyter.widget-view+json": {
       "model_id": "f3a7259a495943a89e4f42883aa76ef8",
       "version_major": 2,
       "version_minor": 0
      },
      "text/plain": [
       "HBox(children=(HTML(value='Downloading'), FloatProgress(value=0.0, max=43.0), HTML(value='')))"
      ]
     },
     "metadata": {},
     "output_type": "display_data"
    },
    {
     "name": "stdout",
     "output_type": "stream",
     "text": [
      "\n"
     ]
    },
    {
     "data": {
      "application/vnd.jupyter.widget-view+json": {
       "model_id": "aff7739cb10148409eb7219e6976231e",
       "version_major": 2,
       "version_minor": 0
      },
      "text/plain": [
       "HBox(children=(HTML(value='Downloading'), FloatProgress(value=0.0, max=647.0), HTML(value='')))"
      ]
     },
     "metadata": {},
     "output_type": "display_data"
    },
    {
     "name": "stdout",
     "output_type": "stream",
     "text": [
      "\n"
     ]
    },
    {
     "data": {
      "application/vnd.jupyter.widget-view+json": {
       "model_id": "cd0a7766e6a849419a454773f1081dc3",
       "version_major": 2,
       "version_minor": 0
      },
      "text/plain": [
       "HBox(children=(HTML(value='Downloading'), FloatProgress(value=0.0, max=209528.0), HTML(value='')))"
      ]
     },
     "metadata": {},
     "output_type": "display_data"
    },
    {
     "name": "stdout",
     "output_type": "stream",
     "text": [
      "\n"
     ]
    },
    {
     "data": {
      "application/vnd.jupyter.widget-view+json": {
       "model_id": "e7e96635d37a48d98931800c3bd99b75",
       "version_major": 2,
       "version_minor": 0
      },
      "text/plain": [
       "HBox(children=(HTML(value='Downloading'), FloatProgress(value=0.0, max=2.0), HTML(value='')))"
      ]
     },
     "metadata": {},
     "output_type": "display_data"
    },
    {
     "name": "stdout",
     "output_type": "stream",
     "text": [
      "\n"
     ]
    },
    {
     "data": {
      "application/vnd.jupyter.widget-view+json": {
       "model_id": "e11015ba70234c3a9a06e46ab672de59",
       "version_major": 2,
       "version_minor": 0
      },
      "text/plain": [
       "HBox(children=(HTML(value='Downloading'), FloatProgress(value=0.0, max=112.0), HTML(value='')))"
      ]
     },
     "metadata": {},
     "output_type": "display_data"
    },
    {
     "name": "stdout",
     "output_type": "stream",
     "text": [
      "\n"
     ]
    }
   ],
   "source": [
    "from transformers import AutoModel, AutoTokenizer, get_linear_schedule_with_warmup\n",
    "\n",
    "# Using the community model\n",
    "# BERT Base\n",
    "tokenizer = AutoTokenizer.from_pretrained('neuralmind/bert-base-portuguese-cased')\n",
    "#model = AutoModel.from_pretrained('neuralmind/bert-base-portuguese-cased')"
   ]
  },
  {
   "cell_type": "code",
   "execution_count": 7,
   "metadata": {
    "id": "b6uWbMYLm4sr"
   },
   "outputs": [],
   "source": [
    "import torch\n",
    "from torch import nn\n",
    "import numpy as np\n",
    "import pandas as pd\n",
    "from torch.optim import Adam\n",
    "from tqdm import tqdm\n",
    "import re\n",
    "import unicodedata\n",
    "from datetime import datetime\n",
    "import matplotlib.pyplot as plt\n",
    "from matplotlib import rc\n",
    "import os\n",
    "from pathlib import Path\n",
    "\n",
    "%matplotlib inline\n",
    "%config InlineBackend.figure_format='retina'\n"
   ]
  },
  {
   "cell_type": "code",
   "execution_count": 8,
   "metadata": {
    "colab": {
     "base_uri": "https://localhost:8080/"
    },
    "id": "hsEikv3bp3Xc",
    "outputId": "0444ac15-7d57-4984-a168-13c6c0921622"
   },
   "outputs": [
    {
     "data": {
      "text/plain": [
       "device(type='cuda')"
      ]
     },
     "execution_count": 8,
     "metadata": {},
     "output_type": "execute_result"
    }
   ],
   "source": [
    "use_cuda = torch.cuda.is_available()\n",
    "device = torch.device(\"cuda\" if use_cuda else \"cpu\")\n",
    "device"
   ]
  },
  {
   "cell_type": "code",
   "execution_count": 9,
   "metadata": {
    "id": "9fOqtg4_m4st"
   },
   "outputs": [],
   "source": [
    "def logprint__(key,value):\n",
    "    now = datetime.now()\n",
    "    dt_string = now.strftime(\"%d/%m/%Y %H:%M:%S\")\n",
    "    print(f'####### LOG: {dt_string} --> {key}  {value} ')\n"
   ]
  },
  {
   "cell_type": "markdown",
   "metadata": {
    "id": "BirARXB-m4su"
   },
   "source": [
    "### 1. Buillding the Dataset"
   ]
  },
  {
   "cell_type": "code",
   "execution_count": 10,
   "metadata": {},
   "outputs": [],
   "source": [
    "BASE_DIR = Path(os.path.abspath('')).resolve()"
   ]
  },
  {
   "cell_type": "code",
   "execution_count": 12,
   "metadata": {
    "colab": {
     "base_uri": "https://localhost:8080/"
    },
    "id": "s9wrgmUQm4sv",
    "outputId": "a51e6483-aed0-45bd-d00f-9ceada51e77b"
   },
   "outputs": [
    {
     "name": "stdout",
     "output_type": "stream",
     "text": [
      "####### LOG: 05/07/2022 14:21:29 --> Loading dfFull  Full dataset \n",
      "<class 'pandas.core.frame.DataFrame'>\n",
      "RangeIndex: 5000 entries, 0 to 4999\n",
      "Data columns (total 2 columns):\n",
      " #   Column    Non-Null Count  Dtype \n",
      "---  ------    --------------  ----- \n",
      " 0   category  5000 non-null   object\n",
      " 1   text      5000 non-null   object\n",
      "dtypes: object(2)\n",
      "memory usage: 78.2+ KB\n"
     ]
    }
   ],
   "source": [
    "## Load full dataset\n",
    "logprint__('Loading dfFull','Full dataset')\n",
    "data_location = os.path.join(BASE_DIR,'dataset/regbr_treino_test.xlsx')\n",
    "dataset = pd.read_excel(data_location)\n",
    "dataset.columns = [\"category\",\"text\"]\n",
    "dataset.info()"
   ]
  },
  {
   "cell_type": "code",
   "execution_count": 14,
   "metadata": {
    "colab": {
     "base_uri": "https://localhost:8080/"
    },
    "id": "R_YIR9pvm4s7",
    "outputId": "5fad0f87-e1f4-49cb-af5c-16326acdb4ad"
   },
   "outputs": [
    {
     "data": {
      "text/plain": [
       "category      \n",
       "outros            2500\n",
       "terceiro_setor    2500\n",
       "dtype: int64"
      ]
     },
     "execution_count": 14,
     "metadata": {},
     "output_type": "execute_result"
    }
   ],
   "source": [
    "\n",
    "dataset[[\"category\"]].value_counts()"
   ]
  },
  {
   "cell_type": "code",
   "execution_count": 15,
   "metadata": {
    "id": "ejP0R2J7m4s8"
   },
   "outputs": [],
   "source": [
    "### Ds Labels\n",
    "labels = {\"outros\":0,\n",
    "          \"terceiro_setor\":1\n",
    "          }"
   ]
  },
  {
   "cell_type": "code",
   "execution_count": 16,
   "metadata": {
    "colab": {
     "base_uri": "https://localhost:8080/"
    },
    "id": "wCXleIT_m4s_",
    "outputId": "fe143e97-79f3-4d8b-985c-78a3b3feb77c"
   },
   "outputs": [
    {
     "name": "stdout",
     "output_type": "stream",
     "text": [
      "####### LOG: 05/07/2022 14:23:21 --> Split datasets: \n",
      "  Train Size: 4000. Test Size: 500. Validation Size: 500 \n"
     ]
    }
   ],
   "source": [
    "## Split dataset to train, validation and test\n",
    "np.random.seed(112)\n",
    "df_train, df_val, df_test = np.split(dataset.sample(frac=1, random_state=42), [int(.8*len(dataset)), int(.9*len(dataset))])\n",
    "logprint__('Split datasets: \\n',f'Train Size: {len(df_train)}. Test Size: {len(df_test)}. Validation Size: {len(df_val)}')\n"
   ]
  },
  {
   "cell_type": "markdown",
   "metadata": {
    "id": "h2D_2SU3m4tA"
   },
   "source": [
    "### 2. Traning Bert Model"
   ]
  },
  {
   "cell_type": "code",
   "execution_count": 17,
   "metadata": {
    "id": "emKaAgDAm4tB"
   },
   "outputs": [],
   "source": [
    "## Class do process pandas as a pytorch dataset\n",
    "class Dataset(torch.utils.data.Dataset):\n",
    "\n",
    "    def __init__(self, df):\n",
    "        \n",
    "        self.labels = [labels[label] for label in df['category']]\n",
    "        \n",
    "        ## Attention - tokenizer -- this is the Transformer's Tokenizer instantiate previously\n",
    "        self.texts = [tokenizer(text, \n",
    "                               padding='max_length', max_length = 512, truncation=True,\n",
    "                                return_tensors=\"pt\") for text in df['text']]\n",
    "\n",
    "    def classes(self):\n",
    "        return self.labels\n",
    "\n",
    "    def __len__(self):\n",
    "        return len(self.labels)\n",
    "\n",
    "    def get_batch_labels(self, idx):\n",
    "        # Fetch a batch of labels\n",
    "        return np.array(self.labels[idx])\n",
    "\n",
    "    def get_batch_texts(self, idx):\n",
    "        # Fetch a batch of inputs\n",
    "        return self.texts[idx]\n",
    "\n",
    "    def __getitem__(self, idx):\n",
    "\n",
    "        batch_texts = self.get_batch_texts(idx)\n",
    "        batch_y = self.get_batch_labels(idx)\n",
    "\n",
    "        return batch_texts, batch_y"
   ]
  },
  {
   "cell_type": "code",
   "execution_count": 18,
   "metadata": {
    "id": "5wqGwRNBm4tB"
   },
   "outputs": [],
   "source": [
    "## This this class extenteds nn.Module and define the BertClassfier \n",
    "class BertClassifier(nn.Module):\n",
    "\n",
    "    def __init__(self, dropout=0.5):\n",
    "\n",
    "        super(BertClassifier, self).__init__()\n",
    "\n",
    "        self.bert = AutoModel.from_pretrained('neuralmind/bert-base-portuguese-cased')\n",
    "        self.dropout = nn.Dropout(dropout)\n",
    "        self.linear = nn.Linear(768, 5)\n",
    "        self.relu = nn.ReLU()\n",
    "\n",
    "    def forward(self, input_id, mask):\n",
    "\n",
    "        _, pooled_output = self.bert(input_ids= input_id, attention_mask=mask,return_dict=False)\n",
    "        dropout_output = self.dropout(pooled_output)\n",
    "        linear_output = self.linear(dropout_output)\n",
    "        final_layer = self.relu(linear_output)\n",
    "\n",
    "        return final_layer"
   ]
  },
  {
   "cell_type": "markdown",
   "metadata": {
    "id": "hpE8rOJQm4tC"
   },
   "source": [
    "#### Traning model"
   ]
  },
  {
   "cell_type": "code",
   "execution_count": null,
   "metadata": {
    "colab": {
     "base_uri": "https://localhost:8080/",
     "height": 777,
     "referenced_widgets": [
      "d10b0d42f9474cf9b391e50304504ed0",
      "5609cc67fe3f4e8596ff414d74adb33f",
      "77cb9cfaddbc4dd5a0db3b556cf3dafb",
      "f3a45c5650d748eca6f8c97edf716eb5",
      "273c3246bb20420bb75879644707b9aa",
      "2a159ff9292e4f229b1177059b336690",
      "13ca1dee30e44c75800115b5c4f3ce34",
      "5fc03df5bc41410fa78b2a3b72dce91f",
      "cf2707e24e2c49bf94c24f1330733952",
      "3b87ea8ee0a14d3f9faae420026035c1",
      "3af59fe32baa4be4af73220d73881047"
     ]
    },
    "id": "Jz-2eVe_m4tD",
    "outputId": "c49e8c43-7e99-4870-b85c-2edcfee33ab3"
   },
   "outputs": [
    {
     "data": {
      "application/vnd.jupyter.widget-view+json": {
       "model_id": "ef912677113e4035a2fe3790216e5e6c",
       "version_major": 2,
       "version_minor": 0
      },
      "text/plain": [
       "HBox(children=(HTML(value='Downloading'), FloatProgress(value=0.0, max=438235074.0), HTML(value='')))"
      ]
     },
     "metadata": {},
     "output_type": "display_data"
    },
    {
     "name": "stdout",
     "output_type": "stream",
     "text": [
      "\n"
     ]
    },
    {
     "name": "stderr",
     "output_type": "stream",
     "text": [
      "Some weights of the model checkpoint at neuralmind/bert-base-portuguese-cased were not used when initializing BertModel: ['cls.seq_relationship.weight', 'cls.predictions.transform.LayerNorm.bias', 'cls.predictions.transform.dense.weight', 'cls.seq_relationship.bias', 'cls.predictions.bias', 'cls.predictions.transform.dense.bias', 'cls.predictions.decoder.weight', 'cls.predictions.transform.LayerNorm.weight']\n",
      "- This IS expected if you are initializing BertModel from the checkpoint of a model trained on another task or with another architecture (e.g. initializing a BertForSequenceClassification model from a BertForPreTraining model).\n",
      "- This IS NOT expected if you are initializing BertModel from the checkpoint of a model that you expect to be exactly identical (initializing a BertForSequenceClassification model from a BertForSequenceClassification model).\n",
      "100%|██████████| 2000/2000 [07:16<00:00,  4.58it/s]\n"
     ]
    },
    {
     "name": "stdout",
     "output_type": "stream",
     "text": [
      "Epochs: 1 | Train Loss:  0.294             | Train Accuracy:  0.796             | Val Loss:  0.022             | Val Accuracy:  0.992\n"
     ]
    },
    {
     "name": "stderr",
     "output_type": "stream",
     "text": [
      "100%|██████████| 2000/2000 [07:18<00:00,  4.56it/s]\n"
     ]
    },
    {
     "name": "stdout",
     "output_type": "stream",
     "text": [
      "Epochs: 2 | Train Loss:  0.019             | Train Accuracy:  0.990             | Val Loss:  0.005             | Val Accuracy:  1.000\n"
     ]
    },
    {
     "name": "stderr",
     "output_type": "stream",
     "text": [
      "100%|██████████| 2000/2000 [07:35<00:00,  4.40it/s]\n"
     ]
    },
    {
     "name": "stdout",
     "output_type": "stream",
     "text": [
      "Epochs: 3 | Train Loss:  0.005             | Train Accuracy:  0.998             | Val Loss:  0.006             | Val Accuracy:  0.998\n"
     ]
    },
    {
     "name": "stderr",
     "output_type": "stream",
     "text": [
      "100%|██████████| 2000/2000 [07:29<00:00,  4.45it/s]\n"
     ]
    },
    {
     "name": "stdout",
     "output_type": "stream",
     "text": [
      "Epochs: 4 | Train Loss:  0.005             | Train Accuracy:  0.997             | Val Loss:  0.004             | Val Accuracy:  0.998\n"
     ]
    },
    {
     "name": "stderr",
     "output_type": "stream",
     "text": [
      "100%|██████████| 2000/2000 [07:48<00:00,  4.27it/s]\n"
     ]
    },
    {
     "name": "stdout",
     "output_type": "stream",
     "text": [
      "Epochs: 5 | Train Loss:  0.002             | Train Accuracy:  0.999             | Val Loss:  0.001             | Val Accuracy:  1.000\n"
     ]
    },
    {
     "name": "stderr",
     "output_type": "stream",
     "text": [
      "100%|██████████| 2000/2000 [07:42<00:00,  4.32it/s]\n"
     ]
    },
    {
     "name": "stdout",
     "output_type": "stream",
     "text": [
      "Epochs: 6 | Train Loss:  0.000             | Train Accuracy:  1.000             | Val Loss:  0.000             | Val Accuracy:  1.000\n"
     ]
    },
    {
     "name": "stderr",
     "output_type": "stream",
     "text": [
      "100%|██████████| 2000/2000 [07:19<00:00,  4.55it/s]\n"
     ]
    },
    {
     "name": "stdout",
     "output_type": "stream",
     "text": [
      "Epochs: 7 | Train Loss:  0.000             | Train Accuracy:  1.000             | Val Loss:  0.000             | Val Accuracy:  1.000\n"
     ]
    },
    {
     "name": "stderr",
     "output_type": "stream",
     "text": [
      "100%|██████████| 2000/2000 [07:47<00:00,  4.27it/s]\n"
     ]
    },
    {
     "name": "stdout",
     "output_type": "stream",
     "text": [
      "Epochs: 8 | Train Loss:  0.000             | Train Accuracy:  1.000             | Val Loss:  0.000             | Val Accuracy:  1.000\n"
     ]
    },
    {
     "name": "stderr",
     "output_type": "stream",
     "text": [
      "100%|██████████| 2000/2000 [07:30<00:00,  4.44it/s]\n"
     ]
    },
    {
     "name": "stdout",
     "output_type": "stream",
     "text": [
      "Epochs: 9 | Train Loss:  0.000             | Train Accuracy:  1.000             | Val Loss:  0.000             | Val Accuracy:  1.000\n"
     ]
    },
    {
     "name": "stderr",
     "output_type": "stream",
     "text": [
      "100%|██████████| 2000/2000 [07:30<00:00,  4.44it/s]\n"
     ]
    },
    {
     "name": "stdout",
     "output_type": "stream",
     "text": [
      "Epochs: 10 | Train Loss:  0.000             | Train Accuracy:  1.000             | Val Loss:  0.000             | Val Accuracy:  1.000\n"
     ]
    },
    {
     "data": {
      "image/png": "[encoded data removed]",
      "text/plain": [
       "<Figure size 432x288 with 1 Axes>"
      ]
     },
     "metadata": {
      "image/png": {
       "height": 279,
       "width": 423
      },
      "needs_background": "light"
     },
     "output_type": "display_data"
    }
   ],
   "source": [
    "def train(model, train_data, val_data, learning_rate, epochs):\n",
    "\n",
    "    BATCH_SIZE = 2\n",
    "    GRADIENT_ACCUMULATION_STEPS = 1\n",
    "    NUM_TRAIN_EPOCHS = 10\n",
    "    WARMUP_PROPORTION = 0.1\n",
    "    learning_rate_history = []\n",
    "    \n",
    "    train, val = Dataset(train_data), Dataset(val_data)\n",
    "\n",
    "    train_dataloader = torch.utils.data.DataLoader(train, batch_size=BATCH_SIZE, shuffle=True)\n",
    "    val_dataloader = torch.utils.data.DataLoader(val, batch_size=2)\n",
    "\n",
    "    use_cuda = torch.cuda.is_available()\n",
    "    device = torch.device(\"cuda\" if use_cuda else \"cpu\")\n",
    "\n",
    "    criterion = nn.CrossEntropyLoss()\n",
    "    optimizer = Adam(model.parameters(), lr= learning_rate)\n",
    "\n",
    "    num_train_steps = int(len(train_dataloader.dataset) / BATCH_SIZE / GRADIENT_ACCUMULATION_STEPS * NUM_TRAIN_EPOCHS)\n",
    "    num_warmup_steps = int(WARMUP_PROPORTION * num_train_steps)\n",
    "\n",
    "    ## Defining scheduler\n",
    "    scheduler = get_linear_schedule_with_warmup(\n",
    "      optimizer,\n",
    "      num_warmup_steps=num_warmup_steps,\n",
    "      num_training_steps=num_train_steps\n",
    "    )\n",
    "\n",
    "    if use_cuda:\n",
    "\n",
    "            model = model.cuda()\n",
    "            criterion = criterion.cuda()\n",
    "\n",
    "    for epoch_num in range(epochs):\n",
    "        total_acc_train = 0\n",
    "        total_loss_train = 0\n",
    "\n",
    "        for train_input, train_label in tqdm(train_dataloader):\n",
    "\n",
    "            train_label = train_label.to(device)\n",
    "            mask = train_input['attention_mask'].to(device)\n",
    "            input_id = train_input['input_ids'].squeeze(1).to(device)\n",
    "\n",
    "            output = model(input_id, mask)\n",
    "\n",
    "            batch_loss = criterion(output, train_label)\n",
    "            total_loss_train += batch_loss.item()\n",
    "\n",
    "            acc = (output.argmax(dim=1) == train_label).sum().item()\n",
    "            total_acc_train += acc\n",
    "\n",
    "            model.zero_grad()\n",
    "            batch_loss.backward()\n",
    "            optimizer.step()\n",
    "            scheduler.step()\n",
    "            learning_rate_history.append(optimizer.param_groups[0]['lr'])\n",
    "\n",
    "        total_acc_val = 0\n",
    "        total_loss_val = 0\n",
    "\n",
    "        with torch.no_grad():\n",
    "\n",
    "            for val_input, val_label in val_dataloader:\n",
    "\n",
    "                val_label = val_label.to(device)\n",
    "                mask = val_input['attention_mask'].to(device)\n",
    "                input_id = val_input['input_ids'].squeeze(1).to(device)\n",
    "\n",
    "                output = model(input_id, mask)\n",
    "\n",
    "                batch_loss = criterion(output, val_label)\n",
    "                total_loss_val += batch_loss.item()\n",
    "\n",
    "                acc = (output.argmax(dim=1) == val_label).sum().item()\n",
    "                total_acc_val += acc\n",
    "\n",
    "        print(\n",
    "            f'Epochs: {epoch_num + 1} | Train Loss: {total_loss_train / len(train_data): .3f} \\\n",
    "            | Train Accuracy: {total_acc_train / len(train_data): .3f} \\\n",
    "            | Val Loss: {total_loss_val / len(val_data): .3f} \\\n",
    "            | Val Accuracy: {total_acc_val / len(val_data): .3f}')\n",
    "        \n",
    "\n",
    "        PATH = os.path.join(BASE_DIR,f'models/model_state.save_{epoch_num}')\n",
    "        \n",
    "        torch.save({\n",
    "            'epoch': epoch_num + 1,\n",
    "            'model_state_dict': model.state_dict(),\n",
    "            'optimizer_state_dict': optimizer.state_dict(),\n",
    "            'loss': total_loss_val / len(val_data),\n",
    "            }, PATH)\n",
    "\n",
    "\n",
    "    plt.plot(learning_rate_history, label=\"learning rate\")\n",
    "    plt.axvline(x=num_warmup_steps, color=\"red\", linestyle=(0, (5, 10)), label=\"warmup end\")\n",
    "    plt.legend()\n",
    "    plt.xlabel(\"Step\")\n",
    "    plt.ylabel(\"Learning rate\")\n",
    "    plt.tight_layout();\n",
    "\n",
    "EPOCHS = 10\n",
    "model = BertClassifier()\n",
    "LR = 5e-6\n",
    "              \n",
    "train(model, df_train, df_val, LR, EPOCHS)"
   ]
  },
  {
   "cell_type": "markdown",
   "metadata": {
    "id": "GHZCijtzm4tD"
   },
   "source": [
    "### 3.  Avaluate Model"
   ]
  },
  {
   "cell_type": "code",
   "execution_count": 20,
   "metadata": {
    "colab": {
     "base_uri": "https://localhost:8080/"
    },
    "id": "NDYrfzNrm4tD",
    "outputId": "26fbfaa9-ae52-44fb-f83d-ea032c10f5c7"
   },
   "outputs": [
    {
     "name": "stdout",
     "output_type": "stream",
     "text": [
      "Test Accuracy:  0.998\n"
     ]
    }
   ],
   "source": [
    "def evaluate(model, test_data):\n",
    "\n",
    "    test = Dataset(test_data)\n",
    "\n",
    "    test_dataloader = torch.utils.data.DataLoader(test, batch_size=2)\n",
    "\n",
    "    use_cuda = torch.cuda.is_available()\n",
    "    device = torch.device(\"cuda\" if use_cuda else \"cpu\")\n",
    "\n",
    "    if use_cuda:\n",
    "\n",
    "        model = model.cuda()\n",
    "\n",
    "    total_acc_test = 0\n",
    "    with torch.no_grad():\n",
    "\n",
    "        for test_input, test_label in test_dataloader:\n",
    "            test_label = test_label.to(device)\n",
    "            mask = test_input['attention_mask'].to(device)\n",
    "            input_id = test_input['input_ids'].squeeze(1).to(device)\n",
    "\n",
    "            output = model(input_id, mask)\n",
    "\n",
    "            acc = (output.argmax(dim=1) == test_label).sum().item()\n",
    "            total_acc_test += acc\n",
    "    \n",
    "    print(f'Test Accuracy: {total_acc_test / len(test_data): .3f}')\n",
    "    \n",
    "evaluate(model, df_test)"
   ]
  },
  {
   "cell_type": "code",
   "execution_count": 34,
   "metadata": {
    "id": "CyXWlsWFm4tF"
   },
   "outputs": [],
   "source": [
    "## Pedict\n",
    "def predict(txt):\n",
    "    txt = str(txt)\n",
    "    txt = clearText(txt)\n",
    "    if(len(txt)) < 50:\n",
    "        return 2\n",
    "    \n",
    "    THRESHOLD = 0.5\n",
    "\n",
    "    use_cuda = torch.cuda.is_available()\n",
    "    device = torch.device(\"cuda\" if use_cuda else \"cpu\")\n",
    "    \n",
    "\n",
    "    encoding = tokenizer.encode_plus(\n",
    "      txt,\n",
    "      truncation=True,\n",
    "      add_special_tokens=True,\n",
    "      max_length=512,\n",
    "      #return_token_type_ids=False,\n",
    "      padding=\"max_length\",\n",
    "      #return_attention_mask=True,\n",
    "      return_tensors='pt',\n",
    "    )\n",
    "\n",
    "    mask = encoding['attention_mask'].to(device)\n",
    "    input_id = encoding['input_ids'].squeeze(1).to(device)\n",
    "\n",
    "    output = model(input_id,mask)\n",
    "    #output.argmax(dim=1)\n",
    "    preds = output.detach().cpu().numpy()\n",
    "    pred_val = np.argmax(preds)\n",
    "    pred_val = list(labels.keys())[list(labels.values()).index(pred_val)] \n",
    "    #print(pred_val)\n",
    "    \n",
    "    #result = [(labels[idx],item *100) for idx,item in enumerate(prob[0].tolist())]\n",
    "    return pred_val\n"
   ]
  },
  {
   "cell_type": "code",
   "execution_count": 22,
   "metadata": {},
   "outputs": [],
   "source": [
    "def clearText(text):\n",
    "    text = str(text).strip().upper()\n",
    "    text = text.encode('utf-8').decode('utf-8')\n",
    "    # replace multiple spaces with a single space\n",
    "    text = re.sub(' +', ' ', text)\n",
    "    # removing paragraph numbers\n",
    "    text = re.sub('[0-9]+.\\t','',str(text))\n",
    "    # removing new line characters\n",
    "    text = re.sub('\\n ','',str(text))\n",
    "    text = re.sub('\\n',' ',str(text))\n",
    "    # removing apostrophes\n",
    "    text = re.sub(\"'s\",'',str(text))\n",
    "    # removing hyphens\n",
    "    text = re.sub(\"-\",' ',str(text))\n",
    "    text = re.sub(\"— \",'',str(text))\n",
    "    # removing quotation marks\n",
    "    text = re.sub('\\\"','',str(text))\n",
    "    # removing any reference to outside text\n",
    "    text = re.sub(\"[\\(\\[].*?[\\)\\]]\", \"\", str(text))\n",
    "    \n",
    "    text = re.sub(r'\\((.*?)\\)',' ',text)\n",
    "    text = re.sub(r\"(@\\[A-Za-z0-9]+)|([^0-9A-Za-z . ! ? : \\( \\) , ; À Á Â Ã Ç È É Ê Ì Í Î Ò Ó Ô Õ Ù Ú Û  ])|(\\w+:\\/\\/\\S+)|^rt|http.+?|[.]{2,}\", \"\", text)\n",
    "    text = re.sub(r'\\n',' ',text)\n",
    "    return text\n"
   ]
  },
  {
   "cell_type": "code",
   "execution_count": 23,
   "metadata": {},
   "outputs": [],
   "source": []
  },
  {
   "cell_type": "code",
   "execution_count": 68,
   "metadata": {},
   "outputs": [],
   "source": [
    "listTxtPredict = []\n",
    "listTxtPredict.append('''XXXIV - são a todos assegurados, independentemente do pagamento de taxas:\n",
    "\n",
    "a) o direito de petição aos Poderes Públicos em defesa de direitos ou contra ilegalidade ou abuso de poder;\n",
    "\n",
    "b) a obtenção de certidões em repartições públicas, para defesa de direitos e esclarecimento de situações de interesse pessoal;\n",
    "\n",
    "XXXV - a lei não excluirá da apreciação do Poder Judiciário lesão ou ameaça a direito;\n",
    "\n",
    "XXXVI - a lei não prejudicará o direito adquirido, o ato jurídico perfeito e a coisa julgada;\n",
    "\n",
    "XXXVII - não haverá juízo ou tribunal de exceção;\n",
    "\n",
    "XXXVIII - é reconhecida a instituição do júri, com a organização que lhe der a lei, assegurados:\n",
    "\n",
    "a) a plenitude de defesa;\n",
    "\n",
    "b) o sigilo das votações;\n",
    "\n",
    "c) a soberania dos veredictos;\n",
    "\n",
    "d) a competência para o julgamento dos crimes dolosos contra a vida; ''')\n",
    "\n",
    "listTxtPredict.append(''' A certificação ou sua renovação será concedida à entidade de assistência social que presta serviços ou realiza ações socioassistenciais, de forma gratuita, continuada e planejada, para os usuários e para quem deles necessitar, sem discriminação, observada a Lei nº 8.742, de 7 de dezembro de 1993 .\n",
    "\n",
    "§ 1º Consideram-se entidades de assistência social aquelas que prestam, sem fins lucrativos, atendimento e assessoramento aos beneficiários abrangidos pela Lei nº 8.742, de 7 de dezembro de 1993 , e as que atuam na defesa e garantia de seus direitos.\n",
    "\n",
    "§ 2º Observado o disposto no caput e no § 1º , também são consideradas entidades de assistência social:\n",
    "\n",
    "I - as que prestam serviços ou ações socioassistenciais, sem qualquer exigência de contraprestação dos usuários, com o objetivo de habilitação e reabilitação da pessoa com deficiência e de promoção da sua inclusão à vida comunitária, no enfrentamento dos limites existentes para as pessoas com deficiência, de forma articulada ou não com ações educacionais ou de saúde;\n",
    "\n",
    "II - as de que trata o inciso II do art. 430 da Consolidação das Leis do Trabalho (CLT), aprovada pelo Decreto-Lei nº 5.452, de 1º de maio de 1943, desde que os programas de aprendizagem de adolescentes, de jovens ou de pessoas com deficiência sejam prestados com a finalidade de promover a integração ao mercado de trabalho, nos termos da Lei nº 8.742, de 7 de dezembro de 1993, observadas as ações protetivas previstas na Lei nº 8.069, de 13 de julho de 1990 ; e\n",
    "\n",
    "III - as que realizam serviço de acolhimento institucional provisório de pessoas e de seus acompanhantes, que estejam em trânsito e sem condições de autossustento, durante o tratamento de doenças graves fora da localidade de residência, observada a Lei nº 8.742, de 7 de dezembro de 1993. ''')\n",
    "\n",
    "\n",
    "listTxtPredict.append('''Aplica-se às pessoas jurídicas de direito privado sem\n",
    "finalidade de lucros, especialmente entidade imune,\n",
    "isenta de impostos e contribuições para a seguridade\n",
    "social, beneficente de assistência social e\n",
    "atendimento aos Ministérios que, direta ou\n",
    "indiretamente, têm relação com entidades sem\n",
    "finalidade de lucros e, ainda, Receita Federal do\n",
    "Brasil e demais órgãos federais, estaduais e\n",
    "municipais.''')\n",
    "\n",
    "listTxtPredict.append('''A entidade sem finalidade de lucros pode ser constituída sob a natureza jurídica de fundação\n",
    "de direito privado, associação, organização social, organização religiosa, partido político e\n",
    "entidade sindical.\n",
    "3. A entidade sem finalidade de lucros pode exercer atividades, tais como as de assistência\n",
    "social, saúde, educação, técnico-científica, esportiva, religiosa, política, cultural, beneficente,\n",
    "social e outras, administrando pessoas, coisas, fatos e interesses coexistentes, e coordenados\n",
    "em torno de um patrimônio com finalidade comum ou comunitária..''')\n",
    "\n",
    "\n",
    "listTxtPredict.append('''Esta Interpretação aplica-se às pessoas jurídicas de direito privado sem finalidade de lucros,\n",
    "especialmente entidade imune, isenta de impostos e contribuições para a seguridade social,\n",
    "beneficente de assistência social e atendimento aos Ministérios que, direta ou indiretamente,\n",
    "têm relação com entidades sem finalidade de lucros e, ainda, Receita Federal do Brasil e\n",
    "demais órgãos federais, estaduais e municipais.\n",
    "7. Esta Interpretação..''')\n",
    "\n",
    "\n",
    "listTxtPredict.append('''A entidade sem finalidade de lucros deve constituir provisão em montante suficiente para\n",
    "cobrir as perdas esperadas sobre créditos a receber, com base em estimativa de seus prováveis\n",
    "valores de realização e baixar os valores prescritos, incobráveis e anistiados.''')\n",
    "\n",
    "\n",
    "listTxtPredict.append('''A Lei nº 9.637 de 1998, que instituiu a primeira forma das organizações sociais de interesse público, deu ao conceito de terceiro setor contornos tecnicamente definidos, afirma Simões. Essa lei foi formulada de acordo com a perspectiva do antigo Ministério da Administração e Reforma do Estado, segundo o qual as atividades do Estado são as do Poder Executivo, Judiciário e Legislativo e Ministério Público são exclusivas, mas as não exclusivas, embora estatais, que configuram o terceiro setor podem realizar-se em convênio ou parceria com organizações privadas, como escolas, hospitais, centros de pesquisa, entidades assistenciais e empresas estatais, vinculadas ao mercado ''')\n",
    "\n",
    "\n",
    "listTxtPredict.append('''Nesse mesmo sentido de entidades paralelas ao Estado, podem ser incluídas, hoje, além dos serviços sociais autônomos, também as entidades de apoio (em especial fundações, associações e cooperativas), as chamadas organizações sociais e as organizações da sociedade civil de interesse público.''')"
   ]
  },
  {
   "cell_type": "code",
   "execution_count": 69,
   "metadata": {},
   "outputs": [
    {
     "name": "stdout",
     "output_type": "stream",
     "text": [
      "XXXIV   SÃO A TODOS ASSEGURADOS, INDEPENDENTEMENTE DO PAGAMENTO DE TAXAS:  A) O DIREITO DE PETIÇÃO AOS PODERES PÚBLICOS EM DEFESA DE DIREITOS OU CONTRA ILEGALIDADE OU ABUSO DE PODER;  B) A OBTENÇÃO DE CERTIDÕES EM REPARTIÇÕES PÚBLICAS, PARA DEFESA DE DIREITOS E ESCLARECIMENTO DE SITUAÇÕES DE INTERESSE PESSOAL;  XXXV   A LEI NÃO EXCLUIRÁ DA APRECIAÇÃO DO PODER JUDICIÁRIO LESÃO OU AMEAÇA A DIREITO;  XXXVI   A LEI NÃO PREJUDICARÁ O DIREITO ADQUIRIDO, O ATO JURÍDICO PERFEITO E A COISA JULGADA;  XXXVII   NÃO HAVERÁ JUÍZO OU TRIBUNAL DE EXCEÇÃO;  XXXVIII   É RECONHECIDA A INSTITUIÇÃO DO JÚRI, COM A ORGANIZAÇÃO QUE LHE DER A LEI, ASSEGURADOS:  A) A PLENITUDE DE DEFESA;  B) O SIGILO DAS VOTAÇÕES;  C) A SOBERANIA DOS VEREDICTOS;  D) A COMPETÊNCIA PARA O JULGAMENTO DOS CRIMES DOLOSOS CONTRA A VIDA; -------------------------->  <b>outros</b> \n",
      "\n",
      "\n",
      " --------------- \n",
      "\n",
      "A CERTIFICAÇÃO OU SUA RENOVAÇÃO SERÁ CONCEDIDA À ENTIDADE DE ASSISTÊNCIA SOCIAL QUE PRESTA SERVIÇOS OU REALIZA AÇÕES SOCIOASSISTENCIAIS, DE FORMA GRATUITA, CONTINUADA E PLANEJADA, PARA OS USUÁRIOS E PARA QUEM DELES NECESSITAR, SEM DISCRIMINAÇÃO, OBSERVADA A LEI N 8.742, DE 7 DE DEZEMBRO DE 1993 .   1 CONSIDERAM SE ENTIDADES DE ASSISTÊNCIA SOCIAL AQUELAS QUE PRESTAM, SEM FINS LUCRATIVOS, ATENDIMENTO E ASSESSORAMENTO AOS BENEFICIÁRIOS ABRANGIDOS PELA LEI N 8.742, DE 7 DE DEZEMBRO DE 1993 , E AS QUE ATUAM NA DEFESA E GARANTIA DE SEUS DIREITOS.   2 OBSERVADO O DISPOSTO NO CAPUT E NO  1 , TAMBÉM SÃO CONSIDERADAS ENTIDADES DE ASSISTÊNCIA SOCIAL:  I   AS QUE PRESTAM SERVIÇOS OU AÇÕES SOCIOASSISTENCIAIS, SEM QUALQUER EXIGÊNCIA DE CONTRAPRESTAÇÃO DOS USUÁRIOS, COM O OBJETIVO DE HABILITAÇÃO E REABILITAÇÃO DA PESSOA COM DEFICIÊNCIA E DE PROMOÇÃO DA SUA INCLUSÃO À VIDA COMUNITÁRIA, NO ENFRENTAMENTO DOS LIMITES EXISTENTES PARA AS PESSOAS COM DEFICIÊNCIA, DE FORMA ARTICULADA OU NÃO COM AÇÕES EDUCACIONAIS OU DE SAÚDE;  II   AS DE QUE TRATA O INCISO II DO ART. 430 DA CONSOLIDAÇÃO DAS LEIS DO TRABALHO , APROVADA PELO DECRETO LEI N 5.452, DE 1 DE MAIO DE 1943, DESDE QUE OS PROGRAMAS DE APRENDIZAGEM DE ADOLESCENTES, DE JOVENS OU DE PESSOAS COM DEFICIÊNCIA SEJAM PRESTADOS COM A FINALIDADE DE PROMOVER A INTEGRAÇÃO AO MERCADO DE TRABALHO, NOS TERMOS DA LEI N 8.742, DE 7 DE DEZEMBRO DE 1993, OBSERVADAS AS AÇÕES PROTETIVAS PREVISTAS NA LEI N 8.069, DE 13 DE JULHO DE 1990 ; E  III   AS QUE REALIZAM SERVIÇO DE ACOLHIMENTO INSTITUCIONAL PROVISÓRIO DE PESSOAS E DE SEUS ACOMPANHANTES, QUE ESTEJAM EM TRÂNSITO E SEM CONDIÇÕES DE AUTOSSUSTENTO, DURANTE O TRATAMENTO DE DOENÇAS GRAVES FORA DA LOCALIDADE DE RESIDÊNCIA, OBSERVADA A LEI N 8.742, DE 7 DE DEZEMBRO DE 1993. -------------------------->  <b>terceiro_setor</b> \n",
      "\n",
      "\n",
      " --------------- \n",
      "\n",
      "APLICA SE ÀS PESSOAS JURÍDICAS DE DIREITO PRIVADO SEM FINALIDADE DE LUCROS, ESPECIALMENTE ENTIDADE IMUNE, ISENTA DE IMPOSTOS E CONTRIBUIÇÕES PARA A SEGURIDADE SOCIAL, BENEFICENTE DE ASSISTÊNCIA SOCIAL E ATENDIMENTO AOS MINISTÉRIOS QUE, DIRETA OU INDIRETAMENTE, TÊM RELAÇÃO COM ENTIDADES SEM FINALIDADE DE LUCROS E, AINDA, RECEITA FEDERAL DO BRASIL E DEMAIS ÓRGÃOS FEDERAIS, ESTADUAIS E MUNICIPAIS. -------------------------->  <b>outros</b> \n",
      "\n",
      "\n",
      " --------------- \n",
      "\n",
      "A ENTIDADE SEM FINALIDADE DE LUCROS PODE SER CONSTITUÍDA SOB A NATUREZA JURÍDICA DE FUNDAÇÃO DE DIREITO PRIVADO, ASSOCIAÇÃO, ORGANIZAÇÃO SOCIAL, ORGANIZAÇÃO RELIGIOSA, PARTIDO POLÍTICO E ENTIDADE SINDICAL. 3. A ENTIDADE SEM FINALIDADE DE LUCROS PODE EXERCER ATIVIDADES, TAIS COMO AS DE ASSISTÊNCIA SOCIAL, SAÚDE, EDUCAÇÃO, TÉCNICO CIENTÍFICA, ESPORTIVA, RELIGIOSA, POLÍTICA, CULTURAL, BENEFICENTE, SOCIAL E OUTRAS, ADMINISTRANDO PESSOAS, COISAS, FATOS E INTERESSES COEXISTENTES, E COORDENADOS EM TORNO DE UM PATRIMÔNIO COM FINALIDADE COMUM OU COMUNITÁRIA -------------------------->  <b>terceiro_setor</b> \n",
      "\n",
      "\n",
      " --------------- \n",
      "\n",
      "ESTA INTERPRETAÇÃO APLICA SE ÀS PESSOAS JURÍDICAS DE DIREITO PRIVADO SEM FINALIDADE DE LUCROS, ESPECIALMENTE ENTIDADE IMUNE, ISENTA DE IMPOSTOS E CONTRIBUIÇÕES PARA A SEGURIDADE SOCIAL, BENEFICENTE DE ASSISTÊNCIA SOCIAL E ATENDIMENTO AOS MINISTÉRIOS QUE, DIRETA OU INDIRETAMENTE, TÊM RELAÇÃO COM ENTIDADES SEM FINALIDADE DE LUCROS E, AINDA, RECEITA FEDERAL DO BRASIL E DEMAIS ÓRGÃOS FEDERAIS, ESTADUAIS E MUNICIPAIS. 7. ESTA INTERPRETAÇÃO -------------------------->  <b>outros</b> \n",
      "\n",
      "\n",
      " --------------- \n",
      "\n",
      "A ENTIDADE SEM FINALIDADE DE LUCROS DEVE CONSTITUIR PROVISÃO EM MONTANTE SUFICIENTE PARA COBRIR AS PERDAS ESPERADAS SOBRE CRÉDITOS A RECEBER, COM BASE EM ESTIMATIVA DE SEUS PROVÁVEIS VALORES DE REALIZAÇÃO E BAIXAR OS VALORES PRESCRITOS, INCOBRÁVEIS E ANISTIADOS. -------------------------->  <b>terceiro_setor</b> \n",
      "\n",
      "\n",
      " --------------- \n",
      "\n",
      "A LEI N 9.637 DE 1998, QUE INSTITUIU A PRIMEIRA FORMA DAS ORGANIZAÇÕES SOCIAIS DE INTERESSE PÚBLICO, DEU AO CONCEITO DE TERCEIRO SETOR CONTORNOS TECNICAMENTE DEFINIDOS, AFIRMA SIMÕES. ESSA LEI FOI FORMULADA DE ACORDO COM A PERSPECTIVA DO ANTIGO MINISTÉRIO DA ADMINISTRAÇÃO E REFORMA DO ESTADO, SEGUNDO O QUAL AS ATIVIDADES DO ESTADO SÃO AS DO PODER EXECUTIVO, JUDICIÁRIO E LEGISLATIVO E MINISTÉRIO PÚBLICO SÃO EXCLUSIVAS, MAS AS NÃO EXCLUSIVAS, EMBORA ESTATAIS, QUE CONFIGURAM O TERCEIRO SETOR PODEM REALIZAR SE EM CONVÊNIO OU PARCERIA COM ORGANIZAÇÕES PRIVADAS, COMO ESCOLAS, HOSPITAIS, CENTROS DE PESQUISA, ENTIDADES ASSISTENCIAIS E EMPRESAS ESTATAIS, VINCULADAS AO MERCADO -------------------------->  <b>terceiro_setor</b> \n",
      "\n",
      "\n",
      " --------------- \n",
      "\n",
      "NESSE MESMO SENTIDO DE ENTIDADES PARALELAS AO ESTADO, PODEM SER INCLUÍDAS, HOJE, ALÉM DOS SERVIÇOS SOCIAIS AUTÔNOMOS, TAMBÉM AS ENTIDADES DE APOIO , AS CHAMADAS ORGANIZAÇÕES SOCIAIS E AS ORGANIZAÇÕES DA SOCIEDADE CIVIL DE INTERESSE PÚBLICO. -------------------------->  <b>terceiro_setor</b> \n",
      "\n",
      "\n",
      " --------------- \n",
      "\n"
     ]
    }
   ],
   "source": [
    "for txtPredict in listTxtPredict:\n",
    "    txtPredict = clearText(txtPredict)\n",
    "    print(f'{txtPredict} -------------------------->  <b>{predict(txtPredict)}</b> \\n')\n",
    "    print('\\n --------------- \\n')"
   ]
  },
  {
   "cell_type": "code",
   "execution_count": 52,
   "metadata": {},
   "outputs": [
    {
     "data": {
      "text/plain": [
       "'terceiro_setor'"
      ]
     },
     "execution_count": 52,
     "metadata": {},
     "output_type": "execute_result"
    }
   ],
   "source": [
    "predict(clearText(txtPredict[3]))"
   ]
  },
  {
   "cell_type": "code",
   "execution_count": 33,
   "metadata": {},
   "outputs": [
    {
     "name": "stdout",
     "output_type": "stream",
     "text": [
      "outros\n"
     ]
    }
   ],
   "source": [
    "print(list(labels.keys())[list(labels.values()).index(0)])"
   ]
  },
  {
   "cell_type": "code",
   "execution_count": 30,
   "metadata": {},
   "outputs": [
    {
     "data": {
      "text/plain": [
       "{'outros': 0, 'terceiro_setor': 1}"
      ]
     },
     "execution_count": 30,
     "metadata": {},
     "output_type": "execute_result"
    }
   ],
   "source": [
    "labels"
   ]
  },
  {
   "cell_type": "code",
   "execution_count": null,
   "metadata": {
    "colab": {
     "base_uri": "https://localhost:8080/"
    },
    "id": "pJnrPrEE8kgN",
    "outputId": "c58781e8-96a8-459f-8ad7-e46c0833e5ee"
   },
   "outputs": [
    {
     "name": "stdout",
     "output_type": "stream",
     "text": [
      "####### LOG: 22/06/2022 20:20:25 --> Cleaning texts: \n",
      "  ... \n",
      "<class 'pandas.core.frame.DataFrame'>\n",
      "RangeIndex: 164644 entries, 0 to 164643\n",
      "Data columns (total 2 columns):\n",
      " #   Column      Non-Null Count   Dtype \n",
      "---  ------      --------------   ----- \n",
      " 0   nr_empenho  164644 non-null  object\n",
      " 1   historico   164644 non-null  object\n",
      "dtypes: object(2)\n",
      "memory usage: 2.5+ MB\n"
     ]
    }
   ],
   "source": [
    "dfSampled = dfFull.copy()\n",
    "logprint__('Cleaning texts: \\n','...')\n",
    "dfSampled[\"historico\"] = dfSampled[\"historico\"].apply(padraoNome)\n",
    "dfSampled.info()"
   ]
  },
  {
   "cell_type": "code",
   "execution_count": null,
   "metadata": {
    "colab": {
     "base_uri": "https://localhost:8080/"
    },
    "id": "1xVDvAX78oAu",
    "outputId": "15a8bbdf-9005-4a2a-f0cc-c5b258873708"
   },
   "outputs": [
    {
     "data": {
      "text/plain": [
       "0    162494\n",
       "2      2021\n",
       "1       129\n",
       "Name: category, dtype: int64"
      ]
     },
     "execution_count": 56,
     "metadata": {},
     "output_type": "execute_result"
    }
   ],
   "source": [
    "dfSampled['category'] = dfSampled[\"historico\"].apply(predict)\n",
    "dfSampled.category.value_counts()"
   ]
  },
  {
   "cell_type": "code",
   "execution_count": null,
   "metadata": {
    "colab": {
     "base_uri": "https://localhost:8080/",
     "height": 175
    },
    "id": "ZEyKcemw8sgA",
    "outputId": "dfad874e-2137-4ede-c43d-826aa3e509c5"
   },
   "outputs": [
    {
     "data": {
      "text/html": [
       "\n",
       "  <div id=\"df-de98184f-0258-4157-b1e5-ed1818ba9e2d\">\n",
       "    <div class=\"colab-df-container\">\n",
       "      <div>\n",
       "<style scoped>\n",
       "    .dataframe tbody tr th:only-of-type {\n",
       "        vertical-align: middle;\n",
       "    }\n",
       "\n",
       "    .dataframe tbody tr th {\n",
       "        vertical-align: top;\n",
       "    }\n",
       "\n",
       "    .dataframe thead th {\n",
       "        text-align: right;\n",
       "    }\n",
       "</style>\n",
       "<table border=\"1\" class=\"dataframe\">\n",
       "  <thead>\n",
       "    <tr style=\"text-align: right;\">\n",
       "      <th></th>\n",
       "      <th>nr_empenho</th>\n",
       "      <th>historico</th>\n",
       "      <th>category</th>\n",
       "    </tr>\n",
       "  </thead>\n",
       "  <tbody>\n",
       "    <tr>\n",
       "      <th>62269</th>\n",
       "      <td>2021.3361.009.00031</td>\n",
       "      <td>Empenho destinado à celebração de convênio a s...</td>\n",
       "      <td>1</td>\n",
       "    </tr>\n",
       "    <tr>\n",
       "      <th>62236</th>\n",
       "      <td>2021.3361.009.00011</td>\n",
       "      <td>Empenho destinada a formalização de Convênio a...</td>\n",
       "      <td>1</td>\n",
       "    </tr>\n",
       "    <tr>\n",
       "      <th>116933</th>\n",
       "      <td>2021.2550.007.00015</td>\n",
       "      <td>Realização de convênio entre a Secretaria e Es...</td>\n",
       "      <td>1</td>\n",
       "    </tr>\n",
       "    <tr>\n",
       "      <th>53009</th>\n",
       "      <td>2022.1901.016.00126</td>\n",
       "      <td>Emenda Parlamentar Impositiva Número 2506 Muni...</td>\n",
       "      <td>1</td>\n",
       "    </tr>\n",
       "  </tbody>\n",
       "</table>\n",
       "</div>\n",
       "      <button class=\"colab-df-convert\" onclick=\"convertToInteractive('df-de98184f-0258-4157-b1e5-ed1818ba9e2d')\"\n",
       "              title=\"Convert this dataframe to an interactive table.\"\n",
       "              style=\"display:none;\">\n",
       "        \n",
       "  <svg xmlns=\"http://www.w3.org/2000/svg\" height=\"24px\"viewBox=\"0 0 24 24\"\n",
       "       width=\"24px\">\n",
       "    <path d=\"M0 0h24v24H0V0z\" fill=\"none\"/>\n",
       "    <path d=\"M18.56 5.44l.94 2.06.94-2.06 2.06-.94-2.06-.94-.94-2.06-.94 2.06-2.06.94zm-11 1L8.5 8.5l.94-2.06 2.06-.94-2.06-.94L8.5 2.5l-.94 2.06-2.06.94zm10 10l.94 2.06.94-2.06 2.06-.94-2.06-.94-.94-2.06-.94 2.06-2.06.94z\"/><path d=\"M17.41 7.96l-1.37-1.37c-.4-.4-.92-.59-1.43-.59-.52 0-1.04.2-1.43.59L10.3 9.45l-7.72 7.72c-.78.78-.78 2.05 0 2.83L4 21.41c.39.39.9.59 1.41.59.51 0 1.02-.2 1.41-.59l7.78-7.78 2.81-2.81c.8-.78.8-2.07 0-2.86zM5.41 20L4 18.59l7.72-7.72 1.47 1.35L5.41 20z\"/>\n",
       "  </svg>\n",
       "      </button>\n",
       "      \n",
       "  <style>\n",
       "    .colab-df-container {\n",
       "      display:flex;\n",
       "      flex-wrap:wrap;\n",
       "      gap: 12px;\n",
       "    }\n",
       "\n",
       "    .colab-df-convert {\n",
       "      background-color: #E8F0FE;\n",
       "      border: none;\n",
       "      border-radius: 50%;\n",
       "      cursor: pointer;\n",
       "      display: none;\n",
       "      fill: #1967D2;\n",
       "      height: 32px;\n",
       "      padding: 0 0 0 0;\n",
       "      width: 32px;\n",
       "    }\n",
       "\n",
       "    .colab-df-convert:hover {\n",
       "      background-color: #E2EBFA;\n",
       "      box-shadow: 0px 1px 2px rgba(60, 64, 67, 0.3), 0px 1px 3px 1px rgba(60, 64, 67, 0.15);\n",
       "      fill: #174EA6;\n",
       "    }\n",
       "\n",
       "    [theme=dark] .colab-df-convert {\n",
       "      background-color: #3B4455;\n",
       "      fill: #D2E3FC;\n",
       "    }\n",
       "\n",
       "    [theme=dark] .colab-df-convert:hover {\n",
       "      background-color: #434B5C;\n",
       "      box-shadow: 0px 1px 3px 1px rgba(0, 0, 0, 0.15);\n",
       "      filter: drop-shadow(0px 1px 2px rgba(0, 0, 0, 0.3));\n",
       "      fill: #FFFFFF;\n",
       "    }\n",
       "  </style>\n",
       "\n",
       "      <script>\n",
       "        const buttonEl =\n",
       "          document.querySelector('#df-de98184f-0258-4157-b1e5-ed1818ba9e2d button.colab-df-convert');\n",
       "        buttonEl.style.display =\n",
       "          google.colab.kernel.accessAllowed ? 'block' : 'none';\n",
       "\n",
       "        async function convertToInteractive(key) {\n",
       "          const element = document.querySelector('#df-de98184f-0258-4157-b1e5-ed1818ba9e2d');\n",
       "          const dataTable =\n",
       "            await google.colab.kernel.invokeFunction('convertToInteractive',\n",
       "                                                     [key], {});\n",
       "          if (!dataTable) return;\n",
       "\n",
       "          const docLinkHtml = 'Like what you see? Visit the ' +\n",
       "            '<a target=\"_blank\" href=https://colab.research.google.com/notebooks/data_table.ipynb>data table notebook</a>'\n",
       "            + ' to learn more about interactive tables.';\n",
       "          element.innerHTML = '';\n",
       "          dataTable['output_type'] = 'display_data';\n",
       "          await google.colab.output.renderOutput(dataTable, element);\n",
       "          const docLink = document.createElement('div');\n",
       "          docLink.innerHTML = docLinkHtml;\n",
       "          element.appendChild(docLink);\n",
       "        }\n",
       "      </script>\n",
       "    </div>\n",
       "  </div>\n",
       "  "
      ],
      "text/plain": [
       "                 nr_empenho  \\\n",
       "62269   2021.3361.009.00031   \n",
       "62236   2021.3361.009.00011   \n",
       "116933  2021.2550.007.00015   \n",
       "53009   2022.1901.016.00126   \n",
       "\n",
       "                                                historico  category  \n",
       "62269   Empenho destinado à celebração de convênio a s...         1  \n",
       "62236   Empenho destinada a formalização de Convênio a...         1  \n",
       "116933  Realização de convênio entre a Secretaria e Es...         1  \n",
       "53009   Emenda Parlamentar Impositiva Número 2506 Muni...         1  "
      ]
     },
     "execution_count": 43,
     "metadata": {},
     "output_type": "execute_result"
    }
   ],
   "source": [
    "dfSampled[dfSampled['category']==1]"
   ]
  },
  {
   "cell_type": "code",
   "execution_count": null,
   "metadata": {
    "id": "mqilSPY-DSsC"
   },
   "outputs": [],
   "source": [
    "dfSampled.to_excel(\"/content/dataset/exec_IA_04_22062022.xlsx\")"
   ]
  },
  {
   "cell_type": "code",
   "execution_count": null,
   "metadata": {
    "id": "tlQHpp-wFB68"
   },
   "outputs": [],
   "source": []
  }
 ],
 "metadata": {
  "accelerator": "GPU",
  "colab": {
   "collapsed_sections": [],
   "name": "ProcessPyToch.ipynb",
   "provenance": []
  },
  "gpuClass": "standard",
  "kernelspec": {
   "display_name": "Python 3.8.13 ('regbrvenv')",
   "language": "python",
   "name": "python3"
  },
  "language_info": {
   "codemirror_mode": {
    "name": "ipython",
    "version": 3
   },
   "file_extension": ".py",
   "mimetype": "text/x-python",
   "name": "python",
   "nbconvert_exporter": "python",
   "pygments_lexer": "ipython3",
   "version": "3.8.13"
  },
  "vscode": {
   "interpreter": {
    "hash": "601ca906c358f79a24be79d158e974197a945b5107ea69cef8e74e43057d606c"
   }
  },
  "widgets": {
   "application/vnd.jupyter.widget-state+json": {
    "0a255766fb40481b824f0210f01c4f9d": {
     "model_module": "@jupyter-widgets/controls",
     "model_module_version": "1.5.0",
     "model_name": "DescriptionStyleModel",
     "state": {
      "_model_module": "@jupyter-widgets/controls",
      "_model_module_version": "1.5.0",
      "_model_name": "DescriptionStyleModel",
      "_view_count": null,
      "_view_module": "@jupyter-widgets/base",
      "_view_module_version": "1.2.0",
      "_view_name": "StyleView",
      "description_width": ""
     }
    },
    "0db862f3bd9d4067b1bdf6cc8019c59e": {
     "model_module": "@jupyter-widgets/controls",
     "model_module_version": "1.5.0",
     "model_name": "ProgressStyleModel",
     "state": {
      "_model_module": "@jupyter-widgets/controls",
      "_model_module_version": "1.5.0",
      "_model_name": "ProgressStyleModel",
      "_view_count": null,
      "_view_module": "@jupyter-widgets/base",
      "_view_module_version": "1.2.0",
      "_view_name": "StyleView",
      "bar_color": null,
      "description_width": ""
     }
    },
    "0fc5eee41f1c417d8bd49204fc53cc6b": {
     "model_module": "@jupyter-widgets/base",
     "model_module_version": "1.2.0",
     "model_name": "LayoutModel",
     "state": {
      "_model_module": "@jupyter-widgets/base",
      "_model_module_version": "1.2.0",
      "_model_name": "LayoutModel",
      "_view_count": null,
      "_view_module": "@jupyter-widgets/base",
      "_view_module_version": "1.2.0",
      "_view_name": "LayoutView",
      "align_content": null,
      "align_items": null,
      "align_self": null,
      "border": null,
      "bottom": null,
      "display": null,
      "flex": null,
      "flex_flow": null,
      "grid_area": null,
      "grid_auto_columns": null,
      "grid_auto_flow": null,
      "grid_auto_rows": null,
      "grid_column": null,
      "grid_gap": null,
      "grid_row": null,
      "grid_template_areas": null,
      "grid_template_columns": null,
      "grid_template_rows": null,
      "height": null,
      "justify_content": null,
      "justify_items": null,
      "left": null,
      "margin": null,
      "max_height": null,
      "max_width": null,
      "min_height": null,
      "min_width": null,
      "object_fit": null,
      "object_position": null,
      "order": null,
      "overflow": null,
      "overflow_x": null,
      "overflow_y": null,
      "padding": null,
      "right": null,
      "top": null,
      "visibility": null,
      "width": null
     }
    },
    "13ca1dee30e44c75800115b5c4f3ce34": {
     "model_module": "@jupyter-widgets/controls",
     "model_module_version": "1.5.0",
     "model_name": "DescriptionStyleModel",
     "state": {
      "_model_module": "@jupyter-widgets/controls",
      "_model_module_version": "1.5.0",
      "_model_name": "DescriptionStyleModel",
      "_view_count": null,
      "_view_module": "@jupyter-widgets/base",
      "_view_module_version": "1.2.0",
      "_view_name": "StyleView",
      "description_width": ""
     }
    },
    "16535875166c44b8969bcea1899a5c58": {
     "model_module": "@jupyter-widgets/base",
     "model_module_version": "1.2.0",
     "model_name": "LayoutModel",
     "state": {
      "_model_module": "@jupyter-widgets/base",
      "_model_module_version": "1.2.0",
      "_model_name": "LayoutModel",
      "_view_count": null,
      "_view_module": "@jupyter-widgets/base",
      "_view_module_version": "1.2.0",
      "_view_name": "LayoutView",
      "align_content": null,
      "align_items": null,
      "align_self": null,
      "border": null,
      "bottom": null,
      "display": null,
      "flex": null,
      "flex_flow": null,
      "grid_area": null,
      "grid_auto_columns": null,
      "grid_auto_flow": null,
      "grid_auto_rows": null,
      "grid_column": null,
      "grid_gap": null,
      "grid_row": null,
      "grid_template_areas": null,
      "grid_template_columns": null,
      "grid_template_rows": null,
      "height": null,
      "justify_content": null,
      "justify_items": null,
      "left": null,
      "margin": null,
      "max_height": null,
      "max_width": null,
      "min_height": null,
      "min_width": null,
      "object_fit": null,
      "object_position": null,
      "order": null,
      "overflow": null,
      "overflow_x": null,
      "overflow_y": null,
      "padding": null,
      "right": null,
      "top": null,
      "visibility": null,
      "width": null
     }
    },
    "19461a5997824222a81a6b9a6ce0b8b5": {
     "model_module": "@jupyter-widgets/controls",
     "model_module_version": "1.5.0",
     "model_name": "DescriptionStyleModel",
     "state": {
      "_model_module": "@jupyter-widgets/controls",
      "_model_module_version": "1.5.0",
      "_model_name": "DescriptionStyleModel",
      "_view_count": null,
      "_view_module": "@jupyter-widgets/base",
      "_view_module_version": "1.2.0",
      "_view_name": "StyleView",
      "description_width": ""
     }
    },
    "1ad2a78f916e4253886d7175f6f9cc2a": {
     "model_module": "@jupyter-widgets/controls",
     "model_module_version": "1.5.0",
     "model_name": "FloatProgressModel",
     "state": {
      "_dom_classes": [],
      "_model_module": "@jupyter-widgets/controls",
      "_model_module_version": "1.5.0",
      "_model_name": "FloatProgressModel",
      "_view_count": null,
      "_view_module": "@jupyter-widgets/controls",
      "_view_module_version": "1.5.0",
      "_view_name": "ProgressView",
      "bar_style": "success",
      "description": "",
      "description_tooltip": null,
      "layout": "IPY_MODEL_758e7d3f995346c7af807bb2c284b91c",
      "max": 647,
      "min": 0,
      "orientation": "horizontal",
      "style": "IPY_MODEL_5a850fa4dc984ca0a2756dd6396b8064",
      "value": 647
     }
    },
    "1b1def3f2af44097a48a3c4f0abf240c": {
     "model_module": "@jupyter-widgets/base",
     "model_module_version": "1.2.0",
     "model_name": "LayoutModel",
     "state": {
      "_model_module": "@jupyter-widgets/base",
      "_model_module_version": "1.2.0",
      "_model_name": "LayoutModel",
      "_view_count": null,
      "_view_module": "@jupyter-widgets/base",
      "_view_module_version": "1.2.0",
      "_view_name": "LayoutView",
      "align_content": null,
      "align_items": null,
      "align_self": null,
      "border": null,
      "bottom": null,
      "display": null,
      "flex": null,
      "flex_flow": null,
      "grid_area": null,
      "grid_auto_columns": null,
      "grid_auto_flow": null,
      "grid_auto_rows": null,
      "grid_column": null,
      "grid_gap": null,
      "grid_row": null,
      "grid_template_areas": null,
      "grid_template_columns": null,
      "grid_template_rows": null,
      "height": null,
      "justify_content": null,
      "justify_items": null,
      "left": null,
      "margin": null,
      "max_height": null,
      "max_width": null,
      "min_height": null,
      "min_width": null,
      "object_fit": null,
      "object_position": null,
      "order": null,
      "overflow": null,
      "overflow_x": null,
      "overflow_y": null,
      "padding": null,
      "right": null,
      "top": null,
      "visibility": null,
      "width": null
     }
    },
    "22629ed33a5f42319c779a6a7cb5f928": {
     "model_module": "@jupyter-widgets/controls",
     "model_module_version": "1.5.0",
     "model_name": "HTMLModel",
     "state": {
      "_dom_classes": [],
      "_model_module": "@jupyter-widgets/controls",
      "_model_module_version": "1.5.0",
      "_model_name": "HTMLModel",
      "_view_count": null,
      "_view_module": "@jupyter-widgets/controls",
      "_view_module_version": "1.5.0",
      "_view_name": "HTMLView",
      "description": "",
      "description_tooltip": null,
      "layout": "IPY_MODEL_f5db8af3b1fe44d6af5b8800bbfe35cc",
      "placeholder": "​",
      "style": "IPY_MODEL_d237ae48fd1541c599461dc0cb1e103b",
      "value": "Downloading: 100%"
     }
    },
    "273c3246bb20420bb75879644707b9aa": {
     "model_module": "@jupyter-widgets/base",
     "model_module_version": "1.2.0",
     "model_name": "LayoutModel",
     "state": {
      "_model_module": "@jupyter-widgets/base",
      "_model_module_version": "1.2.0",
      "_model_name": "LayoutModel",
      "_view_count": null,
      "_view_module": "@jupyter-widgets/base",
      "_view_module_version": "1.2.0",
      "_view_name": "LayoutView",
      "align_content": null,
      "align_items": null,
      "align_self": null,
      "border": null,
      "bottom": null,
      "display": null,
      "flex": null,
      "flex_flow": null,
      "grid_area": null,
      "grid_auto_columns": null,
      "grid_auto_flow": null,
      "grid_auto_rows": null,
      "grid_column": null,
      "grid_gap": null,
      "grid_row": null,
      "grid_template_areas": null,
      "grid_template_columns": null,
      "grid_template_rows": null,
      "height": null,
      "justify_content": null,
      "justify_items": null,
      "left": null,
      "margin": null,
      "max_height": null,
      "max_width": null,
      "min_height": null,
      "min_width": null,
      "object_fit": null,
      "object_position": null,
      "order": null,
      "overflow": null,
      "overflow_x": null,
      "overflow_y": null,
      "padding": null,
      "right": null,
      "top": null,
      "visibility": null,
      "width": null
     }
    },
    "27b4a00a947d4997a20cd6ea608123c9": {
     "model_module": "@jupyter-widgets/base",
     "model_module_version": "1.2.0",
     "model_name": "LayoutModel",
     "state": {
      "_model_module": "@jupyter-widgets/base",
      "_model_module_version": "1.2.0",
      "_model_name": "LayoutModel",
      "_view_count": null,
      "_view_module": "@jupyter-widgets/base",
      "_view_module_version": "1.2.0",
      "_view_name": "LayoutView",
      "align_content": null,
      "align_items": null,
      "align_self": null,
      "border": null,
      "bottom": null,
      "display": null,
      "flex": null,
      "flex_flow": null,
      "grid_area": null,
      "grid_auto_columns": null,
      "grid_auto_flow": null,
      "grid_auto_rows": null,
      "grid_column": null,
      "grid_gap": null,
      "grid_row": null,
      "grid_template_areas": null,
      "grid_template_columns": null,
      "grid_template_rows": null,
      "height": null,
      "justify_content": null,
      "justify_items": null,
      "left": null,
      "margin": null,
      "max_height": null,
      "max_width": null,
      "min_height": null,
      "min_width": null,
      "object_fit": null,
      "object_position": null,
      "order": null,
      "overflow": null,
      "overflow_x": null,
      "overflow_y": null,
      "padding": null,
      "right": null,
      "top": null,
      "visibility": null,
      "width": null
     }
    },
    "2a159ff9292e4f229b1177059b336690": {
     "model_module": "@jupyter-widgets/base",
     "model_module_version": "1.2.0",
     "model_name": "LayoutModel",
     "state": {
      "_model_module": "@jupyter-widgets/base",
      "_model_module_version": "1.2.0",
      "_model_name": "LayoutModel",
      "_view_count": null,
      "_view_module": "@jupyter-widgets/base",
      "_view_module_version": "1.2.0",
      "_view_name": "LayoutView",
      "align_content": null,
      "align_items": null,
      "align_self": null,
      "border": null,
      "bottom": null,
      "display": null,
      "flex": null,
      "flex_flow": null,
      "grid_area": null,
      "grid_auto_columns": null,
      "grid_auto_flow": null,
      "grid_auto_rows": null,
      "grid_column": null,
      "grid_gap": null,
      "grid_row": null,
      "grid_template_areas": null,
      "grid_template_columns": null,
      "grid_template_rows": null,
      "height": null,
      "justify_content": null,
      "justify_items": null,
      "left": null,
      "margin": null,
      "max_height": null,
      "max_width": null,
      "min_height": null,
      "min_width": null,
      "object_fit": null,
      "object_position": null,
      "order": null,
      "overflow": null,
      "overflow_x": null,
      "overflow_y": null,
      "padding": null,
      "right": null,
      "top": null,
      "visibility": null,
      "width": null
     }
    },
    "32e57475a9b940c5bfc7d8b04f4fafbd": {
     "model_module": "@jupyter-widgets/base",
     "model_module_version": "1.2.0",
     "model_name": "LayoutModel",
     "state": {
      "_model_module": "@jupyter-widgets/base",
      "_model_module_version": "1.2.0",
      "_model_name": "LayoutModel",
      "_view_count": null,
      "_view_module": "@jupyter-widgets/base",
      "_view_module_version": "1.2.0",
      "_view_name": "LayoutView",
      "align_content": null,
      "align_items": null,
      "align_self": null,
      "border": null,
      "bottom": null,
      "display": null,
      "flex": null,
      "flex_flow": null,
      "grid_area": null,
      "grid_auto_columns": null,
      "grid_auto_flow": null,
      "grid_auto_rows": null,
      "grid_column": null,
      "grid_gap": null,
      "grid_row": null,
      "grid_template_areas": null,
      "grid_template_columns": null,
      "grid_template_rows": null,
      "height": null,
      "justify_content": null,
      "justify_items": null,
      "left": null,
      "margin": null,
      "max_height": null,
      "max_width": null,
      "min_height": null,
      "min_width": null,
      "object_fit": null,
      "object_position": null,
      "order": null,
      "overflow": null,
      "overflow_x": null,
      "overflow_y": null,
      "padding": null,
      "right": null,
      "top": null,
      "visibility": null,
      "width": null
     }
    },
    "3af59fe32baa4be4af73220d73881047": {
     "model_module": "@jupyter-widgets/controls",
     "model_module_version": "1.5.0",
     "model_name": "DescriptionStyleModel",
     "state": {
      "_model_module": "@jupyter-widgets/controls",
      "_model_module_version": "1.5.0",
      "_model_name": "DescriptionStyleModel",
      "_view_count": null,
      "_view_module": "@jupyter-widgets/base",
      "_view_module_version": "1.2.0",
      "_view_name": "StyleView",
      "description_width": ""
     }
    },
    "3b87ea8ee0a14d3f9faae420026035c1": {
     "model_module": "@jupyter-widgets/base",
     "model_module_version": "1.2.0",
     "model_name": "LayoutModel",
     "state": {
      "_model_module": "@jupyter-widgets/base",
      "_model_module_version": "1.2.0",
      "_model_name": "LayoutModel",
      "_view_count": null,
      "_view_module": "@jupyter-widgets/base",
      "_view_module_version": "1.2.0",
      "_view_name": "LayoutView",
      "align_content": null,
      "align_items": null,
      "align_self": null,
      "border": null,
      "bottom": null,
      "display": null,
      "flex": null,
      "flex_flow": null,
      "grid_area": null,
      "grid_auto_columns": null,
      "grid_auto_flow": null,
      "grid_auto_rows": null,
      "grid_column": null,
      "grid_gap": null,
      "grid_row": null,
      "grid_template_areas": null,
      "grid_template_columns": null,
      "grid_template_rows": null,
      "height": null,
      "justify_content": null,
      "justify_items": null,
      "left": null,
      "margin": null,
      "max_height": null,
      "max_width": null,
      "min_height": null,
      "min_width": null,
      "object_fit": null,
      "object_position": null,
      "order": null,
      "overflow": null,
      "overflow_x": null,
      "overflow_y": null,
      "padding": null,
      "right": null,
      "top": null,
      "visibility": null,
      "width": null
     }
    },
    "3bef3669bee445818b445021b47dd1da": {
     "model_module": "@jupyter-widgets/controls",
     "model_module_version": "1.5.0",
     "model_name": "DescriptionStyleModel",
     "state": {
      "_model_module": "@jupyter-widgets/controls",
      "_model_module_version": "1.5.0",
      "_model_name": "DescriptionStyleModel",
      "_view_count": null,
      "_view_module": "@jupyter-widgets/base",
      "_view_module_version": "1.2.0",
      "_view_name": "StyleView",
      "description_width": ""
     }
    },
    "4856a1604dbf4e9780c70d0734b186dc": {
     "model_module": "@jupyter-widgets/controls",
     "model_module_version": "1.5.0",
     "model_name": "DescriptionStyleModel",
     "state": {
      "_model_module": "@jupyter-widgets/controls",
      "_model_module_version": "1.5.0",
      "_model_name": "DescriptionStyleModel",
      "_view_count": null,
      "_view_module": "@jupyter-widgets/base",
      "_view_module_version": "1.2.0",
      "_view_name": "StyleView",
      "description_width": ""
     }
    },
    "48aa1c27369f457a8e4a3db9f7768594": {
     "model_module": "@jupyter-widgets/controls",
     "model_module_version": "1.5.0",
     "model_name": "HTMLModel",
     "state": {
      "_dom_classes": [],
      "_model_module": "@jupyter-widgets/controls",
      "_model_module_version": "1.5.0",
      "_model_name": "HTMLModel",
      "_view_count": null,
      "_view_module": "@jupyter-widgets/controls",
      "_view_module_version": "1.5.0",
      "_view_name": "HTMLView",
      "description": "",
      "description_tooltip": null,
      "layout": "IPY_MODEL_4c3126cc5aa74980a90da9d9fe802897",
      "placeholder": "​",
      "style": "IPY_MODEL_9c67601b857e449193befbaeca4d81a5",
      "value": "Downloading: 100%"
     }
    },
    "4c3126cc5aa74980a90da9d9fe802897": {
     "model_module": "@jupyter-widgets/base",
     "model_module_version": "1.2.0",
     "model_name": "LayoutModel",
     "state": {
      "_model_module": "@jupyter-widgets/base",
      "_model_module_version": "1.2.0",
      "_model_name": "LayoutModel",
      "_view_count": null,
      "_view_module": "@jupyter-widgets/base",
      "_view_module_version": "1.2.0",
      "_view_name": "LayoutView",
      "align_content": null,
      "align_items": null,
      "align_self": null,
      "border": null,
      "bottom": null,
      "display": null,
      "flex": null,
      "flex_flow": null,
      "grid_area": null,
      "grid_auto_columns": null,
      "grid_auto_flow": null,
      "grid_auto_rows": null,
      "grid_column": null,
      "grid_gap": null,
      "grid_row": null,
      "grid_template_areas": null,
      "grid_template_columns": null,
      "grid_template_rows": null,
      "height": null,
      "justify_content": null,
      "justify_items": null,
      "left": null,
      "margin": null,
      "max_height": null,
      "max_width": null,
      "min_height": null,
      "min_width": null,
      "object_fit": null,
      "object_position": null,
      "order": null,
      "overflow": null,
      "overflow_x": null,
      "overflow_y": null,
      "padding": null,
      "right": null,
      "top": null,
      "visibility": null,
      "width": null
     }
    },
    "4fb02069447544f094e83c9002fafbae": {
     "model_module": "@jupyter-widgets/controls",
     "model_module_version": "1.5.0",
     "model_name": "FloatProgressModel",
     "state": {
      "_dom_classes": [],
      "_model_module": "@jupyter-widgets/controls",
      "_model_module_version": "1.5.0",
      "_model_name": "FloatProgressModel",
      "_view_count": null,
      "_view_module": "@jupyter-widgets/controls",
      "_view_module_version": "1.5.0",
      "_view_name": "ProgressView",
      "bar_style": "success",
      "description": "",
      "description_tooltip": null,
      "layout": "IPY_MODEL_59bb725a82d04a67a11f21ec2e0b9b3f",
      "max": 112,
      "min": 0,
      "orientation": "horizontal",
      "style": "IPY_MODEL_b8909a7c7330487590660c85d81dcec4",
      "value": 112
     }
    },
    "5609cc67fe3f4e8596ff414d74adb33f": {
     "model_module": "@jupyter-widgets/controls",
     "model_module_version": "1.5.0",
     "model_name": "HTMLModel",
     "state": {
      "_dom_classes": [],
      "_model_module": "@jupyter-widgets/controls",
      "_model_module_version": "1.5.0",
      "_model_name": "HTMLModel",
      "_view_count": null,
      "_view_module": "@jupyter-widgets/controls",
      "_view_module_version": "1.5.0",
      "_view_name": "HTMLView",
      "description": "",
      "description_tooltip": null,
      "layout": "IPY_MODEL_2a159ff9292e4f229b1177059b336690",
      "placeholder": "​",
      "style": "IPY_MODEL_13ca1dee30e44c75800115b5c4f3ce34",
      "value": "Downloading: 100%"
     }
    },
    "59218d473af24cb8b469546824e17f6e": {
     "model_module": "@jupyter-widgets/base",
     "model_module_version": "1.2.0",
     "model_name": "LayoutModel",
     "state": {
      "_model_module": "@jupyter-widgets/base",
      "_model_module_version": "1.2.0",
      "_model_name": "LayoutModel",
      "_view_count": null,
      "_view_module": "@jupyter-widgets/base",
      "_view_module_version": "1.2.0",
      "_view_name": "LayoutView",
      "align_content": null,
      "align_items": null,
      "align_self": null,
      "border": null,
      "bottom": null,
      "display": null,
      "flex": null,
      "flex_flow": null,
      "grid_area": null,
      "grid_auto_columns": null,
      "grid_auto_flow": null,
      "grid_auto_rows": null,
      "grid_column": null,
      "grid_gap": null,
      "grid_row": null,
      "grid_template_areas": null,
      "grid_template_columns": null,
      "grid_template_rows": null,
      "height": null,
      "justify_content": null,
      "justify_items": null,
      "left": null,
      "margin": null,
      "max_height": null,
      "max_width": null,
      "min_height": null,
      "min_width": null,
      "object_fit": null,
      "object_position": null,
      "order": null,
      "overflow": null,
      "overflow_x": null,
      "overflow_y": null,
      "padding": null,
      "right": null,
      "top": null,
      "visibility": null,
      "width": null
     }
    },
    "59bb725a82d04a67a11f21ec2e0b9b3f": {
     "model_module": "@jupyter-widgets/base",
     "model_module_version": "1.2.0",
     "model_name": "LayoutModel",
     "state": {
      "_model_module": "@jupyter-widgets/base",
      "_model_module_version": "1.2.0",
      "_model_name": "LayoutModel",
      "_view_count": null,
      "_view_module": "@jupyter-widgets/base",
      "_view_module_version": "1.2.0",
      "_view_name": "LayoutView",
      "align_content": null,
      "align_items": null,
      "align_self": null,
      "border": null,
      "bottom": null,
      "display": null,
      "flex": null,
      "flex_flow": null,
      "grid_area": null,
      "grid_auto_columns": null,
      "grid_auto_flow": null,
      "grid_auto_rows": null,
      "grid_column": null,
      "grid_gap": null,
      "grid_row": null,
      "grid_template_areas": null,
      "grid_template_columns": null,
      "grid_template_rows": null,
      "height": null,
      "justify_content": null,
      "justify_items": null,
      "left": null,
      "margin": null,
      "max_height": null,
      "max_width": null,
      "min_height": null,
      "min_width": null,
      "object_fit": null,
      "object_position": null,
      "order": null,
      "overflow": null,
      "overflow_x": null,
      "overflow_y": null,
      "padding": null,
      "right": null,
      "top": null,
      "visibility": null,
      "width": null
     }
    },
    "5a850fa4dc984ca0a2756dd6396b8064": {
     "model_module": "@jupyter-widgets/controls",
     "model_module_version": "1.5.0",
     "model_name": "ProgressStyleModel",
     "state": {
      "_model_module": "@jupyter-widgets/controls",
      "_model_module_version": "1.5.0",
      "_model_name": "ProgressStyleModel",
      "_view_count": null,
      "_view_module": "@jupyter-widgets/base",
      "_view_module_version": "1.2.0",
      "_view_name": "StyleView",
      "bar_color": null,
      "description_width": ""
     }
    },
    "5fc03df5bc41410fa78b2a3b72dce91f": {
     "model_module": "@jupyter-widgets/base",
     "model_module_version": "1.2.0",
     "model_name": "LayoutModel",
     "state": {
      "_model_module": "@jupyter-widgets/base",
      "_model_module_version": "1.2.0",
      "_model_name": "LayoutModel",
      "_view_count": null,
      "_view_module": "@jupyter-widgets/base",
      "_view_module_version": "1.2.0",
      "_view_name": "LayoutView",
      "align_content": null,
      "align_items": null,
      "align_self": null,
      "border": null,
      "bottom": null,
      "display": null,
      "flex": null,
      "flex_flow": null,
      "grid_area": null,
      "grid_auto_columns": null,
      "grid_auto_flow": null,
      "grid_auto_rows": null,
      "grid_column": null,
      "grid_gap": null,
      "grid_row": null,
      "grid_template_areas": null,
      "grid_template_columns": null,
      "grid_template_rows": null,
      "height": null,
      "justify_content": null,
      "justify_items": null,
      "left": null,
      "margin": null,
      "max_height": null,
      "max_width": null,
      "min_height": null,
      "min_width": null,
      "object_fit": null,
      "object_position": null,
      "order": null,
      "overflow": null,
      "overflow_x": null,
      "overflow_y": null,
      "padding": null,
      "right": null,
      "top": null,
      "visibility": null,
      "width": null
     }
    },
    "72c161b0bf134a81859c51c574d792f7": {
     "model_module": "@jupyter-widgets/controls",
     "model_module_version": "1.5.0",
     "model_name": "HTMLModel",
     "state": {
      "_dom_classes": [],
      "_model_module": "@jupyter-widgets/controls",
      "_model_module_version": "1.5.0",
      "_model_name": "HTMLModel",
      "_view_count": null,
      "_view_module": "@jupyter-widgets/controls",
      "_view_module_version": "1.5.0",
      "_view_name": "HTMLView",
      "description": "",
      "description_tooltip": null,
      "layout": "IPY_MODEL_f8bcc16fbef343bb8e5a687d75665152",
      "placeholder": "​",
      "style": "IPY_MODEL_19461a5997824222a81a6b9a6ce0b8b5",
      "value": " 647/647 [00:00&lt;00:00, 13.5kB/s]"
     }
    },
    "741b1ca02b7f4f6094082bd2ae3dcd62": {
     "model_module": "@jupyter-widgets/controls",
     "model_module_version": "1.5.0",
     "model_name": "DescriptionStyleModel",
     "state": {
      "_model_module": "@jupyter-widgets/controls",
      "_model_module_version": "1.5.0",
      "_model_name": "DescriptionStyleModel",
      "_view_count": null,
      "_view_module": "@jupyter-widgets/base",
      "_view_module_version": "1.2.0",
      "_view_name": "StyleView",
      "description_width": ""
     }
    },
    "758e7d3f995346c7af807bb2c284b91c": {
     "model_module": "@jupyter-widgets/base",
     "model_module_version": "1.2.0",
     "model_name": "LayoutModel",
     "state": {
      "_model_module": "@jupyter-widgets/base",
      "_model_module_version": "1.2.0",
      "_model_name": "LayoutModel",
      "_view_count": null,
      "_view_module": "@jupyter-widgets/base",
      "_view_module_version": "1.2.0",
      "_view_name": "LayoutView",
      "align_content": null,
      "align_items": null,
      "align_self": null,
      "border": null,
      "bottom": null,
      "display": null,
      "flex": null,
      "flex_flow": null,
      "grid_area": null,
      "grid_auto_columns": null,
      "grid_auto_flow": null,
      "grid_auto_rows": null,
      "grid_column": null,
      "grid_gap": null,
      "grid_row": null,
      "grid_template_areas": null,
      "grid_template_columns": null,
      "grid_template_rows": null,
      "height": null,
      "justify_content": null,
      "justify_items": null,
      "left": null,
      "margin": null,
      "max_height": null,
      "max_width": null,
      "min_height": null,
      "min_width": null,
      "object_fit": null,
      "object_position": null,
      "order": null,
      "overflow": null,
      "overflow_x": null,
      "overflow_y": null,
      "padding": null,
      "right": null,
      "top": null,
      "visibility": null,
      "width": null
     }
    },
    "77cb9cfaddbc4dd5a0db3b556cf3dafb": {
     "model_module": "@jupyter-widgets/controls",
     "model_module_version": "1.5.0",
     "model_name": "FloatProgressModel",
     "state": {
      "_dom_classes": [],
      "_model_module": "@jupyter-widgets/controls",
      "_model_module_version": "1.5.0",
      "_model_name": "FloatProgressModel",
      "_view_count": null,
      "_view_module": "@jupyter-widgets/controls",
      "_view_module_version": "1.5.0",
      "_view_name": "ProgressView",
      "bar_style": "success",
      "description": "",
      "description_tooltip": null,
      "layout": "IPY_MODEL_5fc03df5bc41410fa78b2a3b72dce91f",
      "max": 438235074,
      "min": 0,
      "orientation": "horizontal",
      "style": "IPY_MODEL_cf2707e24e2c49bf94c24f1330733952",
      "value": 438235074
     }
    },
    "7a4d8c3ab2f741e9a610d535a060ba8b": {
     "model_module": "@jupyter-widgets/controls",
     "model_module_version": "1.5.0",
     "model_name": "HBoxModel",
     "state": {
      "_dom_classes": [],
      "_model_module": "@jupyter-widgets/controls",
      "_model_module_version": "1.5.0",
      "_model_name": "HBoxModel",
      "_view_count": null,
      "_view_module": "@jupyter-widgets/controls",
      "_view_module_version": "1.5.0",
      "_view_name": "HBoxView",
      "box_style": "",
      "children": [
       "IPY_MODEL_48aa1c27369f457a8e4a3db9f7768594",
       "IPY_MODEL_4fb02069447544f094e83c9002fafbae",
       "IPY_MODEL_c3469f12c79b47fd82efc2a7bbcbfe97"
      ],
      "layout": "IPY_MODEL_16535875166c44b8969bcea1899a5c58"
     }
    },
    "7a97cd5b6be34df0aaee1b766077e14c": {
     "model_module": "@jupyter-widgets/controls",
     "model_module_version": "1.5.0",
     "model_name": "ProgressStyleModel",
     "state": {
      "_model_module": "@jupyter-widgets/controls",
      "_model_module_version": "1.5.0",
      "_model_name": "ProgressStyleModel",
      "_view_count": null,
      "_view_module": "@jupyter-widgets/base",
      "_view_module_version": "1.2.0",
      "_view_name": "StyleView",
      "bar_color": null,
      "description_width": ""
     }
    },
    "80225005b9f94f3b87a0f58e6a2d972f": {
     "model_module": "@jupyter-widgets/base",
     "model_module_version": "1.2.0",
     "model_name": "LayoutModel",
     "state": {
      "_model_module": "@jupyter-widgets/base",
      "_model_module_version": "1.2.0",
      "_model_name": "LayoutModel",
      "_view_count": null,
      "_view_module": "@jupyter-widgets/base",
      "_view_module_version": "1.2.0",
      "_view_name": "LayoutView",
      "align_content": null,
      "align_items": null,
      "align_self": null,
      "border": null,
      "bottom": null,
      "display": null,
      "flex": null,
      "flex_flow": null,
      "grid_area": null,
      "grid_auto_columns": null,
      "grid_auto_flow": null,
      "grid_auto_rows": null,
      "grid_column": null,
      "grid_gap": null,
      "grid_row": null,
      "grid_template_areas": null,
      "grid_template_columns": null,
      "grid_template_rows": null,
      "height": null,
      "justify_content": null,
      "justify_items": null,
      "left": null,
      "margin": null,
      "max_height": null,
      "max_width": null,
      "min_height": null,
      "min_width": null,
      "object_fit": null,
      "object_position": null,
      "order": null,
      "overflow": null,
      "overflow_x": null,
      "overflow_y": null,
      "padding": null,
      "right": null,
      "top": null,
      "visibility": null,
      "width": null
     }
    },
    "95dad82fad7e423d8c2b54139eb1ebcf": {
     "model_module": "@jupyter-widgets/controls",
     "model_module_version": "1.5.0",
     "model_name": "FloatProgressModel",
     "state": {
      "_dom_classes": [],
      "_model_module": "@jupyter-widgets/controls",
      "_model_module_version": "1.5.0",
      "_model_name": "FloatProgressModel",
      "_view_count": null,
      "_view_module": "@jupyter-widgets/controls",
      "_view_module_version": "1.5.0",
      "_view_name": "ProgressView",
      "bar_style": "success",
      "description": "",
      "description_tooltip": null,
      "layout": "IPY_MODEL_e0ba79c64f2a4e1ab1cdf68297a79279",
      "max": 43,
      "min": 0,
      "orientation": "horizontal",
      "style": "IPY_MODEL_c33032039b3d42e4bf81a857f7060af6",
      "value": 43
     }
    },
    "9c67601b857e449193befbaeca4d81a5": {
     "model_module": "@jupyter-widgets/controls",
     "model_module_version": "1.5.0",
     "model_name": "DescriptionStyleModel",
     "state": {
      "_model_module": "@jupyter-widgets/controls",
      "_model_module_version": "1.5.0",
      "_model_name": "DescriptionStyleModel",
      "_view_count": null,
      "_view_module": "@jupyter-widgets/base",
      "_view_module_version": "1.2.0",
      "_view_name": "StyleView",
      "description_width": ""
     }
    },
    "a1156f4451e8442f812223d78e3d1152": {
     "model_module": "@jupyter-widgets/base",
     "model_module_version": "1.2.0",
     "model_name": "LayoutModel",
     "state": {
      "_model_module": "@jupyter-widgets/base",
      "_model_module_version": "1.2.0",
      "_model_name": "LayoutModel",
      "_view_count": null,
      "_view_module": "@jupyter-widgets/base",
      "_view_module_version": "1.2.0",
      "_view_name": "LayoutView",
      "align_content": null,
      "align_items": null,
      "align_self": null,
      "border": null,
      "bottom": null,
      "display": null,
      "flex": null,
      "flex_flow": null,
      "grid_area": null,
      "grid_auto_columns": null,
      "grid_auto_flow": null,
      "grid_auto_rows": null,
      "grid_column": null,
      "grid_gap": null,
      "grid_row": null,
      "grid_template_areas": null,
      "grid_template_columns": null,
      "grid_template_rows": null,
      "height": null,
      "justify_content": null,
      "justify_items": null,
      "left": null,
      "margin": null,
      "max_height": null,
      "max_width": null,
      "min_height": null,
      "min_width": null,
      "object_fit": null,
      "object_position": null,
      "order": null,
      "overflow": null,
      "overflow_x": null,
      "overflow_y": null,
      "padding": null,
      "right": null,
      "top": null,
      "visibility": null,
      "width": null
     }
    },
    "a18b000d0d6a431fac485e47e02eb811": {
     "model_module": "@jupyter-widgets/base",
     "model_module_version": "1.2.0",
     "model_name": "LayoutModel",
     "state": {
      "_model_module": "@jupyter-widgets/base",
      "_model_module_version": "1.2.0",
      "_model_name": "LayoutModel",
      "_view_count": null,
      "_view_module": "@jupyter-widgets/base",
      "_view_module_version": "1.2.0",
      "_view_name": "LayoutView",
      "align_content": null,
      "align_items": null,
      "align_self": null,
      "border": null,
      "bottom": null,
      "display": null,
      "flex": null,
      "flex_flow": null,
      "grid_area": null,
      "grid_auto_columns": null,
      "grid_auto_flow": null,
      "grid_auto_rows": null,
      "grid_column": null,
      "grid_gap": null,
      "grid_row": null,
      "grid_template_areas": null,
      "grid_template_columns": null,
      "grid_template_rows": null,
      "height": null,
      "justify_content": null,
      "justify_items": null,
      "left": null,
      "margin": null,
      "max_height": null,
      "max_width": null,
      "min_height": null,
      "min_width": null,
      "object_fit": null,
      "object_position": null,
      "order": null,
      "overflow": null,
      "overflow_x": null,
      "overflow_y": null,
      "padding": null,
      "right": null,
      "top": null,
      "visibility": null,
      "width": null
     }
    },
    "a4ce9a37c413492385ef931238bffcb5": {
     "model_module": "@jupyter-widgets/controls",
     "model_module_version": "1.5.0",
     "model_name": "HBoxModel",
     "state": {
      "_dom_classes": [],
      "_model_module": "@jupyter-widgets/controls",
      "_model_module_version": "1.5.0",
      "_model_name": "HBoxModel",
      "_view_count": null,
      "_view_module": "@jupyter-widgets/controls",
      "_view_module_version": "1.5.0",
      "_view_name": "HBoxView",
      "box_style": "",
      "children": [
       "IPY_MODEL_c89ab036030f438bb08aff231547ad09",
       "IPY_MODEL_1ad2a78f916e4253886d7175f6f9cc2a",
       "IPY_MODEL_72c161b0bf134a81859c51c574d792f7"
      ],
      "layout": "IPY_MODEL_27b4a00a947d4997a20cd6ea608123c9"
     }
    },
    "a4d7249eb4c1480a96fbb7e77575321b": {
     "model_module": "@jupyter-widgets/controls",
     "model_module_version": "1.5.0",
     "model_name": "HTMLModel",
     "state": {
      "_dom_classes": [],
      "_model_module": "@jupyter-widgets/controls",
      "_model_module_version": "1.5.0",
      "_model_name": "HTMLModel",
      "_view_count": null,
      "_view_module": "@jupyter-widgets/controls",
      "_view_module_version": "1.5.0",
      "_view_name": "HTMLView",
      "description": "",
      "description_tooltip": null,
      "layout": "IPY_MODEL_32e57475a9b940c5bfc7d8b04f4fafbd",
      "placeholder": "​",
      "style": "IPY_MODEL_b9b54b7f61ce4e638aa9d14afe590b2a",
      "value": " 43.0/43.0 [00:11&lt;00:00, 3.66B/s]"
     }
    },
    "ad7535bdfb0c47cba608e276b5f63c74": {
     "model_module": "@jupyter-widgets/base",
     "model_module_version": "1.2.0",
     "model_name": "LayoutModel",
     "state": {
      "_model_module": "@jupyter-widgets/base",
      "_model_module_version": "1.2.0",
      "_model_name": "LayoutModel",
      "_view_count": null,
      "_view_module": "@jupyter-widgets/base",
      "_view_module_version": "1.2.0",
      "_view_name": "LayoutView",
      "align_content": null,
      "align_items": null,
      "align_self": null,
      "border": null,
      "bottom": null,
      "display": null,
      "flex": null,
      "flex_flow": null,
      "grid_area": null,
      "grid_auto_columns": null,
      "grid_auto_flow": null,
      "grid_auto_rows": null,
      "grid_column": null,
      "grid_gap": null,
      "grid_row": null,
      "grid_template_areas": null,
      "grid_template_columns": null,
      "grid_template_rows": null,
      "height": null,
      "justify_content": null,
      "justify_items": null,
      "left": null,
      "margin": null,
      "max_height": null,
      "max_width": null,
      "min_height": null,
      "min_width": null,
      "object_fit": null,
      "object_position": null,
      "order": null,
      "overflow": null,
      "overflow_x": null,
      "overflow_y": null,
      "padding": null,
      "right": null,
      "top": null,
      "visibility": null,
      "width": null
     }
    },
    "b1c4418c16084bc09305598ea22dfe84": {
     "model_module": "@jupyter-widgets/base",
     "model_module_version": "1.2.0",
     "model_name": "LayoutModel",
     "state": {
      "_model_module": "@jupyter-widgets/base",
      "_model_module_version": "1.2.0",
      "_model_name": "LayoutModel",
      "_view_count": null,
      "_view_module": "@jupyter-widgets/base",
      "_view_module_version": "1.2.0",
      "_view_name": "LayoutView",
      "align_content": null,
      "align_items": null,
      "align_self": null,
      "border": null,
      "bottom": null,
      "display": null,
      "flex": null,
      "flex_flow": null,
      "grid_area": null,
      "grid_auto_columns": null,
      "grid_auto_flow": null,
      "grid_auto_rows": null,
      "grid_column": null,
      "grid_gap": null,
      "grid_row": null,
      "grid_template_areas": null,
      "grid_template_columns": null,
      "grid_template_rows": null,
      "height": null,
      "justify_content": null,
      "justify_items": null,
      "left": null,
      "margin": null,
      "max_height": null,
      "max_width": null,
      "min_height": null,
      "min_width": null,
      "object_fit": null,
      "object_position": null,
      "order": null,
      "overflow": null,
      "overflow_x": null,
      "overflow_y": null,
      "padding": null,
      "right": null,
      "top": null,
      "visibility": null,
      "width": null
     }
    },
    "b1ca28b1997042199c78c28cce4af33c": {
     "model_module": "@jupyter-widgets/controls",
     "model_module_version": "1.5.0",
     "model_name": "FloatProgressModel",
     "state": {
      "_dom_classes": [],
      "_model_module": "@jupyter-widgets/controls",
      "_model_module_version": "1.5.0",
      "_model_name": "FloatProgressModel",
      "_view_count": null,
      "_view_module": "@jupyter-widgets/controls",
      "_view_module_version": "1.5.0",
      "_view_name": "ProgressView",
      "bar_style": "success",
      "description": "",
      "description_tooltip": null,
      "layout": "IPY_MODEL_59218d473af24cb8b469546824e17f6e",
      "max": 2,
      "min": 0,
      "orientation": "horizontal",
      "style": "IPY_MODEL_7a97cd5b6be34df0aaee1b766077e14c",
      "value": 2
     }
    },
    "b5317768eebd4599a15afd4e4fe43ba4": {
     "model_module": "@jupyter-widgets/controls",
     "model_module_version": "1.5.0",
     "model_name": "HTMLModel",
     "state": {
      "_dom_classes": [],
      "_model_module": "@jupyter-widgets/controls",
      "_model_module_version": "1.5.0",
      "_model_name": "HTMLModel",
      "_view_count": null,
      "_view_module": "@jupyter-widgets/controls",
      "_view_module_version": "1.5.0",
      "_view_name": "HTMLView",
      "description": "",
      "description_tooltip": null,
      "layout": "IPY_MODEL_a1156f4451e8442f812223d78e3d1152",
      "placeholder": "​",
      "style": "IPY_MODEL_741b1ca02b7f4f6094082bd2ae3dcd62",
      "value": " 205k/205k [00:06&lt;00:00, 30.0kB/s]"
     }
    },
    "b8909a7c7330487590660c85d81dcec4": {
     "model_module": "@jupyter-widgets/controls",
     "model_module_version": "1.5.0",
     "model_name": "ProgressStyleModel",
     "state": {
      "_model_module": "@jupyter-widgets/controls",
      "_model_module_version": "1.5.0",
      "_model_name": "ProgressStyleModel",
      "_view_count": null,
      "_view_module": "@jupyter-widgets/base",
      "_view_module_version": "1.2.0",
      "_view_name": "StyleView",
      "bar_color": null,
      "description_width": ""
     }
    },
    "b9b54b7f61ce4e638aa9d14afe590b2a": {
     "model_module": "@jupyter-widgets/controls",
     "model_module_version": "1.5.0",
     "model_name": "DescriptionStyleModel",
     "state": {
      "_model_module": "@jupyter-widgets/controls",
      "_model_module_version": "1.5.0",
      "_model_name": "DescriptionStyleModel",
      "_view_count": null,
      "_view_module": "@jupyter-widgets/base",
      "_view_module_version": "1.2.0",
      "_view_name": "StyleView",
      "description_width": ""
     }
    },
    "ba8be52f0b9c455b9f1269cc5b03a314": {
     "model_module": "@jupyter-widgets/controls",
     "model_module_version": "1.5.0",
     "model_name": "DescriptionStyleModel",
     "state": {
      "_model_module": "@jupyter-widgets/controls",
      "_model_module_version": "1.5.0",
      "_model_name": "DescriptionStyleModel",
      "_view_count": null,
      "_view_module": "@jupyter-widgets/base",
      "_view_module_version": "1.2.0",
      "_view_name": "StyleView",
      "description_width": ""
     }
    },
    "c33032039b3d42e4bf81a857f7060af6": {
     "model_module": "@jupyter-widgets/controls",
     "model_module_version": "1.5.0",
     "model_name": "ProgressStyleModel",
     "state": {
      "_model_module": "@jupyter-widgets/controls",
      "_model_module_version": "1.5.0",
      "_model_name": "ProgressStyleModel",
      "_view_count": null,
      "_view_module": "@jupyter-widgets/base",
      "_view_module_version": "1.2.0",
      "_view_name": "StyleView",
      "bar_color": null,
      "description_width": ""
     }
    },
    "c3469f12c79b47fd82efc2a7bbcbfe97": {
     "model_module": "@jupyter-widgets/controls",
     "model_module_version": "1.5.0",
     "model_name": "HTMLModel",
     "state": {
      "_dom_classes": [],
      "_model_module": "@jupyter-widgets/controls",
      "_model_module_version": "1.5.0",
      "_model_name": "HTMLModel",
      "_view_count": null,
      "_view_module": "@jupyter-widgets/controls",
      "_view_module_version": "1.5.0",
      "_view_name": "HTMLView",
      "description": "",
      "description_tooltip": null,
      "layout": "IPY_MODEL_a18b000d0d6a431fac485e47e02eb811",
      "placeholder": "​",
      "style": "IPY_MODEL_3bef3669bee445818b445021b47dd1da",
      "value": " 112/112 [00:01&lt;00:00, 61.3B/s]"
     }
    },
    "c6466b6d1e5644cbb642b1ba059de1d8": {
     "model_module": "@jupyter-widgets/controls",
     "model_module_version": "1.5.0",
     "model_name": "HTMLModel",
     "state": {
      "_dom_classes": [],
      "_model_module": "@jupyter-widgets/controls",
      "_model_module_version": "1.5.0",
      "_model_name": "HTMLModel",
      "_view_count": null,
      "_view_module": "@jupyter-widgets/controls",
      "_view_module_version": "1.5.0",
      "_view_name": "HTMLView",
      "description": "",
      "description_tooltip": null,
      "layout": "IPY_MODEL_0fc5eee41f1c417d8bd49204fc53cc6b",
      "placeholder": "​",
      "style": "IPY_MODEL_0a255766fb40481b824f0210f01c4f9d",
      "value": "Downloading: 100%"
     }
    },
    "c7eedab288eb47d19292bd388e934574": {
     "model_module": "@jupyter-widgets/controls",
     "model_module_version": "1.5.0",
     "model_name": "HBoxModel",
     "state": {
      "_dom_classes": [],
      "_model_module": "@jupyter-widgets/controls",
      "_model_module_version": "1.5.0",
      "_model_name": "HBoxModel",
      "_view_count": null,
      "_view_module": "@jupyter-widgets/controls",
      "_view_module_version": "1.5.0",
      "_view_name": "HBoxView",
      "box_style": "",
      "children": [
       "IPY_MODEL_22629ed33a5f42319c779a6a7cb5f928",
       "IPY_MODEL_95dad82fad7e423d8c2b54139eb1ebcf",
       "IPY_MODEL_a4d7249eb4c1480a96fbb7e77575321b"
      ],
      "layout": "IPY_MODEL_b1c4418c16084bc09305598ea22dfe84"
     }
    },
    "c89ab036030f438bb08aff231547ad09": {
     "model_module": "@jupyter-widgets/controls",
     "model_module_version": "1.5.0",
     "model_name": "HTMLModel",
     "state": {
      "_dom_classes": [],
      "_model_module": "@jupyter-widgets/controls",
      "_model_module_version": "1.5.0",
      "_model_name": "HTMLModel",
      "_view_count": null,
      "_view_module": "@jupyter-widgets/controls",
      "_view_module_version": "1.5.0",
      "_view_name": "HTMLView",
      "description": "",
      "description_tooltip": null,
      "layout": "IPY_MODEL_1b1def3f2af44097a48a3c4f0abf240c",
      "placeholder": "​",
      "style": "IPY_MODEL_4856a1604dbf4e9780c70d0734b186dc",
      "value": "Downloading: 100%"
     }
    },
    "c9bd10baad4d4064921427846a675fb6": {
     "model_module": "@jupyter-widgets/base",
     "model_module_version": "1.2.0",
     "model_name": "LayoutModel",
     "state": {
      "_model_module": "@jupyter-widgets/base",
      "_model_module_version": "1.2.0",
      "_model_name": "LayoutModel",
      "_view_count": null,
      "_view_module": "@jupyter-widgets/base",
      "_view_module_version": "1.2.0",
      "_view_name": "LayoutView",
      "align_content": null,
      "align_items": null,
      "align_self": null,
      "border": null,
      "bottom": null,
      "display": null,
      "flex": null,
      "flex_flow": null,
      "grid_area": null,
      "grid_auto_columns": null,
      "grid_auto_flow": null,
      "grid_auto_rows": null,
      "grid_column": null,
      "grid_gap": null,
      "grid_row": null,
      "grid_template_areas": null,
      "grid_template_columns": null,
      "grid_template_rows": null,
      "height": null,
      "justify_content": null,
      "justify_items": null,
      "left": null,
      "margin": null,
      "max_height": null,
      "max_width": null,
      "min_height": null,
      "min_width": null,
      "object_fit": null,
      "object_position": null,
      "order": null,
      "overflow": null,
      "overflow_x": null,
      "overflow_y": null,
      "padding": null,
      "right": null,
      "top": null,
      "visibility": null,
      "width": null
     }
    },
    "cbe4a6d932bd48ee8247788710a60a88": {
     "model_module": "@jupyter-widgets/controls",
     "model_module_version": "1.5.0",
     "model_name": "FloatProgressModel",
     "state": {
      "_dom_classes": [],
      "_model_module": "@jupyter-widgets/controls",
      "_model_module_version": "1.5.0",
      "_model_name": "FloatProgressModel",
      "_view_count": null,
      "_view_module": "@jupyter-widgets/controls",
      "_view_module_version": "1.5.0",
      "_view_name": "ProgressView",
      "bar_style": "success",
      "description": "",
      "description_tooltip": null,
      "layout": "IPY_MODEL_e2eb52f675464ecab6b3eb5d248b61bd",
      "max": 209528,
      "min": 0,
      "orientation": "horizontal",
      "style": "IPY_MODEL_0db862f3bd9d4067b1bdf6cc8019c59e",
      "value": 209528
     }
    },
    "cddfa86462cc46dfa3becce992b60abc": {
     "model_module": "@jupyter-widgets/controls",
     "model_module_version": "1.5.0",
     "model_name": "HTMLModel",
     "state": {
      "_dom_classes": [],
      "_model_module": "@jupyter-widgets/controls",
      "_model_module_version": "1.5.0",
      "_model_name": "HTMLModel",
      "_view_count": null,
      "_view_module": "@jupyter-widgets/controls",
      "_view_module_version": "1.5.0",
      "_view_name": "HTMLView",
      "description": "",
      "description_tooltip": null,
      "layout": "IPY_MODEL_c9bd10baad4d4064921427846a675fb6",
      "placeholder": "​",
      "style": "IPY_MODEL_fb1ef1eb58aa49d79c321554fa9bdbdb",
      "value": " 2.00/2.00 [00:01&lt;00:00, 1.09B/s]"
     }
    },
    "cf2707e24e2c49bf94c24f1330733952": {
     "model_module": "@jupyter-widgets/controls",
     "model_module_version": "1.5.0",
     "model_name": "ProgressStyleModel",
     "state": {
      "_model_module": "@jupyter-widgets/controls",
      "_model_module_version": "1.5.0",
      "_model_name": "ProgressStyleModel",
      "_view_count": null,
      "_view_module": "@jupyter-widgets/base",
      "_view_module_version": "1.2.0",
      "_view_name": "StyleView",
      "bar_color": null,
      "description_width": ""
     }
    },
    "d10b0d42f9474cf9b391e50304504ed0": {
     "model_module": "@jupyter-widgets/controls",
     "model_module_version": "1.5.0",
     "model_name": "HBoxModel",
     "state": {
      "_dom_classes": [],
      "_model_module": "@jupyter-widgets/controls",
      "_model_module_version": "1.5.0",
      "_model_name": "HBoxModel",
      "_view_count": null,
      "_view_module": "@jupyter-widgets/controls",
      "_view_module_version": "1.5.0",
      "_view_name": "HBoxView",
      "box_style": "",
      "children": [
       "IPY_MODEL_5609cc67fe3f4e8596ff414d74adb33f",
       "IPY_MODEL_77cb9cfaddbc4dd5a0db3b556cf3dafb",
       "IPY_MODEL_f3a45c5650d748eca6f8c97edf716eb5"
      ],
      "layout": "IPY_MODEL_273c3246bb20420bb75879644707b9aa"
     }
    },
    "d237ae48fd1541c599461dc0cb1e103b": {
     "model_module": "@jupyter-widgets/controls",
     "model_module_version": "1.5.0",
     "model_name": "DescriptionStyleModel",
     "state": {
      "_model_module": "@jupyter-widgets/controls",
      "_model_module_version": "1.5.0",
      "_model_name": "DescriptionStyleModel",
      "_view_count": null,
      "_view_module": "@jupyter-widgets/base",
      "_view_module_version": "1.2.0",
      "_view_name": "StyleView",
      "description_width": ""
     }
    },
    "d44799cc895546a8837f7aa6a5d5758b": {
     "model_module": "@jupyter-widgets/controls",
     "model_module_version": "1.5.0",
     "model_name": "HTMLModel",
     "state": {
      "_dom_classes": [],
      "_model_module": "@jupyter-widgets/controls",
      "_model_module_version": "1.5.0",
      "_model_name": "HTMLModel",
      "_view_count": null,
      "_view_module": "@jupyter-widgets/controls",
      "_view_module_version": "1.5.0",
      "_view_name": "HTMLView",
      "description": "",
      "description_tooltip": null,
      "layout": "IPY_MODEL_80225005b9f94f3b87a0f58e6a2d972f",
      "placeholder": "​",
      "style": "IPY_MODEL_ba8be52f0b9c455b9f1269cc5b03a314",
      "value": "Downloading: 100%"
     }
    },
    "e0ba79c64f2a4e1ab1cdf68297a79279": {
     "model_module": "@jupyter-widgets/base",
     "model_module_version": "1.2.0",
     "model_name": "LayoutModel",
     "state": {
      "_model_module": "@jupyter-widgets/base",
      "_model_module_version": "1.2.0",
      "_model_name": "LayoutModel",
      "_view_count": null,
      "_view_module": "@jupyter-widgets/base",
      "_view_module_version": "1.2.0",
      "_view_name": "LayoutView",
      "align_content": null,
      "align_items": null,
      "align_self": null,
      "border": null,
      "bottom": null,
      "display": null,
      "flex": null,
      "flex_flow": null,
      "grid_area": null,
      "grid_auto_columns": null,
      "grid_auto_flow": null,
      "grid_auto_rows": null,
      "grid_column": null,
      "grid_gap": null,
      "grid_row": null,
      "grid_template_areas": null,
      "grid_template_columns": null,
      "grid_template_rows": null,
      "height": null,
      "justify_content": null,
      "justify_items": null,
      "left": null,
      "margin": null,
      "max_height": null,
      "max_width": null,
      "min_height": null,
      "min_width": null,
      "object_fit": null,
      "object_position": null,
      "order": null,
      "overflow": null,
      "overflow_x": null,
      "overflow_y": null,
      "padding": null,
      "right": null,
      "top": null,
      "visibility": null,
      "width": null
     }
    },
    "e2eb52f675464ecab6b3eb5d248b61bd": {
     "model_module": "@jupyter-widgets/base",
     "model_module_version": "1.2.0",
     "model_name": "LayoutModel",
     "state": {
      "_model_module": "@jupyter-widgets/base",
      "_model_module_version": "1.2.0",
      "_model_name": "LayoutModel",
      "_view_count": null,
      "_view_module": "@jupyter-widgets/base",
      "_view_module_version": "1.2.0",
      "_view_name": "LayoutView",
      "align_content": null,
      "align_items": null,
      "align_self": null,
      "border": null,
      "bottom": null,
      "display": null,
      "flex": null,
      "flex_flow": null,
      "grid_area": null,
      "grid_auto_columns": null,
      "grid_auto_flow": null,
      "grid_auto_rows": null,
      "grid_column": null,
      "grid_gap": null,
      "grid_row": null,
      "grid_template_areas": null,
      "grid_template_columns": null,
      "grid_template_rows": null,
      "height": null,
      "justify_content": null,
      "justify_items": null,
      "left": null,
      "margin": null,
      "max_height": null,
      "max_width": null,
      "min_height": null,
      "min_width": null,
      "object_fit": null,
      "object_position": null,
      "order": null,
      "overflow": null,
      "overflow_x": null,
      "overflow_y": null,
      "padding": null,
      "right": null,
      "top": null,
      "visibility": null,
      "width": null
     }
    },
    "ee145ed4d2114674b9c92383f97d7a3c": {
     "model_module": "@jupyter-widgets/base",
     "model_module_version": "1.2.0",
     "model_name": "LayoutModel",
     "state": {
      "_model_module": "@jupyter-widgets/base",
      "_model_module_version": "1.2.0",
      "_model_name": "LayoutModel",
      "_view_count": null,
      "_view_module": "@jupyter-widgets/base",
      "_view_module_version": "1.2.0",
      "_view_name": "LayoutView",
      "align_content": null,
      "align_items": null,
      "align_self": null,
      "border": null,
      "bottom": null,
      "display": null,
      "flex": null,
      "flex_flow": null,
      "grid_area": null,
      "grid_auto_columns": null,
      "grid_auto_flow": null,
      "grid_auto_rows": null,
      "grid_column": null,
      "grid_gap": null,
      "grid_row": null,
      "grid_template_areas": null,
      "grid_template_columns": null,
      "grid_template_rows": null,
      "height": null,
      "justify_content": null,
      "justify_items": null,
      "left": null,
      "margin": null,
      "max_height": null,
      "max_width": null,
      "min_height": null,
      "min_width": null,
      "object_fit": null,
      "object_position": null,
      "order": null,
      "overflow": null,
      "overflow_x": null,
      "overflow_y": null,
      "padding": null,
      "right": null,
      "top": null,
      "visibility": null,
      "width": null
     }
    },
    "f3a45c5650d748eca6f8c97edf716eb5": {
     "model_module": "@jupyter-widgets/controls",
     "model_module_version": "1.5.0",
     "model_name": "HTMLModel",
     "state": {
      "_dom_classes": [],
      "_model_module": "@jupyter-widgets/controls",
      "_model_module_version": "1.5.0",
      "_model_name": "HTMLModel",
      "_view_count": null,
      "_view_module": "@jupyter-widgets/controls",
      "_view_module_version": "1.5.0",
      "_view_name": "HTMLView",
      "description": "",
      "description_tooltip": null,
      "layout": "IPY_MODEL_3b87ea8ee0a14d3f9faae420026035c1",
      "placeholder": "​",
      "style": "IPY_MODEL_3af59fe32baa4be4af73220d73881047",
      "value": " 418M/418M [00:26&lt;00:00, 16.4MB/s]"
     }
    },
    "f460e444d1674323a2f0f30a7100f2c7": {
     "model_module": "@jupyter-widgets/controls",
     "model_module_version": "1.5.0",
     "model_name": "HBoxModel",
     "state": {
      "_dom_classes": [],
      "_model_module": "@jupyter-widgets/controls",
      "_model_module_version": "1.5.0",
      "_model_name": "HBoxModel",
      "_view_count": null,
      "_view_module": "@jupyter-widgets/controls",
      "_view_module_version": "1.5.0",
      "_view_name": "HBoxView",
      "box_style": "",
      "children": [
       "IPY_MODEL_d44799cc895546a8837f7aa6a5d5758b",
       "IPY_MODEL_b1ca28b1997042199c78c28cce4af33c",
       "IPY_MODEL_cddfa86462cc46dfa3becce992b60abc"
      ],
      "layout": "IPY_MODEL_ad7535bdfb0c47cba608e276b5f63c74"
     }
    },
    "f5db8af3b1fe44d6af5b8800bbfe35cc": {
     "model_module": "@jupyter-widgets/base",
     "model_module_version": "1.2.0",
     "model_name": "LayoutModel",
     "state": {
      "_model_module": "@jupyter-widgets/base",
      "_model_module_version": "1.2.0",
      "_model_name": "LayoutModel",
      "_view_count": null,
      "_view_module": "@jupyter-widgets/base",
      "_view_module_version": "1.2.0",
      "_view_name": "LayoutView",
      "align_content": null,
      "align_items": null,
      "align_self": null,
      "border": null,
      "bottom": null,
      "display": null,
      "flex": null,
      "flex_flow": null,
      "grid_area": null,
      "grid_auto_columns": null,
      "grid_auto_flow": null,
      "grid_auto_rows": null,
      "grid_column": null,
      "grid_gap": null,
      "grid_row": null,
      "grid_template_areas": null,
      "grid_template_columns": null,
      "grid_template_rows": null,
      "height": null,
      "justify_content": null,
      "justify_items": null,
      "left": null,
      "margin": null,
      "max_height": null,
      "max_width": null,
      "min_height": null,
      "min_width": null,
      "object_fit": null,
      "object_position": null,
      "order": null,
      "overflow": null,
      "overflow_x": null,
      "overflow_y": null,
      "padding": null,
      "right": null,
      "top": null,
      "visibility": null,
      "width": null
     }
    },
    "f8bcc16fbef343bb8e5a687d75665152": {
     "model_module": "@jupyter-widgets/base",
     "model_module_version": "1.2.0",
     "model_name": "LayoutModel",
     "state": {
      "_model_module": "@jupyter-widgets/base",
      "_model_module_version": "1.2.0",
      "_model_name": "LayoutModel",
      "_view_count": null,
      "_view_module": "@jupyter-widgets/base",
      "_view_module_version": "1.2.0",
      "_view_name": "LayoutView",
      "align_content": null,
      "align_items": null,
      "align_self": null,
      "border": null,
      "bottom": null,
      "display": null,
      "flex": null,
      "flex_flow": null,
      "grid_area": null,
      "grid_auto_columns": null,
      "grid_auto_flow": null,
      "grid_auto_rows": null,
      "grid_column": null,
      "grid_gap": null,
      "grid_row": null,
      "grid_template_areas": null,
      "grid_template_columns": null,
      "grid_template_rows": null,
      "height": null,
      "justify_content": null,
      "justify_items": null,
      "left": null,
      "margin": null,
      "max_height": null,
      "max_width": null,
      "min_height": null,
      "min_width": null,
      "object_fit": null,
      "object_position": null,
      "order": null,
      "overflow": null,
      "overflow_x": null,
      "overflow_y": null,
      "padding": null,
      "right": null,
      "top": null,
      "visibility": null,
      "width": null
     }
    },
    "fb1ef1eb58aa49d79c321554fa9bdbdb": {
     "model_module": "@jupyter-widgets/controls",
     "model_module_version": "1.5.0",
     "model_name": "DescriptionStyleModel",
     "state": {
      "_model_module": "@jupyter-widgets/controls",
      "_model_module_version": "1.5.0",
      "_model_name": "DescriptionStyleModel",
      "_view_count": null,
      "_view_module": "@jupyter-widgets/base",
      "_view_module_version": "1.2.0",
      "_view_name": "StyleView",
      "description_width": ""
     }
    },
    "fcec34aa78aa4f9bbe7495f14094cffc": {
     "model_module": "@jupyter-widgets/controls",
     "model_module_version": "1.5.0",
     "model_name": "HBoxModel",
     "state": {
      "_dom_classes": [],
      "_model_module": "@jupyter-widgets/controls",
      "_model_module_version": "1.5.0",
      "_model_name": "HBoxModel",
      "_view_count": null,
      "_view_module": "@jupyter-widgets/controls",
      "_view_module_version": "1.5.0",
      "_view_name": "HBoxView",
      "box_style": "",
      "children": [
       "IPY_MODEL_c6466b6d1e5644cbb642b1ba059de1d8",
       "IPY_MODEL_cbe4a6d932bd48ee8247788710a60a88",
       "IPY_MODEL_b5317768eebd4599a15afd4e4fe43ba4"
      ],
      "layout": "IPY_MODEL_ee145ed4d2114674b9c92383f97d7a3c"
     }
    }
   }
  }
 },
 "nbformat": 4,
 "nbformat_minor": 4
}
