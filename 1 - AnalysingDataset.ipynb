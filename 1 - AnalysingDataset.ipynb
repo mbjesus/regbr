{
 "cells": [
  {
   "cell_type": "code",
   "execution_count": 1,
   "id": "6819936f",
   "metadata": {},
   "outputs": [
    {
     "name": "stderr",
     "output_type": "stream",
     "text": [
      "[nltk_data] Downloading package stopwords to\n",
      "[nltk_data]     /home/mauricio.jesus/nltk_data...\n",
      "[nltk_data]   Package stopwords is already up-to-date!\n"
     ]
    }
   ],
   "source": [
    "import os\n",
    "import re\n",
    "from pathlib import Path\n",
    "import pandas as pd\n",
    "\n",
    "import matplotlib.pyplot as plt\n",
    "import seaborn as sns\n",
    "plt.style.use('ggplot')\n",
    "from wordcloud import WordCloud, ImageColorGenerator\n",
    "\n",
    "import nltk\n",
    "from nltk.tokenize import word_tokenize\n",
    "nltk.download('stopwords')\n",
    "stopwords = nltk.corpus.stopwords.words('portuguese')"
   ]
  },
  {
   "cell_type": "code",
   "execution_count": 2,
   "id": "5bb99f17",
   "metadata": {},
   "outputs": [
    {
     "name": "stdout",
     "output_type": "stream",
     "text": [
      "  Abbreviation: [1.5213] art\n",
      "  Abbreviation: [0.6892] nr\n",
      "  Abbreviation: [0.4181] n\n",
      "  Abbreviation: [0.6892] sr\n",
      "  Abbreviation: [1.1977] sr\n",
      "  Abbreviation: [1.1977] nr\n",
      "  Abbreviation: [0.4406] sra\n",
      "  Abbreviation: [1.5421] art\n",
      "  Abbreviation: [1.5797] n\n",
      "  Abbreviation: [0.5989] ms\n"
     ]
    },
    {
     "name": "stderr",
     "output_type": "stream",
     "text": [
      "[nltk_data] Downloading package stopwords to\n",
      "[nltk_data]     /home/mauricio.jesus/nltk_data...\n",
      "[nltk_data]   Package stopwords is already up-to-date!\n",
      "[nltk_data] Downloading package punkt to\n",
      "[nltk_data]     /home/mauricio.jesus/nltk_data...\n",
      "[nltk_data]   Package punkt is already up-to-date!\n"
     ]
    }
   ],
   "source": [
    "from src.sentenceregbr import SentenceRegBr\n",
    "objSentecesRegBr = SentenceRegBr()"
   ]
  },
  {
   "cell_type": "code",
   "execution_count": 3,
   "id": "1fbddd16",
   "metadata": {},
   "outputs": [],
   "source": [
    "from src.preprocessing import PreProcessing\n",
    "objPreProcessing = PreProcessing()"
   ]
  },
  {
   "cell_type": "code",
   "execution_count": 5,
   "id": "7b55943f",
   "metadata": {},
   "outputs": [],
   "source": [
    "BASE_DIR = Path(os.path.abspath('')).resolve()"
   ]
  },
  {
   "cell_type": "markdown",
   "id": "2f82efd4",
   "metadata": {},
   "source": [
    "### Get Dataset\n"
   ]
  },
  {
   "cell_type": "code",
   "execution_count": 6,
   "id": "2822bcc6",
   "metadata": {},
   "outputs": [
    {
     "name": "stdout",
     "output_type": "stream",
     "text": [
      "<class 'pandas.core.frame.DataFrame'>\n",
      "Int64Index: 6746 entries, 0 to 271\n",
      "Data columns (total 4 columns):\n",
      " #   Column  Non-Null Count  Dtype \n",
      "---  ------  --------------  ----- \n",
      " 0   id      6746 non-null   int64 \n",
      " 1   cat     6746 non-null   int64 \n",
      " 2   text    6746 non-null   object\n",
      " 3   versao  6746 non-null   int64 \n",
      "dtypes: int64(3), object(1)\n",
      "memory usage: 263.5+ KB\n"
     ]
    }
   ],
   "source": [
    "dfTreino = pd.read_excel(Path(os.path.join(BASE_DIR,'dataset', 'train_test_val','df_train_12092022_v2.xlsx')))\n",
    "dfTest = pd.read_excel(Path(os.path.join(BASE_DIR,'dataset', 'train_test_val','df_test_12092022_v2.xlsx')))\n",
    "\n",
    "dfTreino = pd.concat([dfTreino,dfTest])\n",
    "dfTreino.info()"
   ]
  },
  {
   "cell_type": "code",
   "execution_count": 7,
   "id": "8dca4d1f",
   "metadata": {},
   "outputs": [
    {
     "data": {
      "text/plain": [
       "cat\n",
       "0      6183\n",
       "1       562\n",
       "3         1\n",
       "dtype: int64"
      ]
     },
     "execution_count": 7,
     "metadata": {},
     "output_type": "execute_result"
    }
   ],
   "source": [
    "dfTreino[[\"cat\"]].value_counts()"
   ]
  },
  {
   "cell_type": "code",
   "execution_count": 8,
   "id": "9fe21256",
   "metadata": {},
   "outputs": [
    {
     "data": {
      "text/html": [
       "<div>\n",
       "<style scoped>\n",
       "    .dataframe tbody tr th:only-of-type {\n",
       "        vertical-align: middle;\n",
       "    }\n",
       "\n",
       "    .dataframe tbody tr th {\n",
       "        vertical-align: top;\n",
       "    }\n",
       "\n",
       "    .dataframe thead th {\n",
       "        text-align: right;\n",
       "    }\n",
       "</style>\n",
       "<table border=\"1\" class=\"dataframe\">\n",
       "  <thead>\n",
       "    <tr style=\"text-align: right;\">\n",
       "      <th></th>\n",
       "      <th>id</th>\n",
       "      <th>cat</th>\n",
       "      <th>text</th>\n",
       "      <th>versao</th>\n",
       "    </tr>\n",
       "  </thead>\n",
       "  <tbody>\n",
       "    <tr>\n",
       "      <th>0</th>\n",
       "      <td>1</td>\n",
       "      <td>0</td>\n",
       "      <td>iii o excesso ou insuficiência das origens de ...</td>\n",
       "      <td>1</td>\n",
       "    </tr>\n",
       "    <tr>\n",
       "      <th>1</th>\n",
       "      <td>2</td>\n",
       "      <td>0</td>\n",
       "      <td>a concessão de pensão aos beneficiários de que...</td>\n",
       "      <td>1</td>\n",
       "    </tr>\n",
       "    <tr>\n",
       "      <th>2</th>\n",
       "      <td>3</td>\n",
       "      <td>0</td>\n",
       "      <td>alteração de estrutura de carreira que impliqu...</td>\n",
       "      <td>1</td>\n",
       "    </tr>\n",
       "    <tr>\n",
       "      <th>3</th>\n",
       "      <td>4</td>\n",
       "      <td>0</td>\n",
       "      <td>os peritos ou a empresa avaliadora deverão apr...</td>\n",
       "      <td>1</td>\n",
       "    </tr>\n",
       "    <tr>\n",
       "      <th>4</th>\n",
       "      <td>5</td>\n",
       "      <td>0</td>\n",
       "      <td>os aeródromos públicos poderão ser usados por ...</td>\n",
       "      <td>1</td>\n",
       "    </tr>\n",
       "    <tr>\n",
       "      <th>5</th>\n",
       "      <td>6</td>\n",
       "      <td>0</td>\n",
       "      <td>a apuração do tempo de serviço será feita em d...</td>\n",
       "      <td>1</td>\n",
       "    </tr>\n",
       "    <tr>\n",
       "      <th>6</th>\n",
       "      <td>7</td>\n",
       "      <td>0</td>\n",
       "      <td>o os servidores beneficiados pelos afastamento...</td>\n",
       "      <td>1</td>\n",
       "    </tr>\n",
       "    <tr>\n",
       "      <th>7</th>\n",
       "      <td>8</td>\n",
       "      <td>0</td>\n",
       "      <td>caso a pessoa jurídica prejudicada não adote a...</td>\n",
       "      <td>1</td>\n",
       "    </tr>\n",
       "    <tr>\n",
       "      <th>8</th>\n",
       "      <td>9</td>\n",
       "      <td>0</td>\n",
       "      <td>a despesa total com pessoal será apurada soman...</td>\n",
       "      <td>1</td>\n",
       "    </tr>\n",
       "    <tr>\n",
       "      <th>9</th>\n",
       "      <td>10</td>\n",
       "      <td>0</td>\n",
       "      <td>a execução orçamentária e financeira identific...</td>\n",
       "      <td>1</td>\n",
       "    </tr>\n",
       "  </tbody>\n",
       "</table>\n",
       "</div>"
      ],
      "text/plain": [
       "   id  cat                                               text  versao\n",
       "0   1    0  iii o excesso ou insuficiência das origens de ...       1\n",
       "1   2    0  a concessão de pensão aos beneficiários de que...       1\n",
       "2   3    0  alteração de estrutura de carreira que impliqu...       1\n",
       "3   4    0  os peritos ou a empresa avaliadora deverão apr...       1\n",
       "4   5    0  os aeródromos públicos poderão ser usados por ...       1\n",
       "5   6    0  a apuração do tempo de serviço será feita em d...       1\n",
       "6   7    0  o os servidores beneficiados pelos afastamento...       1\n",
       "7   8    0  caso a pessoa jurídica prejudicada não adote a...       1\n",
       "8   9    0  a despesa total com pessoal será apurada soman...       1\n",
       "9  10    0  a execução orçamentária e financeira identific...       1"
      ]
     },
     "execution_count": 8,
     "metadata": {},
     "output_type": "execute_result"
    }
   ],
   "source": [
    "dfTreino.head(10)"
   ]
  },
  {
   "cell_type": "code",
   "execution_count": 9,
   "id": "51eafcd6",
   "metadata": {},
   "outputs": [],
   "source": [
    "dfTreinoTerceiroSetor = dfTreino[dfTreino[\"cat\"]==1].copy()\n",
    "txtListTercSetor = dfTreinoTerceiroSetor[\"text\"].to_list()\n",
    "\n",
    "##Drop None\n",
    "txtListTercSetor = [x for x in txtListTercSetor if x is not None]\n",
    "AllTxtTercSetor = \" \".join(str(s).lower() for s in txtListTercSetor)\n",
    "AllTxtTercSetor = objPreProcessing.clearNumerosRomanos(AllTxtTercSetor)"
   ]
  },
  {
   "cell_type": "code",
   "execution_count": 11,
   "id": "0379e1f6",
   "metadata": {},
   "outputs": [],
   "source": [
    "AllTxtTercSetor = \" \".join(s for s in AllTxtTercSetor)"
   ]
  },
  {
   "cell_type": "code",
   "execution_count": 12,
   "id": "bb857874",
   "metadata": {},
   "outputs": [],
   "source": [
    "stopwords = stopwords + [\"art\", \"deste\", \"outro\", \"art\", \"artigo\",\"n\",\"nr\",\"desta\",\"deste\",\"ainda\",\"caso\"]\n",
    "text_tokens = word_tokenize(AllTxtTercSetor)\n",
    "tokens_without_sw = [word for word in text_tokens if not word in stopwords]\n",
    "AllTxtTercSetor = \" \".join(s for s in tokens_without_sw)"
   ]
  },
  {
   "cell_type": "code",
   "execution_count": 16,
   "id": "1c08f20c",
   "metadata": {},
   "outputs": [
    {
     "data": {
      "text/plain": [
       "' # gerar uma wordcloud\\nwordcloud = WordCloud(stopwords=stopwords,\\n                      background_color=\"white\",\\n                      width=2600, height=1800).generate(AllTxtTercSetor)\\n\\n# mostrar a imagem final\\nfig, ax = plt.subplots(figsize=(10,6))\\nax.imshow(wordcloud, interpolation=\\'bilinear\\')\\nax.set_axis_off()\\nplt.imshow(wordcloud)\\n#wordcloud.to_file(\"terc_setor_wordcloud.png\")\\n'"
      ]
     },
     "execution_count": 16,
     "metadata": {},
     "output_type": "execute_result"
    }
   ],
   "source": [
    "# gerar uma wordcloud\n",
    "wordcloud = WordCloud(stopwords=stopwords,\n",
    "                      background_color=\"white\",\n",
    "                      width=2600, height=1800).generate(AllTxtTercSetor)\n",
    "\n",
    "# mostrar a imagem final\n",
    "fig, ax = plt.subplots(figsize=(10,6))\n",
    "ax.imshow(wordcloud, interpolation='bilinear')\n",
    "ax.set_axis_off()\n",
    "plt.imshow(wordcloud)\n",
    "wordcloud.to_file(\"terc_setor_wordcloud.png\")\n"
   ]
  },
  {
   "cell_type": "markdown",
   "id": "0d8b6844",
   "metadata": {},
   "source": [
    "### Building document dataset"
   ]
  },
  {
   "cell_type": "code",
   "execution_count": 14,
   "id": "5e923e43",
   "metadata": {},
   "outputs": [],
   "source": [
    "listaDfDocs = []\n",
    "nrDocuments = 2500"
   ]
  },
  {
   "cell_type": "code",
   "execution_count": 9,
   "id": "7ba2d6bb",
   "metadata": {},
   "outputs": [],
   "source": [
    "def gerarDocumentos(df,pNrDocs,pListaDfDocs):\n",
    "    \n",
    "    dfTservTmp = df.copy()\n",
    "        \n",
    "    ##Gerar docs\n",
    "    for i in range(0,pNrDocs):\n",
    "        \n",
    "        maxIteration = 10\n",
    "        totalToken = 0\n",
    "        nrIteration = 0\n",
    "        maxTokensDocs = 512\n",
    "        dfText = pd.DataFrame()\n",
    "        \n",
    "        while totalToken < maxTokensDocs and len(dfTservTmp) > 0:\n",
    "            \n",
    "            dfSample = dfTservTmp.sample(replace=False)\n",
    "            \n",
    "            ##Remove sampled\n",
    "            dfTservTmp = dfTservTmp[dfTservTmp.index != dfSample.index[0]]\n",
    "            dfSample_tokens_total = dfSample[\"tokens_no_stopwords\"].iloc[0]\n",
    "            dfText = pd.concat([dfText,dfSample])\n",
    "            \n",
    "            totalToken = totalToken + dfSample_tokens_total\n",
    "\n",
    "            if(nrIteration > maxIteration):\n",
    "                break\n",
    "            \n",
    "            nrIteration = nrIteration + 1\n",
    "\n",
    "        pListaDfDocs.append(dfText)\n",
    "        \n",
    "        if len(dfTservTmp) < 1:\n",
    "            dfTservTmp = df.copy()\n",
    "            \n",
    "    return pListaDfDocs"
   ]
  },
  {
   "cell_type": "markdown",
   "id": "6490bd20",
   "metadata": {},
   "source": [
    "##### Third Sector document dataset"
   ]
  },
  {
   "cell_type": "code",
   "execution_count": 10,
   "id": "bf941b30",
   "metadata": {},
   "outputs": [],
   "source": [
    "listaDfDocs = gerarDocumentos(dfTS,nrDocuments,listaDfDocs)"
   ]
  },
  {
   "cell_type": "code",
   "execution_count": 11,
   "id": "a2c6c624",
   "metadata": {},
   "outputs": [
    {
     "data": {
      "text/plain": [
       "2500"
      ]
     },
     "execution_count": 11,
     "metadata": {},
     "output_type": "execute_result"
    }
   ],
   "source": [
    "len(listaDfDocs)"
   ]
  },
  {
   "cell_type": "markdown",
   "id": "31996dde",
   "metadata": {},
   "source": [
    "##### Building initial data analysis."
   ]
  },
  {
   "cell_type": "code",
   "execution_count": 12,
   "id": "e40a32c8",
   "metadata": {},
   "outputs": [],
   "source": [
    "listaIdDocBase = []\n",
    "listaIdSentenca = []\n",
    "for dfTextProc in listaDfDocs:\n",
    "    for index,row in dfTextProc.iterrows():\n",
    "        listaIdDocBase.append(row[\"id_doc_base\"])\n",
    "        listaIdSentenca.append(row[\"id_sentenca\"])\n",
    "        "
   ]
  },
  {
   "cell_type": "code",
   "execution_count": 21,
   "id": "f14d8206",
   "metadata": {},
   "outputs": [],
   "source": [
    "countDocBase = [[x,listaIdDocBase.count(x)] for x in set(listaIdDocBase)]\n",
    "countSentenca = [[x,listaIdSentenca.count(x)] for x in set(listaIdSentenca)]"
   ]
  },
  {
   "cell_type": "code",
   "execution_count": 22,
   "id": "774f355d",
   "metadata": {},
   "outputs": [
    {
     "data": {
      "text/plain": [
       "<AxesSubplot:ylabel='Count'>"
      ]
     },
     "execution_count": 22,
     "metadata": {},
     "output_type": "execute_result"
    },
    {
     "data": {
      "image/png": "[encoded data removed]",
      "text/plain": [
       "<Figure size 1634.4x379.44 with 1 Axes>"
      ]
     },
     "metadata": {},
     "output_type": "display_data"
    }
   ],
   "source": [
    "sns.set(rc={'figure.figsize':(22.7,5.27)})\n",
    "sns.histplot(data=listaIdDocBase, discrete=False)"
   ]
  },
  {
   "cell_type": "code",
   "execution_count": 23,
   "id": "de042cb8",
   "metadata": {},
   "outputs": [
    {
     "data": {
      "text/plain": [
       "<AxesSubplot:ylabel='Count'>"
      ]
     },
     "execution_count": 23,
     "metadata": {},
     "output_type": "execute_result"
    },
    {
     "data": {
      "image/png": "[encoded data removed]",
      "text/plain": [
       "<Figure size 2570.4x307.44 with 1 Axes>"
      ]
     },
     "metadata": {},
     "output_type": "display_data"
    }
   ],
   "source": [
    "sns.set(rc={'figure.figsize':(35.7,4.27)})\n",
    "sns.histplot(data=listaIdSentenca, discrete=True)"
   ]
  },
  {
   "cell_type": "markdown",
   "id": "321d9c25",
   "metadata": {},
   "source": [
    "##### Setting dfTraning with third sector document dataset"
   ]
  },
  {
   "cell_type": "code",
   "execution_count": 13,
   "id": "5d6e9589",
   "metadata": {},
   "outputs": [],
   "source": [
    "dfTreino = pd.DataFrame()\n",
    "\n",
    "for dfTextProc in listaDfDocs:\n",
    "    txtList = dfTextProc[\"text_sentenca\"].to_list()\n",
    "\n",
    "    ##Drop None\n",
    "    txtList = [x for x in txtList if x is not None]\n",
    "    \n",
    "    try:\n",
    "        txt = ' '.join(txtList)\n",
    "    except Exception as e:\n",
    "        print(e, txtList)\n",
    "\n",
    "    reg = {  \"cat\":\"terceiro_setor\"\n",
    "            ,\"text\":txt\n",
    "        }\n",
    "        \n",
    "    dfTreino = pd.concat([dfTreino,pd.DataFrame([reg])])\n",
    "    \n",
    "  "
   ]
  },
  {
   "cell_type": "code",
   "execution_count": 14,
   "id": "50a15990",
   "metadata": {},
   "outputs": [
    {
     "name": "stdout",
     "output_type": "stream",
     "text": [
      "<class 'pandas.core.frame.DataFrame'>\n",
      "Int64Index: 2500 entries, 0 to 0\n",
      "Data columns (total 2 columns):\n",
      " #   Column  Non-Null Count  Dtype \n",
      "---  ------  --------------  ----- \n",
      " 0   cat     2500 non-null   object\n",
      " 1   text    2500 non-null   object\n",
      "dtypes: object(2)\n",
      "memory usage: 58.6+ KB\n"
     ]
    }
   ],
   "source": [
    "dfTreino.info()"
   ]
  },
  {
   "cell_type": "code",
   "execution_count": 15,
   "id": "a3a1dd52",
   "metadata": {},
   "outputs": [
    {
     "data": {
      "text/html": [
       "<div>\n",
       "<style scoped>\n",
       "    .dataframe tbody tr th:only-of-type {\n",
       "        vertical-align: middle;\n",
       "    }\n",
       "\n",
       "    .dataframe tbody tr th {\n",
       "        vertical-align: top;\n",
       "    }\n",
       "\n",
       "    .dataframe thead th {\n",
       "        text-align: right;\n",
       "    }\n",
       "</style>\n",
       "<table border=\"1\" class=\"dataframe\">\n",
       "  <thead>\n",
       "    <tr style=\"text-align: right;\">\n",
       "      <th></th>\n",
       "      <th>cat</th>\n",
       "      <th>text</th>\n",
       "    </tr>\n",
       "  </thead>\n",
       "  <tbody>\n",
       "    <tr>\n",
       "      <th>0</th>\n",
       "      <td>terceiro_setor</td>\n",
       "      <td>O PROCESSAMENTO DAS COMPRAS E CONTRATAÇÕES POD...</td>\n",
       "    </tr>\n",
       "    <tr>\n",
       "      <th>0</th>\n",
       "      <td>terceiro_setor</td>\n",
       "      <td>SEM PREJUÍZO DA AÇÃO QUE COUBER AO ASSOCIADO, ...</td>\n",
       "    </tr>\n",
       "  </tbody>\n",
       "</table>\n",
       "</div>"
      ],
      "text/plain": [
       "              cat                                               text\n",
       "0  terceiro_setor  O PROCESSAMENTO DAS COMPRAS E CONTRATAÇÕES POD...\n",
       "0  terceiro_setor  SEM PREJUÍZO DA AÇÃO QUE COUBER AO ASSOCIADO, ..."
      ]
     },
     "execution_count": 15,
     "metadata": {},
     "output_type": "execute_result"
    }
   ],
   "source": [
    "dfTreino.head(2)"
   ]
  },
  {
   "cell_type": "markdown",
   "id": "46c6c381",
   "metadata": {},
   "source": [
    "### Gerar Outras Categorias"
   ]
  },
  {
   "cell_type": "code",
   "execution_count": 16,
   "id": "f6ba3e68",
   "metadata": {},
   "outputs": [
    {
     "name": "stdout",
     "output_type": "stream",
     "text": [
      "<class 'pandas.core.frame.DataFrame'>\n",
      "Int64Index: 6200 entries, 1298 to 7497\n",
      "Data columns (total 12 columns):\n",
      " #   Column               Non-Null Count  Dtype \n",
      "---  ------               --------------  ----- \n",
      " 0   path                 6200 non-null   object\n",
      " 1   id_doc_base          6200 non-null   object\n",
      " 2   name                 6200 non-null   object\n",
      " 3   esfera               6200 non-null   object\n",
      " 4   cat                  6200 non-null   object\n",
      " 5   ementa               6200 non-null   object\n",
      " 6   id_sentenca          6200 non-null   object\n",
      " 7   ordem                6200 non-null   int64 \n",
      " 8   tokens_total         6200 non-null   int64 \n",
      " 9   tokens_no_stopwords  6200 non-null   int64 \n",
      " 10  cat_sentenca         6200 non-null   object\n",
      " 11  text_sentenca        6200 non-null   object\n",
      "dtypes: int64(3), object(9)\n",
      "memory usage: 629.7+ KB\n"
     ]
    }
   ],
   "source": [
    "dfOutros = dfSentencas[dfSentencas['cat']!='terceiro_setor'].copy()\n",
    "dfOutros.info()"
   ]
  },
  {
   "cell_type": "code",
   "execution_count": 17,
   "id": "f5f896ad",
   "metadata": {},
   "outputs": [],
   "source": [
    "listaDfDocsOutros = []\n",
    "listaDfDocsOutros = gerarDocumentos(dfOutros,nrDocuments,listaDfDocsOutros)"
   ]
  },
  {
   "cell_type": "code",
   "execution_count": 18,
   "id": "64271695",
   "metadata": {},
   "outputs": [
    {
     "data": {
      "text/plain": [
       "2500"
      ]
     },
     "execution_count": 18,
     "metadata": {},
     "output_type": "execute_result"
    }
   ],
   "source": [
    "len(listaDfDocsOutros)"
   ]
  },
  {
   "cell_type": "markdown",
   "id": "51706820",
   "metadata": {},
   "source": [
    "##### Building initial data analysis."
   ]
  },
  {
   "cell_type": "code",
   "execution_count": 38,
   "id": "b8d8696e",
   "metadata": {},
   "outputs": [],
   "source": [
    "listaIdDocBase = []\n",
    "listaIdSentenca = []\n",
    "for dfTextProc in listaDfDocsOutros:\n",
    "    for index,row in dfTextProc.iterrows():\n",
    "        listaIdDocBase.append(row[\"id_doc_base\"])\n",
    "        listaIdSentenca.append(row[\"id_sentenca\"])\n",
    "        "
   ]
  },
  {
   "cell_type": "code",
   "execution_count": 39,
   "id": "20054802",
   "metadata": {},
   "outputs": [],
   "source": [
    "countDocBase = [[x,listaIdDocBase.count(x)] for x in set(listaIdDocBase)]\n",
    "countSentenca = [[x,listaIdSentenca.count(x)] for x in set(listaIdSentenca)]"
   ]
  },
  {
   "cell_type": "code",
   "execution_count": 40,
   "id": "a2abcbea",
   "metadata": {},
   "outputs": [
    {
     "data": {
      "text/plain": [
       "<AxesSubplot:ylabel='Count'>"
      ]
     },
     "execution_count": 40,
     "metadata": {},
     "output_type": "execute_result"
    },
    {
     "data": {
      "image/png": "[encoded data removed]",
      "text/plain": [
       "<Figure size 2210.4x307.44 with 1 Axes>"
      ]
     },
     "metadata": {},
     "output_type": "display_data"
    }
   ],
   "source": [
    "sns.set(rc={'figure.figsize':(30.7,4.27)})\n",
    "sns.histplot(data=listaIdDocBase, discrete=True)"
   ]
  },
  {
   "cell_type": "markdown",
   "id": "efe3d727",
   "metadata": {},
   "source": [
    "##### Setting dfTraning with third other document dataset"
   ]
  },
  {
   "cell_type": "code",
   "execution_count": 19,
   "id": "b48f243b",
   "metadata": {},
   "outputs": [],
   "source": [
    "for dfTextProc in listaDfDocsOutros:\n",
    "    txtList = dfTextProc[\"text_sentenca\"].to_list()\n",
    "    txt = ' '.join(txtList)\n",
    "    \n",
    "    ##Drop None\n",
    "    txtList = [x for x in txtList if x is not None]\n",
    "\n",
    "    reg = {  \"cat\":\"outros\"\n",
    "             ,\"text\":txt\n",
    "          }\n",
    "        \n",
    "    dfTreino = pd.concat([dfTreino,pd.DataFrame([reg])])\n",
    "  "
   ]
  },
  {
   "cell_type": "code",
   "execution_count": 20,
   "id": "ad31a6d1",
   "metadata": {},
   "outputs": [
    {
     "name": "stdout",
     "output_type": "stream",
     "text": [
      "<class 'pandas.core.frame.DataFrame'>\n",
      "Int64Index: 5000 entries, 0 to 0\n",
      "Data columns (total 2 columns):\n",
      " #   Column  Non-Null Count  Dtype \n",
      "---  ------  --------------  ----- \n",
      " 0   cat     5000 non-null   object\n",
      " 1   text    5000 non-null   object\n",
      "dtypes: object(2)\n",
      "memory usage: 117.2+ KB\n"
     ]
    }
   ],
   "source": [
    "dfTreino.info()"
   ]
  },
  {
   "cell_type": "code",
   "execution_count": 21,
   "id": "d743de57",
   "metadata": {},
   "outputs": [],
   "source": [
    "\n",
    "## Saving dataset\n",
    "dfTreino.to_parquet(Path(os.path.join(BASE_DIR,'dataset', 'processed','dataset_treino_shufle_22082022.parquet')), engine='fastparquet')"
   ]
  },
  {
   "cell_type": "code",
   "execution_count": 22,
   "id": "d4733f1e",
   "metadata": {},
   "outputs": [
    {
     "data": {
      "text/html": [
       "<div>\n",
       "<style scoped>\n",
       "    .dataframe tbody tr th:only-of-type {\n",
       "        vertical-align: middle;\n",
       "    }\n",
       "\n",
       "    .dataframe tbody tr th {\n",
       "        vertical-align: top;\n",
       "    }\n",
       "\n",
       "    .dataframe thead th {\n",
       "        text-align: right;\n",
       "    }\n",
       "</style>\n",
       "<table border=\"1\" class=\"dataframe\">\n",
       "  <thead>\n",
       "    <tr style=\"text-align: right;\">\n",
       "      <th></th>\n",
       "      <th>cat</th>\n",
       "      <th>text</th>\n",
       "    </tr>\n",
       "  </thead>\n",
       "  <tbody>\n",
       "    <tr>\n",
       "      <th>0</th>\n",
       "      <td>terceiro_setor</td>\n",
       "      <td>O PROCESSAMENTO DAS COMPRAS E CONTRATAÇÕES POD...</td>\n",
       "    </tr>\n",
       "    <tr>\n",
       "      <th>0</th>\n",
       "      <td>terceiro_setor</td>\n",
       "      <td>SEM PREJUÍZO DA AÇÃO QUE COUBER AO ASSOCIADO, ...</td>\n",
       "    </tr>\n",
       "    <tr>\n",
       "      <th>0</th>\n",
       "      <td>terceiro_setor</td>\n",
       "      <td>A ORGANIZAÇÃO DA SOCIEDADE CIVIL DEVERÁ REGIST...</td>\n",
       "    </tr>\n",
       "    <tr>\n",
       "      <th>0</th>\n",
       "      <td>terceiro_setor</td>\n",
       "      <td>É VEDADA A CELEBRAÇÃO DE CONVÊNIOS E CONTRATOS...</td>\n",
       "    </tr>\n",
       "    <tr>\n",
       "      <th>0</th>\n",
       "      <td>terceiro_setor</td>\n",
       "      <td>SÃO CLÁUSULAS ESSENCIAIS DO TERMO DE PARCERIA:...</td>\n",
       "    </tr>\n",
       "    <tr>\n",
       "      <th>...</th>\n",
       "      <td>...</td>\n",
       "      <td>...</td>\n",
       "    </tr>\n",
       "    <tr>\n",
       "      <th>0</th>\n",
       "      <td>outros</td>\n",
       "      <td>O QUANDO A RESCISÃO OCORRER COM BASE NOS INCIS...</td>\n",
       "    </tr>\n",
       "    <tr>\n",
       "      <th>0</th>\n",
       "      <td>outros</td>\n",
       "      <td>O OCUPANTE DE CARGO EM COMISSÃO OU FUNÇÃO DE C...</td>\n",
       "    </tr>\n",
       "    <tr>\n",
       "      <th>0</th>\n",
       "      <td>outros</td>\n",
       "      <td>A ALOCAÇÃO DOS RISCOS CONTRATUAIS SERÁ QUANTIF...</td>\n",
       "    </tr>\n",
       "    <tr>\n",
       "      <th>0</th>\n",
       "      <td>outros</td>\n",
       "      <td>O ENQUANTO NÃO EFETUADO O CANCELAMENTO, A AMOR...</td>\n",
       "    </tr>\n",
       "    <tr>\n",
       "      <th>0</th>\n",
       "      <td>outros</td>\n",
       "      <td>A 47 A DA LEI N 12.462, DE 4 DE AGOSTO DE 2011...</td>\n",
       "    </tr>\n",
       "  </tbody>\n",
       "</table>\n",
       "<p>5000 rows × 2 columns</p>\n",
       "</div>"
      ],
      "text/plain": [
       "               cat                                               text\n",
       "0   terceiro_setor  O PROCESSAMENTO DAS COMPRAS E CONTRATAÇÕES POD...\n",
       "0   terceiro_setor  SEM PREJUÍZO DA AÇÃO QUE COUBER AO ASSOCIADO, ...\n",
       "0   terceiro_setor  A ORGANIZAÇÃO DA SOCIEDADE CIVIL DEVERÁ REGIST...\n",
       "0   terceiro_setor  É VEDADA A CELEBRAÇÃO DE CONVÊNIOS E CONTRATOS...\n",
       "0   terceiro_setor  SÃO CLÁUSULAS ESSENCIAIS DO TERMO DE PARCERIA:...\n",
       "..             ...                                                ...\n",
       "0           outros  O QUANDO A RESCISÃO OCORRER COM BASE NOS INCIS...\n",
       "0           outros  O OCUPANTE DE CARGO EM COMISSÃO OU FUNÇÃO DE C...\n",
       "0           outros  A ALOCAÇÃO DOS RISCOS CONTRATUAIS SERÁ QUANTIF...\n",
       "0           outros  O ENQUANTO NÃO EFETUADO O CANCELAMENTO, A AMOR...\n",
       "0           outros  A 47 A DA LEI N 12.462, DE 4 DE AGOSTO DE 2011...\n",
       "\n",
       "[5000 rows x 2 columns]"
      ]
     },
     "execution_count": 22,
     "metadata": {},
     "output_type": "execute_result"
    }
   ],
   "source": [
    "dfTreino"
   ]
  },
  {
   "cell_type": "markdown",
   "id": "34f3a969",
   "metadata": {},
   "source": [
    "### Generating dataset withot shuffle sentences"
   ]
  },
  {
   "cell_type": "code",
   "execution_count": 23,
   "id": "f505f589",
   "metadata": {},
   "outputs": [],
   "source": [
    "dfTreino = dfSentencas[[\"cat\",\"text_sentenca\"]].copy()\n",
    "dfTreino.columns = [\"cat\",\"text\"]"
   ]
  },
  {
   "cell_type": "code",
   "execution_count": 24,
   "id": "955148d1",
   "metadata": {},
   "outputs": [
    {
     "name": "stdout",
     "output_type": "stream",
     "text": [
      "<class 'pandas.core.frame.DataFrame'>\n",
      "Int64Index: 7498 entries, 0 to 7497\n",
      "Data columns (total 2 columns):\n",
      " #   Column  Non-Null Count  Dtype \n",
      "---  ------  --------------  ----- \n",
      " 0   cat     7498 non-null   object\n",
      " 1   text    7498 non-null   object\n",
      "dtypes: object(2)\n",
      "memory usage: 175.7+ KB\n"
     ]
    }
   ],
   "source": [
    "dfTreino.info()"
   ]
  },
  {
   "cell_type": "code",
   "execution_count": 26,
   "id": "fb9c1bec",
   "metadata": {},
   "outputs": [
    {
     "name": "stderr",
     "output_type": "stream",
     "text": [
      "None of PyTorch, TensorFlow >= 2.0, or Flax have been found. Models won't be available and only tokenizers, configuration and file/data utilities can be used.\n"
     ]
    },
    {
     "data": {
      "application/vnd.jupyter.widget-view+json": {
       "model_id": "519136326a764581bd776b5decfb1aa7",
       "version_major": 2,
       "version_minor": 0
      },
      "text/plain": [
       "Downloading tokenizer_config.json:   0%|          | 0.00/43.0 [00:00<?, ?B/s]"
      ]
     },
     "metadata": {},
     "output_type": "display_data"
    },
    {
     "data": {
      "application/vnd.jupyter.widget-view+json": {
       "model_id": "e4aa51846c584ae2bd69fdb563ab846b",
       "version_major": 2,
       "version_minor": 0
      },
      "text/plain": [
       "Downloading config.json:   0%|          | 0.00/647 [00:00<?, ?B/s]"
      ]
     },
     "metadata": {},
     "output_type": "display_data"
    },
    {
     "data": {
      "application/vnd.jupyter.widget-view+json": {
       "model_id": "e9f9f7547b7340dab82ee87f7d4358cc",
       "version_major": 2,
       "version_minor": 0
      },
      "text/plain": [
       "Downloading vocab.txt:   0%|          | 0.00/205k [00:00<?, ?B/s]"
      ]
     },
     "metadata": {},
     "output_type": "display_data"
    },
    {
     "data": {
      "application/vnd.jupyter.widget-view+json": {
       "model_id": "abe86a6025ef4cb09b705a3ba4c99796",
       "version_major": 2,
       "version_minor": 0
      },
      "text/plain": [
       "Downloading added_tokens.json:   0%|          | 0.00/2.00 [00:00<?, ?B/s]"
      ]
     },
     "metadata": {},
     "output_type": "display_data"
    },
    {
     "data": {
      "application/vnd.jupyter.widget-view+json": {
       "model_id": "316507fa30cc4f28a244eb79fe74d1bf",
       "version_major": 2,
       "version_minor": 0
      },
      "text/plain": [
       "Downloading special_tokens_map.json:   0%|          | 0.00/112 [00:00<?, ?B/s]"
      ]
     },
     "metadata": {},
     "output_type": "display_data"
    }
   ],
   "source": [
    "from transformers import  AutoTokenizer\n",
    "tokenizer = AutoTokenizer.from_pretrained('neuralmind/bert-base-portuguese-cased', do_lower_case=True)"
   ]
  },
  {
   "cell_type": "code",
   "execution_count": 30,
   "id": "f6911f6c",
   "metadata": {},
   "outputs": [
    {
     "data": {
      "text/plain": [
       "Index(['cat', 'text'], dtype='object')"
      ]
     },
     "execution_count": 30,
     "metadata": {},
     "output_type": "execute_result"
    }
   ],
   "source": [
    "dfTreino.columns"
   ]
  },
  {
   "cell_type": "code",
   "execution_count": 35,
   "id": "c15f1b94",
   "metadata": {},
   "outputs": [],
   "source": [
    "dfTreino[\"tokenizer\"] = dfTreino[\"text\"].apply(lambda x: len(tokenizer.tokenize(x)))"
   ]
  },
  {
   "cell_type": "code",
   "execution_count": 42,
   "id": "a30069e4",
   "metadata": {},
   "outputs": [],
   "source": [
    "dfTreino = dfTreino[dfTreino[\"tokenizer\"] < 1000]"
   ]
  },
  {
   "cell_type": "code",
   "execution_count": 43,
   "id": "c1b5f097",
   "metadata": {},
   "outputs": [],
   "source": [
    "## Saving dataset\n",
    "dfTreino.to_parquet(Path(os.path.join(BASE_DIR,'dataset', 'processed','dataset_treino_full_no_shuffle_22082022.parquet')), engine='fastparquet')"
   ]
  },
  {
   "cell_type": "code",
   "execution_count": 44,
   "id": "d5d3cfca",
   "metadata": {},
   "outputs": [],
   "source": [
    "dfSentencasAll = pd.read_parquet(Path(os.path.join(BASE_DIR,'dataset', 'regbr','dados_regbr_sentencas.parquet')), engine='fastparquet')\n"
   ]
  },
  {
   "cell_type": "code",
   "execution_count": 46,
   "id": "af704f59",
   "metadata": {},
   "outputs": [
    {
     "name": "stdout",
     "output_type": "stream",
     "text": [
      "<class 'pandas.core.frame.DataFrame'>\n",
      "RangeIndex: 883635 entries, 0 to 883634\n",
      "Data columns (total 7 columns):\n",
      " #   Column               Non-Null Count   Dtype \n",
      "---  ------               --------------   ----- \n",
      " 0   id_sentenca          883635 non-null  object\n",
      " 1   ordem                883635 non-null  int64 \n",
      " 2   id_doc_base          883635 non-null  int64 \n",
      " 3   tokens_total         883635 non-null  int64 \n",
      " 4   tokens_no_stopwords  883635 non-null  int64 \n",
      " 5   cat_sentenca         883635 non-null  int64 \n",
      " 6   text_sentenca        883635 non-null  object\n",
      "dtypes: int64(5), object(2)\n",
      "memory usage: 47.2+ MB\n"
     ]
    }
   ],
   "source": [
    "dfSentencasAll.info()"
   ]
  },
  {
   "cell_type": "code",
   "execution_count": 50,
   "id": "c169cf1c",
   "metadata": {},
   "outputs": [
    {
     "name": "stdout",
     "output_type": "stream",
     "text": [
      "<class 'pandas.core.frame.DataFrame'>\n",
      "Int64Index: 881575 entries, 0 to 883634\n",
      "Data columns (total 7 columns):\n",
      " #   Column               Non-Null Count   Dtype \n",
      "---  ------               --------------   ----- \n",
      " 0   id_sentenca          881575 non-null  object\n",
      " 1   ordem                881575 non-null  int64 \n",
      " 2   id_doc_base          881575 non-null  int64 \n",
      " 3   tokens_total         881575 non-null  int64 \n",
      " 4   tokens_no_stopwords  881575 non-null  int64 \n",
      " 5   cat_sentenca         881575 non-null  int64 \n",
      " 6   text_sentenca        881575 non-null  object\n",
      "dtypes: int64(5), object(2)\n",
      "memory usage: 53.8+ MB\n"
     ]
    }
   ],
   "source": [
    "dfSentencasAll = dfSentencasAll[dfSentencasAll[\"tokens_total\"] < 1000]\n",
    "dfSentencasAll.info()"
   ]
  },
  {
   "cell_type": "code",
   "execution_count": 51,
   "id": "55c8717d",
   "metadata": {},
   "outputs": [],
   "source": [
    "## Saving dataset\n",
    "dfSentencasAll.to_parquet(Path(os.path.join(BASE_DIR,'dataset', 'regbr','dados_regbr_all_sentencas_22082022.parquet')), engine='fastparquet')"
   ]
  }
 ],
 "metadata": {
  "kernelspec": {
   "display_name": "Python 3 (ipykernel)",
   "language": "python",
   "name": "python3"
  },
  "language_info": {
   "codemirror_mode": {
    "name": "ipython",
    "version": 3
   },
   "file_extension": ".py",
   "mimetype": "text/x-python",
   "name": "python",
   "nbconvert_exporter": "python",
   "pygments_lexer": "ipython3",
   "version": "3.8.13"
  },
  "vscode": {
   "interpreter": {
    "hash": "601ca906c358f79a24be79d158e974197a945b5107ea69cef8e74e43057d606c"
   }
  }
 },
 "nbformat": 4,
 "nbformat_minor": 5
}
