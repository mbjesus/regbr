{
 "cells": [
  {
   "cell_type": "code",
   "execution_count": 1,
   "id": "2547249d",
   "metadata": {},
   "outputs": [
    {
     "name": "stderr",
     "output_type": "stream",
     "text": [
      "[nltk_data] Downloading package punkt to\n",
      "[nltk_data]     C:\\Users\\mbjesus\\AppData\\Roaming\\nltk_data...\n",
      "[nltk_data]   Package punkt is already up-to-date!\n"
     ]
    }
   ],
   "source": [
    "#https://www.analyticsvidhya.com/blog/2020/06/nlp-project-information-extraction/\n",
    "    \n",
    "from urllib.request import urlopen\n",
    "from random import seed, randint\n",
    "from src.preprocessing import PreProcessing\n",
    "from src.sentenceregbr import SentenceRegBr\n",
    "import os\n",
    "from pathlib import Path\n",
    "import pandas as pd\n",
    "import codecs\n"
   ]
  },
  {
   "cell_type": "code",
   "execution_count": 2,
   "id": "833b21cf",
   "metadata": {},
   "outputs": [
    {
     "name": "stdout",
     "output_type": "stream",
     "text": [
      "  Abbreviation: [1.7426] art\n",
      "  Abbreviation: [1.9803] art\n"
     ]
    }
   ],
   "source": [
    "# seed random number generator\n",
    "seed(16)\n",
    "BASE_DIR = Path(os.path.abspath('')).resolve()\n",
    "objPreProcessing = PreProcessing()\n",
    "objSentecesRegBr = SentenceRegBr()"
   ]
  },
  {
   "cell_type": "markdown",
   "id": "dcf0d065",
   "metadata": {},
   "source": [
    "### ProcessText"
   ]
  },
  {
   "cell_type": "markdown",
   "id": "aa64265f",
   "metadata": {},
   "source": [
    "#### Insert DocBase"
   ]
  },
  {
   "cell_type": "code",
   "execution_count": 3,
   "id": "2850e010",
   "metadata": {},
   "outputs": [],
   "source": [
    "## Saving dataset\n",
    "#dfBaseLegis = pd.read_json(Path(os.path.join(BASE_DIR,'dataset', 'legislacao.json')))\n",
    "#dfBaseLegis.to_parquet(Path(os.path.join(BASE_DIR,'dataset', 'processed','legislacao_base.parquet')), engine='fastparquet')"
   ]
  },
  {
   "cell_type": "code",
   "execution_count": 4,
   "id": "7ad25956",
   "metadata": {},
   "outputs": [
    {
     "name": "stdout",
     "output_type": "stream",
     "text": [
      "<class 'pandas.core.frame.DataFrame'>\n",
      "RangeIndex: 35 entries, 0 to 34\n",
      "Data columns (total 6 columns):\n",
      " #   Column       Non-Null Count  Dtype \n",
      "---  ------       --------------  ----- \n",
      " 0   path         35 non-null     object\n",
      " 1   id_doc_base  35 non-null     object\n",
      " 2   name         35 non-null     object\n",
      " 3   esfera       35 non-null     object\n",
      " 4   cat          35 non-null     object\n",
      " 5   ementa       35 non-null     object\n",
      "dtypes: object(6)\n",
      "memory usage: 1.8+ KB\n"
     ]
    }
   ],
   "source": [
    "dfBaseLegis = pd.read_parquet(Path(os.path.join(BASE_DIR,'dataset', 'processed','legislacao_base.parquet')), engine='fastparquet')\n",
    "\n",
    "def __correctingIdDocBase(idDocBase):\n",
    "    if(str(idDocBase) == 'L1309'):\n",
    "        idDocBase =  'L13019' \n",
    "    return idDocBase\n",
    "\n",
    "dfBaseLegis[\"id_doc_base\"] = dfBaseLegis[\"id_doc_base\"].apply(lambda x:__correctingIdDocBase(x))\n",
    "dfBaseLegis.info()"
   ]
  },
  {
   "cell_type": "markdown",
   "id": "99c720d2",
   "metadata": {},
   "source": [
    "### Load text end sentences"
   ]
  },
  {
   "cell_type": "markdown",
   "id": "2ca23118",
   "metadata": {},
   "source": [
    "#### Building the \"third sector\" dataset for expert evaluation\n"
   ]
  },
  {
   "cell_type": "code",
   "execution_count": 5,
   "id": "bd1bb116",
   "metadata": {},
   "outputs": [
    {
     "name": "stderr",
     "output_type": "stream",
     "text": [
      "[nltk_data] Downloading package stopwords to\n",
      "[nltk_data]     C:\\Users\\mbjesus\\AppData\\Roaming\\nltk_data...\n",
      "[nltk_data]   Package stopwords is already up-to-date!\n",
      "[nltk_data] Downloading package punkt to\n",
      "[nltk_data]     C:\\Users\\mbjesus\\AppData\\Roaming\\nltk_data...\n",
      "[nltk_data]   Package punkt is already up-to-date!\n"
     ]
    }
   ],
   "source": [
    "dfSentenca = pd.DataFrame()\n",
    "\n",
    "for index,row in dfBaseLegis.iterrows():\n",
    "\n",
    "    data_location = Path(os.path.join(BASE_DIR,'dataset','html',f'{row[\"path\"]}'))\n",
    "    text = objPreProcessing.getTextFromHTML(data_location)\n",
    "    text = objPreProcessing.clearText(text[150:len(text)-300])\n",
    "    sentenceList = objSentecesRegBr.getSentencesRegBrFormat(text,row[\"id_doc_base\"],row[\"cat\"])\n",
    "\n",
    "    if row['cat'] == 'terceiro_setor':\n",
    "        output_dict = [x['text_sentenca'] for x in sentenceList if x['cat_sentenca'] == 'terceiro_setor']\n",
    "\n",
    "        if(len(output_dict)) > 0:\n",
    "            with open(Path(os.path.join(BASE_DIR,'dataset','sentences','to_evaluate',f'{row[\"path\"]}.txt')), 'w', encoding='utf-8') as infile:\n",
    "                for line in output_dict:\n",
    "                    infile.write(line)\n",
    "                    infile.write('\\n \\n')\n",
    "    else:\n",
    "       dfSentenca = pd.concat([dfSentenca,pd.DataFrame(sentenceList)])\n"
   ]
  },
  {
   "cell_type": "code",
   "execution_count": 6,
   "id": "9a1e163d",
   "metadata": {},
   "outputs": [
    {
     "data": {
      "text/html": [
       "<div>\n",
       "<style scoped>\n",
       "    .dataframe tbody tr th:only-of-type {\n",
       "        vertical-align: middle;\n",
       "    }\n",
       "\n",
       "    .dataframe tbody tr th {\n",
       "        vertical-align: top;\n",
       "    }\n",
       "\n",
       "    .dataframe thead th {\n",
       "        text-align: right;\n",
       "    }\n",
       "</style>\n",
       "<table border=\"1\" class=\"dataframe\">\n",
       "  <thead>\n",
       "    <tr style=\"text-align: right;\">\n",
       "      <th></th>\n",
       "      <th>id_sentenca</th>\n",
       "      <th>ordem</th>\n",
       "      <th>id_doc_base</th>\n",
       "      <th>tokens_total</th>\n",
       "      <th>tokens_no_stopwords</th>\n",
       "      <th>cat_sentenca</th>\n",
       "      <th>text_sentenca</th>\n",
       "    </tr>\n",
       "  </thead>\n",
       "  <tbody>\n",
       "    <tr>\n",
       "      <th>0</th>\n",
       "      <td>L14133_SENT_9223</td>\n",
       "      <td>2</td>\n",
       "      <td>L14133</td>\n",
       "      <td>105</td>\n",
       "      <td>65</td>\n",
       "      <td>licitacoes</td>\n",
       "      <td>O PRESIDENTE DA REPÚBLICA FAÇO SABER QUE O CON...</td>\n",
       "    </tr>\n",
       "    <tr>\n",
       "      <th>1</th>\n",
       "      <td>L14133_SENT_9957</td>\n",
       "      <td>3</td>\n",
       "      <td>L14133</td>\n",
       "      <td>38</td>\n",
       "      <td>22</td>\n",
       "      <td>licitacoes</td>\n",
       "      <td>NÃO SÃO ABRANGIDAS POR ESTA LEI AS EMPRESAS PÚ...</td>\n",
       "    </tr>\n",
       "  </tbody>\n",
       "</table>\n",
       "</div>"
      ],
      "text/plain": [
       "        id_sentenca  ordem id_doc_base  tokens_total  tokens_no_stopwords  \\\n",
       "0  L14133_SENT_9223      2      L14133           105                   65   \n",
       "1  L14133_SENT_9957      3      L14133            38                   22   \n",
       "\n",
       "  cat_sentenca                                      text_sentenca  \n",
       "0   licitacoes  O PRESIDENTE DA REPÚBLICA FAÇO SABER QUE O CON...  \n",
       "1   licitacoes  NÃO SÃO ABRANGIDAS POR ESTA LEI AS EMPRESAS PÚ...  "
      ]
     },
     "execution_count": 6,
     "metadata": {},
     "output_type": "execute_result"
    }
   ],
   "source": [
    "dfSentenca.head(2)"
   ]
  },
  {
   "cell_type": "code",
   "execution_count": 7,
   "id": "7a6ae937",
   "metadata": {},
   "outputs": [
    {
     "name": "stdout",
     "output_type": "stream",
     "text": [
      "<class 'pandas.core.frame.DataFrame'>\n",
      "Int64Index: 6200 entries, 0 to 729\n",
      "Data columns (total 7 columns):\n",
      " #   Column               Non-Null Count  Dtype \n",
      "---  ------               --------------  ----- \n",
      " 0   id_sentenca          6200 non-null   object\n",
      " 1   ordem                6200 non-null   int64 \n",
      " 2   id_doc_base          6200 non-null   object\n",
      " 3   tokens_total         6200 non-null   int64 \n",
      " 4   tokens_no_stopwords  6200 non-null   int64 \n",
      " 5   cat_sentenca         6200 non-null   object\n",
      " 6   text_sentenca        6200 non-null   object\n",
      "dtypes: int64(3), object(4)\n",
      "memory usage: 387.5+ KB\n"
     ]
    }
   ],
   "source": [
    "dfSentenca.info()"
   ]
  },
  {
   "cell_type": "markdown",
   "id": "b7149e12",
   "metadata": {},
   "source": [
    "#### Getting sentences evaluated by experts"
   ]
  },
  {
   "cell_type": "code",
   "execution_count": 8,
   "id": "af4eb9eb",
   "metadata": {},
   "outputs": [],
   "source": [
    "pathFilesAlProc = Path(os.path.join(BASE_DIR,'dataset','sentences','already_evaluated'))\n",
    "for root, subdirs, files in os.walk(pathFilesAlProc):\n",
    "    for filename in files:\n",
    "        id = filename.split('.')[0]\n",
    "        with codecs.open(Path(os.path.join(pathFilesAlProc,filename)), encoding='utf-8') as f:\n",
    "                sentences = [line.strip() for line in f.readlines() if line.strip() != '']\n",
    "\n",
    "        for sentence in sentences:\n",
    "            sentence = objPreProcessing.clearText(sentence)\n",
    "            sentenceList = objSentecesRegBr.getSentencesRegBrFormat(sentence,id,\"terceiro_setor\")\n",
    " \n",
    "            dfSentenca = pd.concat([dfSentenca,pd.DataFrame(sentenceList)])\n",
    "\n"
   ]
  },
  {
   "cell_type": "code",
   "execution_count": 9,
   "id": "b24d146b",
   "metadata": {},
   "outputs": [
    {
     "name": "stdout",
     "output_type": "stream",
     "text": [
      "<class 'pandas.core.frame.DataFrame'>\n",
      "Int64Index: 7312 entries, 0 to 3\n",
      "Data columns (total 7 columns):\n",
      " #   Column               Non-Null Count  Dtype \n",
      "---  ------               --------------  ----- \n",
      " 0   id_sentenca          7312 non-null   object\n",
      " 1   ordem                7312 non-null   int64 \n",
      " 2   id_doc_base          7312 non-null   object\n",
      " 3   tokens_total         7312 non-null   int64 \n",
      " 4   tokens_no_stopwords  7312 non-null   int64 \n",
      " 5   cat_sentenca         7312 non-null   object\n",
      " 6   text_sentenca        7312 non-null   object\n",
      "dtypes: int64(3), object(4)\n",
      "memory usage: 457.0+ KB\n"
     ]
    }
   ],
   "source": [
    "dfSentenca.info()"
   ]
  },
  {
   "cell_type": "code",
   "execution_count": 10,
   "id": "d3f27ea8",
   "metadata": {},
   "outputs": [],
   "source": [
    "dfBaseLegis = pd.merge(dfBaseLegis,dfSentenca,on=\"id_doc_base\", how=\"left\")"
   ]
  },
  {
   "cell_type": "code",
   "execution_count": 11,
   "id": "399cd751",
   "metadata": {},
   "outputs": [
    {
     "name": "stdout",
     "output_type": "stream",
     "text": [
      "<class 'pandas.core.frame.DataFrame'>\n",
      "Int64Index: 7498 entries, 0 to 7497\n",
      "Data columns (total 12 columns):\n",
      " #   Column               Non-Null Count  Dtype \n",
      "---  ------               --------------  ----- \n",
      " 0   path                 7498 non-null   object\n",
      " 1   id_doc_base          7498 non-null   object\n",
      " 2   name                 7498 non-null   object\n",
      " 3   esfera               7498 non-null   object\n",
      " 4   cat                  7498 non-null   object\n",
      " 5   ementa               7498 non-null   object\n",
      " 6   id_sentenca          7498 non-null   object\n",
      " 7   ordem                7498 non-null   int64 \n",
      " 8   tokens_total         7498 non-null   int64 \n",
      " 9   tokens_no_stopwords  7498 non-null   int64 \n",
      " 10  cat_sentenca         7498 non-null   object\n",
      " 11  text_sentenca        7498 non-null   object\n",
      "dtypes: int64(3), object(9)\n",
      "memory usage: 761.5+ KB\n"
     ]
    }
   ],
   "source": [
    "dfBaseLegis.info()"
   ]
  },
  {
   "cell_type": "code",
   "execution_count": 12,
   "id": "73b1a6fe",
   "metadata": {},
   "outputs": [
    {
     "data": {
      "text/html": [
       "<div>\n",
       "<style scoped>\n",
       "    .dataframe tbody tr th:only-of-type {\n",
       "        vertical-align: middle;\n",
       "    }\n",
       "\n",
       "    .dataframe tbody tr th {\n",
       "        vertical-align: top;\n",
       "    }\n",
       "\n",
       "    .dataframe thead th {\n",
       "        text-align: right;\n",
       "    }\n",
       "</style>\n",
       "<table border=\"1\" class=\"dataframe\">\n",
       "  <thead>\n",
       "    <tr style=\"text-align: right;\">\n",
       "      <th></th>\n",
       "      <th>path</th>\n",
       "      <th>id_doc_base</th>\n",
       "      <th>name</th>\n",
       "      <th>esfera</th>\n",
       "      <th>cat</th>\n",
       "      <th>ementa</th>\n",
       "      <th>id_sentenca</th>\n",
       "      <th>ordem</th>\n",
       "      <th>tokens_total</th>\n",
       "      <th>tokens_no_stopwords</th>\n",
       "      <th>cat_sentenca</th>\n",
       "      <th>text_sentenca</th>\n",
       "    </tr>\n",
       "  </thead>\n",
       "  <tbody>\n",
       "    <tr>\n",
       "      <th>0</th>\n",
       "      <td>L13019.htm</td>\n",
       "      <td>L13019</td>\n",
       "      <td>LEI 13.019, DE 31 DE JULHO DE 2014</td>\n",
       "      <td>federal</td>\n",
       "      <td>terceiro_setor</td>\n",
       "      <td>Estabelece o regime jurídico das parcerias ent...</td>\n",
       "      <td>L13019_SENT_5181</td>\n",
       "      <td>1</td>\n",
       "      <td>85</td>\n",
       "      <td>48</td>\n",
       "      <td>terceiro_setor</td>\n",
       "      <td>ESTABELECE O REGIME JURÍDICO DAS PARCERIAS VOL...</td>\n",
       "    </tr>\n",
       "    <tr>\n",
       "      <th>1</th>\n",
       "      <td>L13019.htm</td>\n",
       "      <td>L13019</td>\n",
       "      <td>LEI 13.019, DE 31 DE JULHO DE 2014</td>\n",
       "      <td>federal</td>\n",
       "      <td>terceiro_setor</td>\n",
       "      <td>Estabelece o regime jurídico das parcerias ent...</td>\n",
       "      <td>L13019_SENT_792</td>\n",
       "      <td>1</td>\n",
       "      <td>99</td>\n",
       "      <td>55</td>\n",
       "      <td>terceiro_setor</td>\n",
       "      <td>ESTABELECE O REGIME JURÍDICO DAS PARCERIAS ENT...</td>\n",
       "    </tr>\n",
       "    <tr>\n",
       "      <th>2</th>\n",
       "      <td>L13019.htm</td>\n",
       "      <td>L13019</td>\n",
       "      <td>LEI 13.019, DE 31 DE JULHO DE 2014</td>\n",
       "      <td>federal</td>\n",
       "      <td>terceiro_setor</td>\n",
       "      <td>Estabelece o regime jurídico das parcerias ent...</td>\n",
       "      <td>L13019_SENT_6932</td>\n",
       "      <td>1</td>\n",
       "      <td>86</td>\n",
       "      <td>51</td>\n",
       "      <td>terceiro_setor</td>\n",
       "      <td>ESTA LEI INSTITUI NORMAS GERAIS PARA AS PARCER...</td>\n",
       "    </tr>\n",
       "  </tbody>\n",
       "</table>\n",
       "</div>"
      ],
      "text/plain": [
       "         path id_doc_base                                name   esfera  \\\n",
       "0  L13019.htm      L13019  LEI 13.019, DE 31 DE JULHO DE 2014  federal   \n",
       "1  L13019.htm      L13019  LEI 13.019, DE 31 DE JULHO DE 2014  federal   \n",
       "2  L13019.htm      L13019  LEI 13.019, DE 31 DE JULHO DE 2014  federal   \n",
       "\n",
       "              cat                                             ementa  \\\n",
       "0  terceiro_setor  Estabelece o regime jurídico das parcerias ent...   \n",
       "1  terceiro_setor  Estabelece o regime jurídico das parcerias ent...   \n",
       "2  terceiro_setor  Estabelece o regime jurídico das parcerias ent...   \n",
       "\n",
       "        id_sentenca  ordem  tokens_total  tokens_no_stopwords    cat_sentenca  \\\n",
       "0  L13019_SENT_5181      1            85                   48  terceiro_setor   \n",
       "1   L13019_SENT_792      1            99                   55  terceiro_setor   \n",
       "2  L13019_SENT_6932      1            86                   51  terceiro_setor   \n",
       "\n",
       "                                       text_sentenca  \n",
       "0  ESTABELECE O REGIME JURÍDICO DAS PARCERIAS VOL...  \n",
       "1  ESTABELECE O REGIME JURÍDICO DAS PARCERIAS ENT...  \n",
       "2  ESTA LEI INSTITUI NORMAS GERAIS PARA AS PARCER...  "
      ]
     },
     "execution_count": 12,
     "metadata": {},
     "output_type": "execute_result"
    }
   ],
   "source": [
    "dfBaseLegis.head(3)"
   ]
  },
  {
   "cell_type": "code",
   "execution_count": 13,
   "id": "20a12717",
   "metadata": {},
   "outputs": [],
   "source": [
    "## Saving dataset\n",
    "dfBaseLegis.to_parquet(Path(os.path.join(BASE_DIR,'dataset', 'processed','legislacao_base_sentencas.parquet')), engine='fastparquet')\n",
    "dfBaseLegis.to_excel(Path(os.path.join(BASE_DIR,'dataset', 'processed','legislacao_base_sentencas.xlsx')), index=False)"
   ]
  },
  {
   "cell_type": "code",
   "execution_count": null,
   "id": "8864cba7",
   "metadata": {},
   "outputs": [],
   "source": []
  }
 ],
 "metadata": {
  "kernelspec": {
   "display_name": "Python 3.8.13 ('regbrvenv')",
   "language": "python",
   "name": "python3"
  },
  "language_info": {
   "codemirror_mode": {
    "name": "ipython",
    "version": 3
   },
   "file_extension": ".py",
   "mimetype": "text/x-python",
   "name": "python",
   "nbconvert_exporter": "python",
   "pygments_lexer": "ipython3",
   "version": "3.8.13"
  },
  "vscode": {
   "interpreter": {
    "hash": "b754f63aaf9e10d02f924e7b04aafdd9de90253e0b56e0739e6c25855cdf6262"
   }
  }
 },
 "nbformat": 4,
 "nbformat_minor": 5
}
